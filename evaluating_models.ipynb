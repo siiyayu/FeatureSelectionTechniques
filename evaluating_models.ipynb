{
 "cells": [
  {
   "cell_type": "code",
   "execution_count": 1,
   "id": "initial_id",
   "metadata": {
    "collapsed": true,
    "ExecuteTime": {
     "end_time": "2024-12-07T22:57:15.012016Z",
     "start_time": "2024-12-07T22:57:14.731616Z"
    }
   },
   "outputs": [],
   "source": [
    "import numpy as np\n",
    "import pandas as pd\n",
    "from sklearn.base import BaseEstimator, TransformerMixin\n",
    "from sklearn.pipeline import Pipeline\n",
    "from sklearn.ensemble import RandomForestRegressor\n",
    "from sklearn.model_selection import GridSearchCV, KFold\n",
    "from sklearn.linear_model import Lasso, ElasticNet\n",
    "from sklearn.preprocessing import StandardScaler\n",
    "from sklearn.metrics import mean_absolute_error\n",
    "import json\n",
    "from tqdm.notebook import tqdm"
   ]
  },
  {
   "cell_type": "code",
   "execution_count": 2,
   "outputs": [],
   "source": [
    "with open(\"feature_dict.json\", \"r\") as json_file:\n",
    "    feature_dict = json.load(json_file)"
   ],
   "metadata": {
    "collapsed": false,
    "ExecuteTime": {
     "end_time": "2024-12-07T22:57:15.434386Z",
     "start_time": "2024-12-07T22:57:15.423603Z"
    }
   },
   "id": "913e707a972f0019"
  },
  {
   "cell_type": "code",
   "execution_count": 3,
   "outputs": [],
   "source": [
    "df = pd.read_csv('train_prepared_for_cv.csv')"
   ],
   "metadata": {
    "collapsed": false,
    "ExecuteTime": {
     "end_time": "2024-12-07T22:57:15.930904Z",
     "start_time": "2024-12-07T22:57:15.893712Z"
    }
   },
   "id": "b09e92e9ef7b2c64"
  },
  {
   "cell_type": "code",
   "execution_count": 4,
   "outputs": [
    {
     "data": {
      "text/plain": "Id                 int64\nMSSubClass         int64\nMSZoning          object\nLotFrontage      float64\nLotArea            int64\n                  ...   \nMoSold             int64\nYrSold             int64\nSaleType          object\nSaleCondition     object\nSalePrice          int64\nLength: 80, dtype: object"
     },
     "execution_count": 4,
     "metadata": {},
     "output_type": "execute_result"
    }
   ],
   "source": [
    "df.dtypes"
   ],
   "metadata": {
    "collapsed": false,
    "ExecuteTime": {
     "end_time": "2024-12-07T22:57:16.188934Z",
     "start_time": "2024-12-07T22:57:16.165851Z"
    }
   },
   "id": "1d079965cfb77b7b"
  },
  {
   "cell_type": "code",
   "execution_count": 5,
   "outputs": [
    {
     "data": {
      "text/plain": "357"
     },
     "execution_count": 5,
     "metadata": {},
     "output_type": "execute_result"
    }
   ],
   "source": [
    "sum(df.isna().sum())"
   ],
   "metadata": {
    "collapsed": false,
    "ExecuteTime": {
     "end_time": "2024-12-07T22:57:16.580422Z",
     "start_time": "2024-12-07T22:57:16.554629Z"
    }
   },
   "id": "7a45958acf53e1bb"
  },
  {
   "cell_type": "code",
   "execution_count": 6,
   "outputs": [],
   "source": [
    "X = df.drop(columns=['Id', 'SalePrice'])\n",
    "y = df['SalePrice']"
   ],
   "metadata": {
    "collapsed": false,
    "ExecuteTime": {
     "end_time": "2024-12-07T22:57:17.477725Z",
     "start_time": "2024-12-07T22:57:17.435550Z"
    }
   },
   "id": "f138d835956db151"
  },
  {
   "cell_type": "code",
   "execution_count": 7,
   "outputs": [],
   "source": [
    "numeric_cols = [col for col in X.columns if X[col].dtype in ['int64', 'float64']]\n",
    "numeric_cols.remove(\"MSSubClass\")\n",
    "categorical_cols = [col for col in X.columns if col not in numeric_cols]\n",
    "ordinal_encode_cols = [\"ExterQual\", \"ExterCond\", \"BsmtQual\", \"BsmtCond\", \"BsmtExposure\", \"HeatingQC\", \"KitchenQual\", \"FireplaceQu\", \"GarageQual\", \"GarageCond\", \"PoolQC\", \"Street\", \"Alley\", \"PavedDrive\"]\n",
    "label_encode_cols = [col for col in categorical_cols if col not in ordinal_encode_cols]\n",
    "ohe_encode_cols = label_encode_cols"
   ],
   "metadata": {
    "collapsed": false,
    "ExecuteTime": {
     "end_time": "2024-12-07T22:57:17.648136Z",
     "start_time": "2024-12-07T22:57:17.558273Z"
    }
   },
   "id": "eca012eefd694f41"
  },
  {
   "cell_type": "code",
   "execution_count": 8,
   "outputs": [
    {
     "name": "stdout",
     "output_type": "stream",
     "text": [
      "['LotFrontage', 'LotArea', 'OverallQual', 'OverallCond', 'YearBuilt', 'YearRemodAdd', 'MasVnrArea', 'BsmtFinSF1', 'BsmtFinSF2', 'BsmtUnfSF', 'TotalBsmtSF', '1stFlrSF', '2ndFlrSF', 'LowQualFinSF', 'GrLivArea', 'BsmtFullBath', 'BsmtHalfBath', 'FullBath', 'HalfBath', 'BedroomAbvGr', 'KitchenAbvGr', 'TotRmsAbvGrd', 'Fireplaces', 'GarageYrBlt', 'GarageCars', 'GarageArea', 'WoodDeckSF', 'OpenPorchSF', 'EnclosedPorch', '3SsnPorch', 'ScreenPorch', 'PoolArea', 'MiscVal', 'MoSold', 'YrSold']\n"
     ]
    }
   ],
   "source": [
    "print(numeric_cols)"
   ],
   "metadata": {
    "collapsed": false,
    "ExecuteTime": {
     "end_time": "2024-12-07T22:57:17.992466Z",
     "start_time": "2024-12-07T22:57:17.988066Z"
    }
   },
   "id": "6b854cb8fbdefb70"
  },
  {
   "cell_type": "code",
   "execution_count": 9,
   "outputs": [
    {
     "name": "stdout",
     "output_type": "stream",
     "text": [
      "['MSSubClass', 'MSZoning', 'Street', 'Alley', 'LotShape', 'LandContour', 'Utilities', 'LotConfig', 'LandSlope', 'Neighborhood', 'Condition1', 'Condition2', 'BldgType', 'HouseStyle', 'RoofStyle', 'RoofMatl', 'Exterior1st', 'Exterior2nd', 'MasVnrType', 'ExterQual', 'ExterCond', 'Foundation', 'BsmtQual', 'BsmtCond', 'BsmtExposure', 'BsmtFinType1', 'Heating', 'HeatingQC', 'CentralAir', 'Electrical', 'KitchenQual', 'Functional', 'FireplaceQu', 'GarageType', 'GarageFinish', 'GarageQual', 'GarageCond', 'PavedDrive', 'PoolQC', 'Fence', 'MiscFeature', 'SaleType', 'SaleCondition']\n"
     ]
    }
   ],
   "source": [
    "print(categorical_cols)"
   ],
   "metadata": {
    "collapsed": false,
    "ExecuteTime": {
     "end_time": "2024-12-07T22:57:18.680888Z",
     "start_time": "2024-12-07T22:57:18.675541Z"
    }
   },
   "id": "b1e73ae55ee215"
  },
  {
   "cell_type": "code",
   "execution_count": 10,
   "outputs": [
    {
     "name": "stdout",
     "output_type": "stream",
     "text": [
      "['ExterQual', 'ExterCond', 'BsmtQual', 'BsmtCond', 'BsmtExposure', 'HeatingQC', 'KitchenQual', 'FireplaceQu', 'GarageQual', 'GarageCond', 'PoolQC', 'Street', 'Alley', 'PavedDrive']\n"
     ]
    }
   ],
   "source": [
    "print(ordinal_encode_cols)"
   ],
   "metadata": {
    "collapsed": false,
    "ExecuteTime": {
     "end_time": "2024-12-07T22:57:19.042865Z",
     "start_time": "2024-12-07T22:57:19.038086Z"
    }
   },
   "id": "95b06b99e9c4c90"
  },
  {
   "cell_type": "code",
   "execution_count": 11,
   "outputs": [
    {
     "name": "stdout",
     "output_type": "stream",
     "text": [
      "['MSSubClass', 'MSZoning', 'LotShape', 'LandContour', 'Utilities', 'LotConfig', 'LandSlope', 'Neighborhood', 'Condition1', 'Condition2', 'BldgType', 'HouseStyle', 'RoofStyle', 'RoofMatl', 'Exterior1st', 'Exterior2nd', 'MasVnrType', 'Foundation', 'BsmtFinType1', 'Heating', 'CentralAir', 'Electrical', 'Functional', 'GarageType', 'GarageFinish', 'Fence', 'MiscFeature', 'SaleType', 'SaleCondition']\n"
     ]
    }
   ],
   "source": [
    "print(label_encode_cols)"
   ],
   "metadata": {
    "collapsed": false,
    "ExecuteTime": {
     "end_time": "2024-12-07T22:57:19.333135Z",
     "start_time": "2024-12-07T22:57:19.328440Z"
    }
   },
   "id": "abf37e3ab031eb3"
  },
  {
   "cell_type": "code",
   "execution_count": 12,
   "outputs": [
    {
     "name": "stdout",
     "output_type": "stream",
     "text": [
      "43\n",
      "14 29 29\n",
      "43\n",
      "35\n",
      "78\n"
     ]
    }
   ],
   "source": [
    "print(len(categorical_cols))\n",
    "print(len(ordinal_encode_cols), len(label_encode_cols), len(ohe_encode_cols))\n",
    "print(len(ordinal_encode_cols) + len(label_encode_cols))\n",
    "print(len(numeric_cols))\n",
    "print(len(numeric_cols) + len(categorical_cols))"
   ],
   "metadata": {
    "collapsed": false,
    "ExecuteTime": {
     "end_time": "2024-12-07T22:57:20.269522Z",
     "start_time": "2024-12-07T22:57:20.265254Z"
    }
   },
   "id": "5cbbbdb14ae51685"
  },
  {
   "cell_type": "code",
   "execution_count": 13,
   "outputs": [
    {
     "name": "stdout",
     "output_type": "stream",
     "text": [
      "{'ExterQual': {'Po': 1, 'Fa': 2, 'TA': 3, 'Gd': 4, 'Ex': 5, 'No_item': -1}, 'ExterCond': {'Po': 1, 'Fa': 2, 'TA': 3, 'Gd': 4, 'Ex': 5, 'No_item': -1}, 'BsmtQual': {'Po': 2, 'Fa': 3, 'TA': 4, 'Gd': 5, 'Ex': 6, 'No_item': -1}, 'BsmtCond': {'Po': 2, 'Fa': 3, 'TA': 4, 'Gd': 5, 'Ex': 6, 'No_item': -1}, 'BsmtExposure': {'No': 2, 'Mn': 3, 'Av': 4, 'Gd': 5, 'No_item': -1}, 'HeatingQC': {'Po': 1, 'Fa': 2, 'TA': 3, 'Gd': 4, 'Ex': 5, 'No_item': -1}, 'KitchenQual': {'Po': 1, 'Fa': 2, 'TA': 3, 'Gd': 4, 'Ex': 5, 'No_item': -1}, 'FireplaceQu': {'Po': 2, 'Fa': 3, 'TA': 4, 'Gd': 5, 'Ex': 6, 'No_item': -1}, 'GarageQual': {'Po': 2, 'Fa': 3, 'TA': 4, 'Gd': 5, 'Ex': 6, 'No_item': -1}, 'GarageCond': {'Po': 2, 'Fa': 3, 'TA': 4, 'Gd': 5, 'Ex': 6, 'No_item': -1}, 'PoolQC': {'Fa': 2, 'TA': 3, 'Gd': 4, 'Ex': 5, 'No_item': -1}, 'Street': {'Grvl': 1, 'Pave': 2, 'No_item': -1}, 'Alley': {'Grvl': 2, 'Pave': 3, 'No_item': -1}, 'PavedDrive': {'N': 1, 'P': 2, 'Y': 3, 'No_item': -1}}\n"
     ]
    }
   ],
   "source": [
    "ordinal_mappings = {}\n",
    "\n",
    "for col in ordinal_encode_cols:\n",
    "    if col in X.columns and col in feature_dict:\n",
    "        all_values = list(feature_dict[col][\"values\"].keys())  # Extract and preserve the order of values from the dict\n",
    "        mapping = {category: rank for rank, category in enumerate(reversed(all_values), start=1)}  # Encode in the dict order\n",
    "        mapping[\"No_item\"] = -1\n",
    "        if \"NA\" in mapping.keys():\n",
    "            del mapping[\"NA\"]\n",
    "        ordinal_mappings[col] = mapping\n",
    "        \n",
    "def safe_map(value, mapping):\n",
    "    if value not in mapping:\n",
    "        raise ValueError(f\"Value '{value}' not found in the mapping!\")\n",
    "    return mapping[value]\n",
    "\n",
    "def ordinal_encode_column(X, mappings):\n",
    "    encoded = X.copy()\n",
    "    for col in X.columns:\n",
    "        if col in mappings:\n",
    "            encoded[col] = X.apply(lambda x: safe_map(x, mappings[col]))\n",
    "    return encoded\n",
    "\n",
    "print(ordinal_mappings)"
   ],
   "metadata": {
    "collapsed": false,
    "ExecuteTime": {
     "end_time": "2024-12-07T22:57:21.002922Z",
     "start_time": "2024-12-07T22:57:20.993299Z"
    }
   },
   "id": "b14a0eeac526a673"
  },
  {
   "cell_type": "code",
   "execution_count": 14,
   "outputs": [
    {
     "name": "stdout",
     "output_type": "stream",
     "text": [
      "{'MSSubClass': {'190': 1, '180': 2, '160': 3, '150': 4, '120': 5, '90': 6, '85': 7, '80': 8, '75': 9, '70': 10, '60': 11, '50': 12, '45': 13, '40': 14, '30': 15, '20': 16, 'No_item': -1}, 'MSZoning': {'RM': 1, 'RP': 2, 'RL': 3, 'RH': 4, 'I': 5, 'FV': 6, 'C': 7, 'A': 8, 'No_item': -1}, 'LotShape': {'IR3': 1, 'IR2': 2, 'IR1': 3, 'Reg': 4, 'No_item': -1}, 'LandContour': {'Low': 1, 'HLS': 2, 'Bnk': 3, 'Lvl': 4, 'No_item': -1}, 'Utilities': {'ELO': 1, 'NoSeWa': 2, 'NoSewr': 3, 'AllPub': 4, 'No_item': -1}, 'LotConfig': {'FR3': 1, 'FR2': 2, 'CulDSac': 3, 'Corner': 4, 'Inside': 5, 'No_item': -1}, 'LandSlope': {'Sev': 1, 'Mod': 2, 'Gtl': 3, 'No_item': -1}, 'Neighborhood': {'Veenker': 1, 'Timber': 2, 'StoneBr': 3, 'Somerst': 4, 'SawyerW': 5, 'Sawyer': 6, 'SWISU': 7, 'OldTown': 8, 'NWAmes': 9, 'NridgHt': 10, 'NPkVill': 11, 'NoRidge': 12, 'Names': 13, 'Mitchel': 14, 'MeadowV': 15, 'IDOTRR': 16, 'Gilbert': 17, 'Edwards': 18, 'Crawfor': 19, 'CollgCr': 20, 'ClearCr': 21, 'BrkSide': 22, 'BrDale': 23, 'Blueste': 24, 'Blmngtn': 25, 'No_item': -1}, 'Condition1': {'RRAe': 1, 'RRNe': 2, 'PosA': 3, 'PosN': 4, 'RRAn': 5, 'RRNn': 6, 'Norm': 7, 'Feedr': 8, 'Artery': 9, 'No_item': -1}, 'Condition2': {'RRAe': 1, 'RRNe': 2, 'PosA': 3, 'PosN': 4, 'RRAn': 5, 'RRNn': 6, 'Norm': 7, 'Feedr': 8, 'Artery': 9, 'No_item': -1}, 'BldgType': {'TwnhsI': 1, 'TwnhsE': 2, 'Duplx': 3, '2FmCon': 4, '1Fam': 5, 'No_item': -1}, 'HouseStyle': {'SLvl': 1, 'SFoyer': 2, '2.5Unf': 3, '2.5Fin': 4, '2Story': 5, '1.5Unf': 6, '1.5Fin': 7, '1Story': 8, 'No_item': -1}, 'RoofStyle': {'Shed': 1, 'Mansard': 2, 'Hip': 3, 'Gambrel': 4, 'Gable': 5, 'Flat': 6, 'No_item': -1}, 'RoofMatl': {'WdShngl': 1, 'WdShake': 2, 'Tar&Grv': 3, 'Roll': 4, 'Metal': 5, 'Membran': 6, 'CompShg': 7, 'ClyTile': 8, 'No_item': -1}, 'Exterior1st': {'WdShing': 1, 'Wd': 2, 'VinylSd': 3, 'Stucco': 4, 'Stone': 5, 'PreCast': 6, 'Plywood': 7, 'Other': 8, 'MetalSd': 9, 'ImStucc': 10, 'HdBoard': 11, 'CemntBd': 12, 'CBlock': 13, 'BrkFace': 14, 'BrkComm': 15, 'AsphShn': 16, 'AsbShng': 17, 'No_item': -1}, 'Exterior2nd': {'WdShing': 1, 'Wd': 2, 'VinylSd': 3, 'Stucco': 4, 'Stone': 5, 'PreCast': 6, 'Plywood': 7, 'Other': 8, 'MetalSd': 9, 'ImStucc': 10, 'HdBoard': 11, 'CemntBd': 12, 'CBlock': 13, 'BrkFace': 14, 'BrkComm': 15, 'AsphShn': 16, 'AsbShng': 17, 'No_item': -1}, 'MasVnrType': {'Stone': 1, \"df['GarageYrBlt'].fillna(-1)\": 2, 'CBlock': 3, 'BrkFace': 4, 'BrkCmn': 5, 'No_item': -1}, 'Foundation': {'Wood': 1, 'Stone': 2, 'Slab': 3, 'PConc': 4, 'CBlock': 5, 'BrkTil': 6, 'No_item': -1}, 'BsmtFinType1': {'Unf': 2, 'LwQ': 3, 'Rec': 4, 'BLQ': 5, 'ALQ': 6, 'GLQ': 7, 'No_item': -1}, 'Heating': {'Wall': 1, 'OthW': 2, 'Grav': 3, 'GasW': 4, 'GasA': 5, 'Floor': 6, 'No_item': -1}, 'CentralAir': {'N': 1, 'Y': 2, 'No_item': -1}, 'Electrical': {'Mix': 1, 'FuseP': 2, 'FuseF': 3, 'FuseA': 4, 'SBrkr': 5, 'No_item': -1}, 'Functional': {'Sal': 1, 'Sev': 2, 'Maj2': 3, 'Maj1': 4, 'Mod': 5, 'Min2': 6, 'Min1': 7, 'Typ': 8, 'No_item': -1}, 'GarageType': {'Detchd': 2, 'CarPort': 3, 'BuiltIn': 4, 'Basment': 5, 'Attchd': 6, '2Types': 7, 'No_item': -1}, 'GarageFinish': {'Unf': 2, 'RFn': 3, 'Fin': 4, 'No_item': -1}, 'Fence': {'MnWw': 2, 'GdWo': 3, 'MnPrv': 4, 'GdPrv': 5, 'No_item': -1}, 'MiscFeature': {'TenC': 2, 'Shed': 3, 'Othr': 4, 'Gar2': 5, 'Elev': 6, 'No_item': -1}, 'SaleType': {'Oth': 1, 'ConLD': 2, 'ConLI': 3, 'ConLw': 4, 'Con': 5, 'COD': 6, 'New': 7, 'VWD': 8, 'CWD': 9, 'WD': 10, 'No_item': -1}, 'SaleCondition': {'Partial': 1, 'Family': 2, 'Alloca': 3, 'AdjLand': 4, 'Abnorml': 5, 'Normal': 6, 'No_item': -1}}\n"
     ]
    }
   ],
   "source": [
    "label_mappings = {}\n",
    "\n",
    "for col in label_encode_cols:\n",
    "    if col in X.columns and col in feature_dict:\n",
    "        all_values = list(feature_dict[col][\"values\"].keys())  # Extract and preserve the order of values from the dict\n",
    "        mapping = {category: rank for rank, category in enumerate(reversed(all_values), start=1)}  # Encode in the dict order\n",
    "        mapping[\"No_item\"] = -1\n",
    "        if \"NA\" in mapping.keys():\n",
    "            del mapping[\"NA\"]\n",
    "        label_mappings[col] = mapping\n",
    "        \n",
    "def safe_map(value, mapping):\n",
    "    if value not in mapping:\n",
    "        raise ValueError(f\"Value '{value}' not found in the mapping!\")\n",
    "    return mapping[value]\n",
    "\n",
    "def label_encode_column(X, mappings):\n",
    "    encoded = X.copy()\n",
    "    for col in X.columns:\n",
    "        if col in mappings:\n",
    "            encoded[col] = df[col].apply(lambda x: safe_map(x, mappings[col]))\n",
    "    return encoded\n",
    "\n",
    "print(label_mappings)"
   ],
   "metadata": {
    "collapsed": false,
    "ExecuteTime": {
     "end_time": "2024-12-07T22:57:21.495236Z",
     "start_time": "2024-12-07T22:57:21.465073Z"
    }
   },
   "id": "e99291b63f70eaf7"
  },
  {
   "cell_type": "code",
   "execution_count": 15,
   "outputs": [],
   "source": [
    "class DataFramePreprocessor(BaseEstimator, TransformerMixin):\n",
    "    def __init__(self, numeric_cols, ordinal_cols, ohe_cols, label_cols, ordinal_mappings, label_mappings, scale_features_except_ohe=False):\n",
    "        self.numeric_cols = numeric_cols\n",
    "        self.ordinal_cols = ordinal_cols\n",
    "        self.ohe_cols = ohe_cols\n",
    "        self.label_cols = label_cols\n",
    "        self.ordinal_mappings = ordinal_mappings\n",
    "        self.label_mappings = label_mappings\n",
    "        self.ohe_columns_names = None\n",
    "        self.medians = {}\n",
    "        self.modes = {}\n",
    "        self.scaler = StandardScaler()\n",
    "        self.scale_features_except_ohe = scale_features_except_ohe\n",
    "\n",
    "    def fit(self, X, y=None):\n",
    "        self.medians = X[self.numeric_cols].median()\n",
    "        self.modes = X[self.ordinal_cols + self.ohe_cols + self.label_cols].mode().iloc[0]\n",
    "        if self.ohe_cols:\n",
    "            self.ohe_columns_names = []\n",
    "            for col in self.ohe_cols:\n",
    "                if col in feature_dict:\n",
    "                    categories = feature_dict[col][\"values\"].keys()\n",
    "                    for category in categories:\n",
    "                        self.ohe_columns_names.append(f\"{col}_{category}\")\n",
    "                else:\n",
    "                    raise KeyError(f\"Feature {col} not found in feature dictionary\")\n",
    "        return self\n",
    "\n",
    "    def transform(self, X):\n",
    "        X = X.copy()\n",
    "        # filling NA\n",
    "        for col in self.numeric_cols:\n",
    "            X[col] = X[col].fillna(self.medians[col])\n",
    "    \n",
    "        if X.columns.duplicated().any():\n",
    "                raise ValueError(f\"Duplicate column names found: {X.columns[X.columns.duplicated()].tolist()}\")\n",
    "\n",
    "        for col in self.ordinal_cols + self.ohe_cols + self.label_cols:\n",
    "            X[col] = X[col].fillna(self.modes[col])\n",
    "        \n",
    "        for col in self.ordinal_cols:\n",
    "            if col in self.ordinal_mappings:\n",
    "                X[col] = X[col].map(self.ordinal_mappings[col]).fillna(-1)\n",
    "            else:\n",
    "                raise KeyError\n",
    "        \n",
    "        for col in self.label_cols:\n",
    "            if col in self.label_mappings:\n",
    "                X[col] = X[col].map(self.label_mappings[col]).fillna(-1)\n",
    "            else:\n",
    "                raise KeyError\n",
    "        \n",
    "        if self.scale_features_except_ohe == True:\n",
    "            X[self.label_cols + self.ordinal_cols +self.numeric_cols] = self.scaler.fit_transform(X[self.label_cols + self.ordinal_cols +self.numeric_cols])\n",
    "\n",
    "        \n",
    "        if self.ohe_cols:\n",
    "            ohe_encoded = pd.DataFrame(0, index=X.index, columns=self.ohe_columns_names)\n",
    "            for col in self.ohe_cols:\n",
    "                if col in feature_dict:\n",
    "                    categories = feature_dict[col][\"values\"].keys()\n",
    "                    for category in categories:\n",
    "                        ohe_col_name = f\"{col}_{category}\"\n",
    "                        ohe_encoded[ohe_col_name] = (X[col] == category).astype(int)\n",
    "                else:\n",
    "                    raise KeyError(f\"Feature {col} not found in feature dictionary\")\n",
    "            X = X.drop(columns=self.ohe_cols)\n",
    "            X = pd.concat([X, ohe_encoded], axis=1)\n",
    "            \n",
    "        return X"
   ],
   "metadata": {
    "collapsed": false,
    "ExecuteTime": {
     "end_time": "2024-12-07T22:57:21.937121Z",
     "start_time": "2024-12-07T22:57:21.931846Z"
    }
   },
   "id": "f10d32894d09d382"
  },
  {
   "cell_type": "code",
   "execution_count": 16,
   "outputs": [],
   "source": [
    "preprocessor = DataFramePreprocessor(\n",
    "    numeric_cols=numeric_cols,\n",
    "    ordinal_cols=ordinal_encode_cols,\n",
    "    ohe_cols=ohe_encode_cols,\n",
    "    label_cols=[],\n",
    "    ordinal_mappings=ordinal_mappings,\n",
    "    label_mappings=label_mappings,\n",
    "    # scale_features_except_ohe=True\n",
    ")"
   ],
   "metadata": {
    "collapsed": false,
    "ExecuteTime": {
     "end_time": "2024-12-07T22:57:22.642730Z",
     "start_time": "2024-12-07T22:57:22.640122Z"
    }
   },
   "id": "691cc6b207d17575"
  },
  {
   "cell_type": "code",
   "execution_count": 17,
   "outputs": [],
   "source": [
    "# testing preprocessing\n",
    "processed_data = preprocessor.fit_transform(X)"
   ],
   "metadata": {
    "collapsed": false,
    "ExecuteTime": {
     "end_time": "2024-12-07T22:57:23.167670Z",
     "start_time": "2024-12-07T22:57:23.096215Z"
    }
   },
   "id": "19ceabe28a664c32"
  },
  {
   "cell_type": "code",
   "execution_count": 18,
   "outputs": [
    {
     "data": {
      "text/plain": "      LotFrontage  LotArea  Street  Alley  OverallQual  OverallCond  \\\n0            65.0     8450       2     -1            7            5   \n1            80.0     9600       2     -1            6            8   \n2            68.0    11250       2     -1            7            5   \n3            60.0     9550       2     -1            7            5   \n4            84.0    14260       2     -1            8            5   \n...           ...      ...     ...    ...          ...          ...   \n1451         62.0     7917       2     -1            6            5   \n1452         85.0    13175       2     -1            6            6   \n1453         66.0     9042       2     -1            7            9   \n1454         68.0     9717       2     -1            5            6   \n1455         75.0     9937       2     -1            5            6   \n\n      YearBuilt  YearRemodAdd  MasVnrArea  ExterQual  ...  SaleType_ConLw  \\\n0          2003          2003       196.0          4  ...               0   \n1          1976          1976         0.0          3  ...               0   \n2          2001          2002       162.0          4  ...               0   \n3          1915          1970         0.0          3  ...               0   \n4          2000          2000       350.0          4  ...               0   \n...         ...           ...         ...        ...  ...             ...   \n1451       1999          2000         0.0          3  ...               0   \n1452       1978          1988       119.0          3  ...               0   \n1453       1941          2006         0.0          5  ...               0   \n1454       1950          1996         0.0          3  ...               0   \n1455       1965          1965         0.0          4  ...               0   \n\n      SaleType_ConLI  SaleType_ConLD  SaleType_Oth  SaleCondition_Normal  \\\n0                  0               0             0                     1   \n1                  0               0             0                     1   \n2                  0               0             0                     1   \n3                  0               0             0                     0   \n4                  0               0             0                     1   \n...              ...             ...           ...                   ...   \n1451               0               0             0                     1   \n1452               0               0             0                     1   \n1453               0               0             0                     1   \n1454               0               0             0                     1   \n1455               0               0             0                     1   \n\n      SaleCondition_Abnorml  SaleCondition_AdjLand  SaleCondition_Alloca  \\\n0                         0                      0                     0   \n1                         0                      0                     0   \n2                         0                      0                     0   \n3                         1                      0                     0   \n4                         0                      0                     0   \n...                     ...                    ...                   ...   \n1451                      0                      0                     0   \n1452                      0                      0                     0   \n1453                      0                      0                     0   \n1454                      0                      0                     0   \n1455                      0                      0                     0   \n\n      SaleCondition_Family  SaleCondition_Partial  \n0                        0                      0  \n1                        0                      0  \n2                        0                      0  \n3                        0                      0  \n4                        0                      0  \n...                    ...                    ...  \n1451                     0                      0  \n1452                     0                      0  \n1453                     0                      0  \n1454                     0                      0  \n1455                     0                      0  \n\n[1456 rows x 274 columns]",
      "text/html": "<div>\n<style scoped>\n    .dataframe tbody tr th:only-of-type {\n        vertical-align: middle;\n    }\n\n    .dataframe tbody tr th {\n        vertical-align: top;\n    }\n\n    .dataframe thead th {\n        text-align: right;\n    }\n</style>\n<table border=\"1\" class=\"dataframe\">\n  <thead>\n    <tr style=\"text-align: right;\">\n      <th></th>\n      <th>LotFrontage</th>\n      <th>LotArea</th>\n      <th>Street</th>\n      <th>Alley</th>\n      <th>OverallQual</th>\n      <th>OverallCond</th>\n      <th>YearBuilt</th>\n      <th>YearRemodAdd</th>\n      <th>MasVnrArea</th>\n      <th>ExterQual</th>\n      <th>...</th>\n      <th>SaleType_ConLw</th>\n      <th>SaleType_ConLI</th>\n      <th>SaleType_ConLD</th>\n      <th>SaleType_Oth</th>\n      <th>SaleCondition_Normal</th>\n      <th>SaleCondition_Abnorml</th>\n      <th>SaleCondition_AdjLand</th>\n      <th>SaleCondition_Alloca</th>\n      <th>SaleCondition_Family</th>\n      <th>SaleCondition_Partial</th>\n    </tr>\n  </thead>\n  <tbody>\n    <tr>\n      <th>0</th>\n      <td>65.0</td>\n      <td>8450</td>\n      <td>2</td>\n      <td>-1</td>\n      <td>7</td>\n      <td>5</td>\n      <td>2003</td>\n      <td>2003</td>\n      <td>196.0</td>\n      <td>4</td>\n      <td>...</td>\n      <td>0</td>\n      <td>0</td>\n      <td>0</td>\n      <td>0</td>\n      <td>1</td>\n      <td>0</td>\n      <td>0</td>\n      <td>0</td>\n      <td>0</td>\n      <td>0</td>\n    </tr>\n    <tr>\n      <th>1</th>\n      <td>80.0</td>\n      <td>9600</td>\n      <td>2</td>\n      <td>-1</td>\n      <td>6</td>\n      <td>8</td>\n      <td>1976</td>\n      <td>1976</td>\n      <td>0.0</td>\n      <td>3</td>\n      <td>...</td>\n      <td>0</td>\n      <td>0</td>\n      <td>0</td>\n      <td>0</td>\n      <td>1</td>\n      <td>0</td>\n      <td>0</td>\n      <td>0</td>\n      <td>0</td>\n      <td>0</td>\n    </tr>\n    <tr>\n      <th>2</th>\n      <td>68.0</td>\n      <td>11250</td>\n      <td>2</td>\n      <td>-1</td>\n      <td>7</td>\n      <td>5</td>\n      <td>2001</td>\n      <td>2002</td>\n      <td>162.0</td>\n      <td>4</td>\n      <td>...</td>\n      <td>0</td>\n      <td>0</td>\n      <td>0</td>\n      <td>0</td>\n      <td>1</td>\n      <td>0</td>\n      <td>0</td>\n      <td>0</td>\n      <td>0</td>\n      <td>0</td>\n    </tr>\n    <tr>\n      <th>3</th>\n      <td>60.0</td>\n      <td>9550</td>\n      <td>2</td>\n      <td>-1</td>\n      <td>7</td>\n      <td>5</td>\n      <td>1915</td>\n      <td>1970</td>\n      <td>0.0</td>\n      <td>3</td>\n      <td>...</td>\n      <td>0</td>\n      <td>0</td>\n      <td>0</td>\n      <td>0</td>\n      <td>0</td>\n      <td>1</td>\n      <td>0</td>\n      <td>0</td>\n      <td>0</td>\n      <td>0</td>\n    </tr>\n    <tr>\n      <th>4</th>\n      <td>84.0</td>\n      <td>14260</td>\n      <td>2</td>\n      <td>-1</td>\n      <td>8</td>\n      <td>5</td>\n      <td>2000</td>\n      <td>2000</td>\n      <td>350.0</td>\n      <td>4</td>\n      <td>...</td>\n      <td>0</td>\n      <td>0</td>\n      <td>0</td>\n      <td>0</td>\n      <td>1</td>\n      <td>0</td>\n      <td>0</td>\n      <td>0</td>\n      <td>0</td>\n      <td>0</td>\n    </tr>\n    <tr>\n      <th>...</th>\n      <td>...</td>\n      <td>...</td>\n      <td>...</td>\n      <td>...</td>\n      <td>...</td>\n      <td>...</td>\n      <td>...</td>\n      <td>...</td>\n      <td>...</td>\n      <td>...</td>\n      <td>...</td>\n      <td>...</td>\n      <td>...</td>\n      <td>...</td>\n      <td>...</td>\n      <td>...</td>\n      <td>...</td>\n      <td>...</td>\n      <td>...</td>\n      <td>...</td>\n      <td>...</td>\n    </tr>\n    <tr>\n      <th>1451</th>\n      <td>62.0</td>\n      <td>7917</td>\n      <td>2</td>\n      <td>-1</td>\n      <td>6</td>\n      <td>5</td>\n      <td>1999</td>\n      <td>2000</td>\n      <td>0.0</td>\n      <td>3</td>\n      <td>...</td>\n      <td>0</td>\n      <td>0</td>\n      <td>0</td>\n      <td>0</td>\n      <td>1</td>\n      <td>0</td>\n      <td>0</td>\n      <td>0</td>\n      <td>0</td>\n      <td>0</td>\n    </tr>\n    <tr>\n      <th>1452</th>\n      <td>85.0</td>\n      <td>13175</td>\n      <td>2</td>\n      <td>-1</td>\n      <td>6</td>\n      <td>6</td>\n      <td>1978</td>\n      <td>1988</td>\n      <td>119.0</td>\n      <td>3</td>\n      <td>...</td>\n      <td>0</td>\n      <td>0</td>\n      <td>0</td>\n      <td>0</td>\n      <td>1</td>\n      <td>0</td>\n      <td>0</td>\n      <td>0</td>\n      <td>0</td>\n      <td>0</td>\n    </tr>\n    <tr>\n      <th>1453</th>\n      <td>66.0</td>\n      <td>9042</td>\n      <td>2</td>\n      <td>-1</td>\n      <td>7</td>\n      <td>9</td>\n      <td>1941</td>\n      <td>2006</td>\n      <td>0.0</td>\n      <td>5</td>\n      <td>...</td>\n      <td>0</td>\n      <td>0</td>\n      <td>0</td>\n      <td>0</td>\n      <td>1</td>\n      <td>0</td>\n      <td>0</td>\n      <td>0</td>\n      <td>0</td>\n      <td>0</td>\n    </tr>\n    <tr>\n      <th>1454</th>\n      <td>68.0</td>\n      <td>9717</td>\n      <td>2</td>\n      <td>-1</td>\n      <td>5</td>\n      <td>6</td>\n      <td>1950</td>\n      <td>1996</td>\n      <td>0.0</td>\n      <td>3</td>\n      <td>...</td>\n      <td>0</td>\n      <td>0</td>\n      <td>0</td>\n      <td>0</td>\n      <td>1</td>\n      <td>0</td>\n      <td>0</td>\n      <td>0</td>\n      <td>0</td>\n      <td>0</td>\n    </tr>\n    <tr>\n      <th>1455</th>\n      <td>75.0</td>\n      <td>9937</td>\n      <td>2</td>\n      <td>-1</td>\n      <td>5</td>\n      <td>6</td>\n      <td>1965</td>\n      <td>1965</td>\n      <td>0.0</td>\n      <td>4</td>\n      <td>...</td>\n      <td>0</td>\n      <td>0</td>\n      <td>0</td>\n      <td>0</td>\n      <td>1</td>\n      <td>0</td>\n      <td>0</td>\n      <td>0</td>\n      <td>0</td>\n      <td>0</td>\n    </tr>\n  </tbody>\n</table>\n<p>1456 rows × 274 columns</p>\n</div>"
     },
     "execution_count": 18,
     "metadata": {},
     "output_type": "execute_result"
    }
   ],
   "source": [
    "processed_data"
   ],
   "metadata": {
    "collapsed": false,
    "ExecuteTime": {
     "end_time": "2024-12-07T22:57:23.732539Z",
     "start_time": "2024-12-07T22:57:23.693510Z"
    }
   },
   "id": "5201b8a0ba1cf096"
  },
  {
   "cell_type": "markdown",
   "source": [
    "Label encoding for cat features"
   ],
   "metadata": {
    "collapsed": false
   },
   "id": "2007c47b15a05a53"
  },
  {
   "cell_type": "code",
   "execution_count": 190,
   "outputs": [],
   "source": [
    "preprocessor = DataFramePreprocessor(\n",
    "    numeric_cols=numeric_cols,\n",
    "    ordinal_cols=ordinal_encode_cols,\n",
    "    ohe_cols=[],\n",
    "    label_cols=label_encode_cols,\n",
    "    ordinal_mappings=ordinal_mappings,\n",
    "    label_mappings=label_mappings\n",
    ")"
   ],
   "metadata": {
    "collapsed": false,
    "ExecuteTime": {
     "end_time": "2024-12-07T22:57:06.225670Z",
     "start_time": "2024-12-07T22:57:05.997867Z"
    }
   },
   "id": "95e0377ce2a3318"
  },
  {
   "cell_type": "code",
   "execution_count": 21,
   "outputs": [
    {
     "data": {
      "text/plain": "Index(['MSSubClass', 'MSZoning', 'LotFrontage', 'LotArea', 'Street', 'Alley',\n       'LotShape', 'LandContour', 'Utilities', 'LotConfig', 'LandSlope',\n       'Neighborhood', 'Condition1', 'Condition2', 'BldgType', 'HouseStyle',\n       'OverallQual', 'OverallCond', 'YearBuilt', 'YearRemodAdd', 'RoofStyle',\n       'RoofMatl', 'Exterior1st', 'Exterior2nd', 'MasVnrType', 'MasVnrArea',\n       'ExterQual', 'ExterCond', 'Foundation', 'BsmtQual', 'BsmtCond',\n       'BsmtExposure', 'BsmtFinType1', 'BsmtFinSF1', 'BsmtFinSF2', 'BsmtUnfSF',\n       'TotalBsmtSF', 'Heating', 'HeatingQC', 'CentralAir', 'Electrical',\n       '1stFlrSF', '2ndFlrSF', 'LowQualFinSF', 'GrLivArea', 'BsmtFullBath',\n       'BsmtHalfBath', 'FullBath', 'HalfBath', 'BedroomAbvGr', 'KitchenAbvGr',\n       'KitchenQual', 'TotRmsAbvGrd', 'Functional', 'Fireplaces',\n       'FireplaceQu', 'GarageType', 'GarageYrBlt', 'GarageFinish',\n       'GarageCars', 'GarageArea', 'GarageQual', 'GarageCond', 'PavedDrive',\n       'WoodDeckSF', 'OpenPorchSF', 'EnclosedPorch', '3SsnPorch',\n       'ScreenPorch', 'PoolArea', 'PoolQC', 'Fence', 'MiscFeature', 'MiscVal',\n       'MoSold', 'YrSold', 'SaleType', 'SaleCondition'],\n      dtype='object')"
     },
     "execution_count": 21,
     "metadata": {},
     "output_type": "execute_result"
    }
   ],
   "source": [
    "X.columns"
   ],
   "metadata": {
    "collapsed": false,
    "ExecuteTime": {
     "end_time": "2024-12-07T22:58:16.083964Z",
     "start_time": "2024-12-07T22:58:16.068595Z"
    }
   },
   "id": "83f19fa6135844e9"
  },
  {
   "cell_type": "code",
   "execution_count": null,
   "outputs": [],
   "source": [
    "model = RandomForestRegressor(random_state=42)\n",
    "kf = KFold(n_splits=5, shuffle=True, random_state=42)\n",
    "\n",
    "r2 = {\"train\": [], \"test\": []}\n",
    "mae = {\"train\": [], \"test\": []}\n",
    "feature_importances = pd.DataFrame(index=X.columns)\n",
    "\n",
    "for fold, (train_index, test_index) in enumerate(kf.split(X), 1):\n",
    "    X_train, X_test = X.iloc[train_index], X.iloc[test_index]\n",
    "    y_train, y_test = y.iloc[train_index], y.iloc[test_index]\n",
    "    \n",
    "    preprocessor.fit(X_train)\n",
    "    X_train_preprocessed = preprocessor.transform(X_train)\n",
    "    X_test_preprocessed = preprocessor.transform(X_test)\n",
    "    \n",
    "    model.fit(X_train_preprocessed, y_train)\n",
    "    \n",
    "    y_train_pred = model.predict(X_train_preprocessed)\n",
    "    train_mae = mean_absolute_error(y_train, y_train_pred)\n",
    "    train_r2 = model.score(X_train_preprocessed, y_train)\n",
    "    \n",
    "    y_test_pred = model.predict(X_test_preprocessed)\n",
    "    test_mae = mean_absolute_error(y_test, y_test_pred)\n",
    "    test_r2 = model.score(X_test_preprocessed, y_test)\n",
    "    \n",
    "    r2[\"train\"].append(train_r2)\n",
    "    r2[\"test\"].append(test_r2)\n",
    "    mae[\"train\"].append(train_mae)\n",
    "    mae[\"test\"].append(test_mae)\n",
    "\n",
    "    \n",
    "    fold_importances = pd.Series(model.feature_importances_, index=X.columns)\n",
    "    feature_importances = pd.concat([feature_importances, fold_importances], axis=1)\n",
    "\n",
    "feature_importances['mean_importance'] = feature_importances.mean(axis=1)\n",
    "feature_importances = feature_importances[['mean_importance']].sort_values(by='mean_importance', ascending=False)"
   ],
   "metadata": {
    "collapsed": false,
    "ExecuteTime": {
     "start_time": "2024-12-07T22:57:05.998064Z"
    }
   },
   "id": "531bd7af8ba05576"
  },
  {
   "cell_type": "code",
   "execution_count": null,
   "outputs": [],
   "source": [
    "pd.DataFrame.from_dict(mae)"
   ],
   "metadata": {
    "collapsed": false
   },
   "id": "e4afbc8f85f01f00"
  },
  {
   "cell_type": "code",
   "execution_count": null,
   "outputs": [],
   "source": [
    "pd.DataFrame.from_dict(r2)"
   ],
   "metadata": {
    "collapsed": false
   },
   "id": "2aa254f9314ea9b2"
  },
  {
   "cell_type": "code",
   "execution_count": null,
   "outputs": [],
   "source": [
    "feature_importances.sort_values(by=\"mean_importance\", ascending=False)"
   ],
   "metadata": {
    "collapsed": false
   },
   "id": "7a36d17c1356d031"
  },
  {
   "cell_type": "code",
   "execution_count": 39,
   "outputs": [],
   "source": [
    "preprocessor_lasso_label = DataFramePreprocessor(\n",
    "    numeric_cols=numeric_cols,\n",
    "    ordinal_cols=ordinal_encode_cols,\n",
    "    ohe_cols=[],\n",
    "    label_cols=label_encode_cols,\n",
    "    ordinal_mappings=ordinal_mappings,\n",
    "    label_mappings=label_mappings,\n",
    "    scale_features_except_ohe=True\n",
    ")"
   ],
   "metadata": {
    "collapsed": false,
    "ExecuteTime": {
     "end_time": "2024-12-07T23:03:01.356325Z",
     "start_time": "2024-12-07T23:03:01.345715Z"
    }
   },
   "id": "4b2d2146186cb799"
  },
  {
   "cell_type": "code",
   "execution_count": 26,
   "outputs": [
    {
     "data": {
      "text/plain": "0it [00:00, ?it/s]",
      "application/vnd.jupyter.widget-view+json": {
       "version_major": 2,
       "version_minor": 0,
       "model_id": "6ef724ad3bf84fdda2db447079890070"
      }
     },
     "metadata": {},
     "output_type": "display_data"
    },
    {
     "name": "stderr",
     "output_type": "stream",
     "text": [
      "/Users/andrewbelyaev/UIUC/STAT 527/STAT527 Final Project/venv/lib/python3.9/site-packages/sklearn/linear_model/_coordinate_descent.py:697: ConvergenceWarning: Objective did not converge. You might want to increase the number of iterations, check the scale of the features or consider increasing regularisation. Duality gap: 1.582e+09, tolerance: 5.985e+08\n",
      "  model = cd_fast.enet_coordinate_descent(\n",
      "/Users/andrewbelyaev/UIUC/STAT 527/STAT527 Final Project/venv/lib/python3.9/site-packages/sklearn/linear_model/_coordinate_descent.py:697: ConvergenceWarning: Objective did not converge. You might want to increase the number of iterations, check the scale of the features or consider increasing regularisation. Duality gap: 1.208e+09, tolerance: 6.490e+08\n",
      "  model = cd_fast.enet_coordinate_descent(\n",
      "/Users/andrewbelyaev/UIUC/STAT 527/STAT527 Final Project/venv/lib/python3.9/site-packages/sklearn/linear_model/_coordinate_descent.py:697: ConvergenceWarning: Objective did not converge. You might want to increase the number of iterations, check the scale of the features or consider increasing regularisation. Duality gap: 6.283e+08, tolerance: 6.257e+08\n",
      "  model = cd_fast.enet_coordinate_descent(\n",
      "/Users/andrewbelyaev/UIUC/STAT 527/STAT527 Final Project/venv/lib/python3.9/site-packages/sklearn/linear_model/_coordinate_descent.py:697: ConvergenceWarning: Objective did not converge. You might want to increase the number of iterations, check the scale of the features or consider increasing regularisation. Duality gap: 7.913e+08, tolerance: 6.257e+08\n",
      "  model = cd_fast.enet_coordinate_descent(\n",
      "/Users/andrewbelyaev/UIUC/STAT 527/STAT527 Final Project/venv/lib/python3.9/site-packages/sklearn/linear_model/_coordinate_descent.py:697: ConvergenceWarning: Objective did not converge. You might want to increase the number of iterations, check the scale of the features or consider increasing regularisation. Duality gap: 1.978e+09, tolerance: 6.026e+08\n",
      "  model = cd_fast.enet_coordinate_descent(\n",
      "/Users/andrewbelyaev/UIUC/STAT 527/STAT527 Final Project/venv/lib/python3.9/site-packages/sklearn/linear_model/_coordinate_descent.py:697: ConvergenceWarning: Objective did not converge. You might want to increase the number of iterations, check the scale of the features or consider increasing regularisation. Duality gap: 9.473e+08, tolerance: 6.133e+08\n",
      "  model = cd_fast.enet_coordinate_descent(\n",
      "/Users/andrewbelyaev/UIUC/STAT 527/STAT527 Final Project/venv/lib/python3.9/site-packages/sklearn/linear_model/_coordinate_descent.py:697: ConvergenceWarning: Objective did not converge. You might want to increase the number of iterations, check the scale of the features or consider increasing regularisation. Duality gap: 9.477e+08, tolerance: 6.133e+08\n",
      "  model = cd_fast.enet_coordinate_descent(\n",
      "/Users/andrewbelyaev/UIUC/STAT 527/STAT527 Final Project/venv/lib/python3.9/site-packages/sklearn/linear_model/_coordinate_descent.py:697: ConvergenceWarning: Objective did not converge. You might want to increase the number of iterations, check the scale of the features or consider increasing regularisation. Duality gap: 9.519e+08, tolerance: 6.133e+08\n",
      "  model = cd_fast.enet_coordinate_descent(\n",
      "/Users/andrewbelyaev/UIUC/STAT 527/STAT527 Final Project/venv/lib/python3.9/site-packages/sklearn/linear_model/_coordinate_descent.py:697: ConvergenceWarning: Objective did not converge. You might want to increase the number of iterations, check the scale of the features or consider increasing regularisation. Duality gap: 1.174e+09, tolerance: 6.133e+08\n",
      "  model = cd_fast.enet_coordinate_descent(\n",
      "/Users/andrewbelyaev/UIUC/STAT 527/STAT527 Final Project/venv/lib/python3.9/site-packages/sklearn/linear_model/_coordinate_descent.py:697: ConvergenceWarning: Objective did not converge. You might want to increase the number of iterations, check the scale of the features or consider increasing regularisation. Duality gap: 9.919e+08, tolerance: 6.133e+08\n",
      "  model = cd_fast.enet_coordinate_descent(\n",
      "/Users/andrewbelyaev/UIUC/STAT 527/STAT527 Final Project/venv/lib/python3.9/site-packages/sklearn/linear_model/_coordinate_descent.py:697: ConvergenceWarning: Objective did not converge. You might want to increase the number of iterations, check the scale of the features or consider increasing regularisation. Duality gap: 6.237e+08, tolerance: 6.043e+08\n",
      "  model = cd_fast.enet_coordinate_descent(\n",
      "/Users/andrewbelyaev/UIUC/STAT 527/STAT527 Final Project/venv/lib/python3.9/site-packages/sklearn/linear_model/_coordinate_descent.py:697: ConvergenceWarning: Objective did not converge. You might want to increase the number of iterations, check the scale of the features or consider increasing regularisation. Duality gap: 2.676e+09, tolerance: 5.973e+08\n",
      "  model = cd_fast.enet_coordinate_descent(\n",
      "/Users/andrewbelyaev/UIUC/STAT 527/STAT527 Final Project/venv/lib/python3.9/site-packages/sklearn/linear_model/_coordinate_descent.py:697: ConvergenceWarning: Objective did not converge. You might want to increase the number of iterations, check the scale of the features or consider increasing regularisation. Duality gap: 1.733e+09, tolerance: 6.297e+08\n",
      "  model = cd_fast.enet_coordinate_descent(\n",
      "/Users/andrewbelyaev/UIUC/STAT 527/STAT527 Final Project/venv/lib/python3.9/site-packages/sklearn/linear_model/_coordinate_descent.py:697: ConvergenceWarning: Objective did not converge. You might want to increase the number of iterations, check the scale of the features or consider increasing regularisation. Duality gap: 6.408e+08, tolerance: 6.103e+08\n",
      "  model = cd_fast.enet_coordinate_descent(\n",
      "/Users/andrewbelyaev/UIUC/STAT 527/STAT527 Final Project/venv/lib/python3.9/site-packages/sklearn/linear_model/_coordinate_descent.py:697: ConvergenceWarning: Objective did not converge. You might want to increase the number of iterations, check the scale of the features or consider increasing regularisation. Duality gap: 6.412e+08, tolerance: 6.103e+08\n",
      "  model = cd_fast.enet_coordinate_descent(\n",
      "/Users/andrewbelyaev/UIUC/STAT 527/STAT527 Final Project/venv/lib/python3.9/site-packages/sklearn/linear_model/_coordinate_descent.py:697: ConvergenceWarning: Objective did not converge. You might want to increase the number of iterations, check the scale of the features or consider increasing regularisation. Duality gap: 6.450e+08, tolerance: 6.103e+08\n",
      "  model = cd_fast.enet_coordinate_descent(\n",
      "/Users/andrewbelyaev/UIUC/STAT 527/STAT527 Final Project/venv/lib/python3.9/site-packages/sklearn/linear_model/_coordinate_descent.py:697: ConvergenceWarning: Objective did not converge. You might want to increase the number of iterations, check the scale of the features or consider increasing regularisation. Duality gap: 6.819e+08, tolerance: 6.103e+08\n",
      "  model = cd_fast.enet_coordinate_descent(\n",
      "/Users/andrewbelyaev/UIUC/STAT 527/STAT527 Final Project/venv/lib/python3.9/site-packages/sklearn/linear_model/_coordinate_descent.py:697: ConvergenceWarning: Objective did not converge. You might want to increase the number of iterations, check the scale of the features or consider increasing regularisation. Duality gap: 8.422e+08, tolerance: 6.103e+08\n",
      "  model = cd_fast.enet_coordinate_descent(\n",
      "/Users/andrewbelyaev/UIUC/STAT 527/STAT527 Final Project/venv/lib/python3.9/site-packages/sklearn/linear_model/_coordinate_descent.py:697: ConvergenceWarning: Objective did not converge. You might want to increase the number of iterations, check the scale of the features or consider increasing regularisation. Duality gap: 2.027e+09, tolerance: 5.728e+08\n",
      "  model = cd_fast.enet_coordinate_descent(\n",
      "/Users/andrewbelyaev/UIUC/STAT 527/STAT527 Final Project/venv/lib/python3.9/site-packages/sklearn/linear_model/_coordinate_descent.py:697: ConvergenceWarning: Objective did not converge. You might want to increase the number of iterations, check the scale of the features or consider increasing regularisation. Duality gap: 6.421e+08, tolerance: 5.983e+08\n",
      "  model = cd_fast.enet_coordinate_descent(\n",
      "/Users/andrewbelyaev/UIUC/STAT 527/STAT527 Final Project/venv/lib/python3.9/site-packages/sklearn/linear_model/_coordinate_descent.py:697: ConvergenceWarning: Objective did not converge. You might want to increase the number of iterations, check the scale of the features or consider increasing regularisation. Duality gap: 6.424e+08, tolerance: 5.983e+08\n",
      "  model = cd_fast.enet_coordinate_descent(\n",
      "/Users/andrewbelyaev/UIUC/STAT 527/STAT527 Final Project/venv/lib/python3.9/site-packages/sklearn/linear_model/_coordinate_descent.py:697: ConvergenceWarning: Objective did not converge. You might want to increase the number of iterations, check the scale of the features or consider increasing regularisation. Duality gap: 6.462e+08, tolerance: 5.983e+08\n",
      "  model = cd_fast.enet_coordinate_descent(\n",
      "/Users/andrewbelyaev/UIUC/STAT 527/STAT527 Final Project/venv/lib/python3.9/site-packages/sklearn/linear_model/_coordinate_descent.py:697: ConvergenceWarning: Objective did not converge. You might want to increase the number of iterations, check the scale of the features or consider increasing regularisation. Duality gap: 6.823e+08, tolerance: 5.983e+08\n",
      "  model = cd_fast.enet_coordinate_descent(\n",
      "/Users/andrewbelyaev/UIUC/STAT 527/STAT527 Final Project/venv/lib/python3.9/site-packages/sklearn/linear_model/_coordinate_descent.py:697: ConvergenceWarning: Objective did not converge. You might want to increase the number of iterations, check the scale of the features or consider increasing regularisation. Duality gap: 8.481e+08, tolerance: 5.983e+08\n",
      "  model = cd_fast.enet_coordinate_descent(\n",
      "/Users/andrewbelyaev/UIUC/STAT 527/STAT527 Final Project/venv/lib/python3.9/site-packages/sklearn/linear_model/_coordinate_descent.py:697: ConvergenceWarning: Objective did not converge. You might want to increase the number of iterations, check the scale of the features or consider increasing regularisation. Duality gap: 1.762e+09, tolerance: 5.704e+08\n",
      "  model = cd_fast.enet_coordinate_descent(\n",
      "/Users/andrewbelyaev/UIUC/STAT 527/STAT527 Final Project/venv/lib/python3.9/site-packages/sklearn/linear_model/_coordinate_descent.py:697: ConvergenceWarning: Objective did not converge. You might want to increase the number of iterations, check the scale of the features or consider increasing regularisation. Duality gap: 8.110e+08, tolerance: 6.190e+08\n",
      "  model = cd_fast.enet_coordinate_descent(\n",
      "/Users/andrewbelyaev/UIUC/STAT 527/STAT527 Final Project/venv/lib/python3.9/site-packages/sklearn/linear_model/_coordinate_descent.py:697: ConvergenceWarning: Objective did not converge. You might want to increase the number of iterations, check the scale of the features or consider increasing regularisation. Duality gap: 1.451e+09, tolerance: 5.806e+08\n",
      "  model = cd_fast.enet_coordinate_descent(\n",
      "/Users/andrewbelyaev/UIUC/STAT 527/STAT527 Final Project/venv/lib/python3.9/site-packages/sklearn/linear_model/_coordinate_descent.py:697: ConvergenceWarning: Objective did not converge. You might want to increase the number of iterations, check the scale of the features or consider increasing regularisation. Duality gap: 6.689e+08, tolerance: 5.948e+08\n",
      "  model = cd_fast.enet_coordinate_descent(\n",
      "/Users/andrewbelyaev/UIUC/STAT 527/STAT527 Final Project/venv/lib/python3.9/site-packages/sklearn/linear_model/_coordinate_descent.py:697: ConvergenceWarning: Objective did not converge. You might want to increase the number of iterations, check the scale of the features or consider increasing regularisation. Duality gap: 1.052e+09, tolerance: 6.245e+08\n",
      "  model = cd_fast.enet_coordinate_descent(\n",
      "/Users/andrewbelyaev/UIUC/STAT 527/STAT527 Final Project/venv/lib/python3.9/site-packages/sklearn/linear_model/_coordinate_descent.py:697: ConvergenceWarning: Objective did not converge. You might want to increase the number of iterations, check the scale of the features or consider increasing regularisation. Duality gap: 8.114e+08, tolerance: 6.190e+08\n",
      "  model = cd_fast.enet_coordinate_descent(\n",
      "/Users/andrewbelyaev/UIUC/STAT 527/STAT527 Final Project/venv/lib/python3.9/site-packages/sklearn/linear_model/_coordinate_descent.py:697: ConvergenceWarning: Objective did not converge. You might want to increase the number of iterations, check the scale of the features or consider increasing regularisation. Duality gap: 1.452e+09, tolerance: 5.806e+08\n",
      "  model = cd_fast.enet_coordinate_descent(\n",
      "/Users/andrewbelyaev/UIUC/STAT 527/STAT527 Final Project/venv/lib/python3.9/site-packages/sklearn/linear_model/_coordinate_descent.py:697: ConvergenceWarning: Objective did not converge. You might want to increase the number of iterations, check the scale of the features or consider increasing regularisation. Duality gap: 6.693e+08, tolerance: 5.948e+08\n",
      "  model = cd_fast.enet_coordinate_descent(\n",
      "/Users/andrewbelyaev/UIUC/STAT 527/STAT527 Final Project/venv/lib/python3.9/site-packages/sklearn/linear_model/_coordinate_descent.py:697: ConvergenceWarning: Objective did not converge. You might want to increase the number of iterations, check the scale of the features or consider increasing regularisation. Duality gap: 1.052e+09, tolerance: 6.245e+08\n",
      "  model = cd_fast.enet_coordinate_descent(\n",
      "/Users/andrewbelyaev/UIUC/STAT 527/STAT527 Final Project/venv/lib/python3.9/site-packages/sklearn/linear_model/_coordinate_descent.py:697: ConvergenceWarning: Objective did not converge. You might want to increase the number of iterations, check the scale of the features or consider increasing regularisation. Duality gap: 1.456e+09, tolerance: 5.806e+08\n",
      "  model = cd_fast.enet_coordinate_descent(\n",
      "/Users/andrewbelyaev/UIUC/STAT 527/STAT527 Final Project/venv/lib/python3.9/site-packages/sklearn/linear_model/_coordinate_descent.py:697: ConvergenceWarning: Objective did not converge. You might want to increase the number of iterations, check the scale of the features or consider increasing regularisation. Duality gap: 8.153e+08, tolerance: 6.190e+08\n",
      "  model = cd_fast.enet_coordinate_descent(\n",
      "/Users/andrewbelyaev/UIUC/STAT 527/STAT527 Final Project/venv/lib/python3.9/site-packages/sklearn/linear_model/_coordinate_descent.py:697: ConvergenceWarning: Objective did not converge. You might want to increase the number of iterations, check the scale of the features or consider increasing regularisation. Duality gap: 6.729e+08, tolerance: 5.948e+08\n",
      "  model = cd_fast.enet_coordinate_descent(\n",
      "/Users/andrewbelyaev/UIUC/STAT 527/STAT527 Final Project/venv/lib/python3.9/site-packages/sklearn/linear_model/_coordinate_descent.py:697: ConvergenceWarning: Objective did not converge. You might want to increase the number of iterations, check the scale of the features or consider increasing regularisation. Duality gap: 1.056e+09, tolerance: 6.245e+08\n",
      "  model = cd_fast.enet_coordinate_descent(\n",
      "/Users/andrewbelyaev/UIUC/STAT 527/STAT527 Final Project/venv/lib/python3.9/site-packages/sklearn/linear_model/_coordinate_descent.py:697: ConvergenceWarning: Objective did not converge. You might want to increase the number of iterations, check the scale of the features or consider increasing regularisation. Duality gap: 8.521e+08, tolerance: 6.190e+08\n",
      "  model = cd_fast.enet_coordinate_descent(\n",
      "/Users/andrewbelyaev/UIUC/STAT 527/STAT527 Final Project/venv/lib/python3.9/site-packages/sklearn/linear_model/_coordinate_descent.py:697: ConvergenceWarning: Objective did not converge. You might want to increase the number of iterations, check the scale of the features or consider increasing regularisation. Duality gap: 1.492e+09, tolerance: 5.806e+08\n",
      "  model = cd_fast.enet_coordinate_descent(\n",
      "/Users/andrewbelyaev/UIUC/STAT 527/STAT527 Final Project/venv/lib/python3.9/site-packages/sklearn/linear_model/_coordinate_descent.py:697: ConvergenceWarning: Objective did not converge. You might want to increase the number of iterations, check the scale of the features or consider increasing regularisation. Duality gap: 1.033e+09, tolerance: 6.190e+08\n",
      "  model = cd_fast.enet_coordinate_descent(\n",
      "/Users/andrewbelyaev/UIUC/STAT 527/STAT527 Final Project/venv/lib/python3.9/site-packages/sklearn/linear_model/_coordinate_descent.py:697: ConvergenceWarning: Objective did not converge. You might want to increase the number of iterations, check the scale of the features or consider increasing regularisation. Duality gap: 1.092e+09, tolerance: 6.245e+08\n",
      "  model = cd_fast.enet_coordinate_descent(\n",
      "/Users/andrewbelyaev/UIUC/STAT 527/STAT527 Final Project/venv/lib/python3.9/site-packages/sklearn/linear_model/_coordinate_descent.py:697: ConvergenceWarning: Objective did not converge. You might want to increase the number of iterations, check the scale of the features or consider increasing regularisation. Duality gap: 8.824e+08, tolerance: 5.948e+08\n",
      "  model = cd_fast.enet_coordinate_descent(\n",
      "/Users/andrewbelyaev/UIUC/STAT 527/STAT527 Final Project/venv/lib/python3.9/site-packages/sklearn/linear_model/_coordinate_descent.py:697: ConvergenceWarning: Objective did not converge. You might want to increase the number of iterations, check the scale of the features or consider increasing regularisation. Duality gap: 1.285e+09, tolerance: 6.245e+08\n",
      "  model = cd_fast.enet_coordinate_descent(\n",
      "/Users/andrewbelyaev/UIUC/STAT 527/STAT527 Final Project/venv/lib/python3.9/site-packages/sklearn/linear_model/_coordinate_descent.py:697: ConvergenceWarning: Objective did not converge. You might want to increase the number of iterations, check the scale of the features or consider increasing regularisation. Duality gap: 1.703e+09, tolerance: 5.806e+08\n",
      "  model = cd_fast.enet_coordinate_descent(\n",
      "/Users/andrewbelyaev/UIUC/STAT 527/STAT527 Final Project/venv/lib/python3.9/site-packages/sklearn/linear_model/_coordinate_descent.py:697: ConvergenceWarning: Objective did not converge. You might want to increase the number of iterations, check the scale of the features or consider increasing regularisation. Duality gap: 7.076e+08, tolerance: 5.948e+08\n",
      "  model = cd_fast.enet_coordinate_descent(\n",
      "/Users/andrewbelyaev/UIUC/STAT 527/STAT527 Final Project/venv/lib/python3.9/site-packages/sklearn/linear_model/_coordinate_descent.py:697: ConvergenceWarning: Objective did not converge. You might want to increase the number of iterations, check the scale of the features or consider increasing regularisation. Duality gap: 7.537e+08, tolerance: 6.124e+08\n",
      "  model = cd_fast.enet_coordinate_descent(\n",
      "/Users/andrewbelyaev/UIUC/STAT 527/STAT527 Final Project/venv/lib/python3.9/site-packages/sklearn/linear_model/_coordinate_descent.py:697: ConvergenceWarning: Objective did not converge. You might want to increase the number of iterations, check the scale of the features or consider increasing regularisation. Duality gap: 7.143e+08, tolerance: 6.150e+08\n",
      "  model = cd_fast.enet_coordinate_descent(\n",
      "/Users/andrewbelyaev/UIUC/STAT 527/STAT527 Final Project/venv/lib/python3.9/site-packages/sklearn/linear_model/_coordinate_descent.py:697: ConvergenceWarning: Objective did not converge. You might want to increase the number of iterations, check the scale of the features or consider increasing regularisation. Duality gap: 7.147e+08, tolerance: 6.150e+08\n",
      "  model = cd_fast.enet_coordinate_descent(\n",
      "/Users/andrewbelyaev/UIUC/STAT 527/STAT527 Final Project/venv/lib/python3.9/site-packages/sklearn/linear_model/_coordinate_descent.py:697: ConvergenceWarning: Objective did not converge. You might want to increase the number of iterations, check the scale of the features or consider increasing regularisation. Duality gap: 7.187e+08, tolerance: 6.150e+08\n",
      "  model = cd_fast.enet_coordinate_descent(\n",
      "/Users/andrewbelyaev/UIUC/STAT 527/STAT527 Final Project/venv/lib/python3.9/site-packages/sklearn/linear_model/_coordinate_descent.py:697: ConvergenceWarning: Objective did not converge. You might want to increase the number of iterations, check the scale of the features or consider increasing regularisation. Duality gap: 7.569e+08, tolerance: 6.150e+08\n",
      "  model = cd_fast.enet_coordinate_descent(\n",
      "/Users/andrewbelyaev/UIUC/STAT 527/STAT527 Final Project/venv/lib/python3.9/site-packages/sklearn/linear_model/_coordinate_descent.py:697: ConvergenceWarning: Objective did not converge. You might want to increase the number of iterations, check the scale of the features or consider increasing regularisation. Duality gap: 9.364e+08, tolerance: 6.150e+08\n",
      "  model = cd_fast.enet_coordinate_descent(\n",
      "/Users/andrewbelyaev/UIUC/STAT 527/STAT527 Final Project/venv/lib/python3.9/site-packages/sklearn/linear_model/_coordinate_descent.py:697: ConvergenceWarning: Objective did not converge. You might want to increase the number of iterations, check the scale of the features or consider increasing regularisation. Duality gap: 6.896e+08, tolerance: 6.151e+08\n",
      "  model = cd_fast.enet_coordinate_descent(\n",
      "/Users/andrewbelyaev/UIUC/STAT 527/STAT527 Final Project/venv/lib/python3.9/site-packages/sklearn/linear_model/_coordinate_descent.py:697: ConvergenceWarning: Objective did not converge. You might want to increase the number of iterations, check the scale of the features or consider increasing regularisation. Duality gap: 7.165e+08, tolerance: 6.259e+08\n",
      "  model = cd_fast.enet_coordinate_descent(\n",
      "/Users/andrewbelyaev/UIUC/STAT 527/STAT527 Final Project/venv/lib/python3.9/site-packages/sklearn/linear_model/_coordinate_descent.py:697: ConvergenceWarning: Objective did not converge. You might want to increase the number of iterations, check the scale of the features or consider increasing regularisation. Duality gap: 7.169e+08, tolerance: 6.259e+08\n",
      "  model = cd_fast.enet_coordinate_descent(\n",
      "/Users/andrewbelyaev/UIUC/STAT 527/STAT527 Final Project/venv/lib/python3.9/site-packages/sklearn/linear_model/_coordinate_descent.py:697: ConvergenceWarning: Objective did not converge. You might want to increase the number of iterations, check the scale of the features or consider increasing regularisation. Duality gap: 7.208e+08, tolerance: 6.259e+08\n",
      "  model = cd_fast.enet_coordinate_descent(\n",
      "/Users/andrewbelyaev/UIUC/STAT 527/STAT527 Final Project/venv/lib/python3.9/site-packages/sklearn/linear_model/_coordinate_descent.py:697: ConvergenceWarning: Objective did not converge. You might want to increase the number of iterations, check the scale of the features or consider increasing regularisation. Duality gap: 9.314e+08, tolerance: 6.259e+08\n",
      "  model = cd_fast.enet_coordinate_descent(\n",
      "/Users/andrewbelyaev/UIUC/STAT 527/STAT527 Final Project/venv/lib/python3.9/site-packages/sklearn/linear_model/_coordinate_descent.py:697: ConvergenceWarning: Objective did not converge. You might want to increase the number of iterations, check the scale of the features or consider increasing regularisation. Duality gap: 7.581e+08, tolerance: 6.259e+08\n",
      "  model = cd_fast.enet_coordinate_descent(\n",
      "/Users/andrewbelyaev/UIUC/STAT 527/STAT527 Final Project/venv/lib/python3.9/site-packages/sklearn/linear_model/_coordinate_descent.py:697: ConvergenceWarning: Objective did not converge. You might want to increase the number of iterations, check the scale of the features or consider increasing regularisation. Duality gap: 2.139e+09, tolerance: 5.944e+08\n",
      "  model = cd_fast.enet_coordinate_descent(\n"
     ]
    }
   ],
   "source": [
    "alpha_grid = {'alpha': [0.001, 0.01, 0.1, 1, 10, 100, 1000]}\n",
    "\n",
    "kf = KFold(n_splits=9, shuffle=True, random_state=42)\n",
    "\n",
    "r2 = {\"train\": [], \"test\": []}\n",
    "mae = {\"train\": [], \"test\": []}\n",
    "best_alphas = []\n",
    "feature_importances = pd.DataFrame(index=X.columns)\n",
    "\n",
    "for fold, (train_index, test_index) in tqdm(enumerate(kf.split(X), 1)):\n",
    "    X_train, X_test = X.iloc[train_index], X.iloc[test_index]\n",
    "    y_train, y_test = y.iloc[train_index], y.iloc[test_index]\n",
    "    \n",
    "    preprocessor_lasso.fit(X_train)\n",
    "    X_train_preprocessed = preprocessor_lasso.transform(X_train)\n",
    "    X_test_preprocessed = preprocessor_lasso.transform(X_test)\n",
    "    \n",
    "    lasso = Lasso(random_state=42)\n",
    "    grid_search = GridSearchCV(estimator=lasso, param_grid=alpha_grid, cv=5, scoring='r2', n_jobs=-1)\n",
    "    grid_search.fit(X_train_preprocessed, y_train)\n",
    "    \n",
    "    best_alpha = grid_search.best_params_['alpha']\n",
    "    best_alphas.append(best_alpha)\n",
    "    \n",
    "    model = Lasso(alpha=best_alpha, random_state=42)\n",
    "    model.fit(X_train_preprocessed, y_train)\n",
    "    \n",
    "    y_train_pred = model.predict(X_train_preprocessed)\n",
    "    train_mae = mean_absolute_error(y_train, y_train_pred)\n",
    "    train_r2 = model.score(X_train_preprocessed, y_train)\n",
    "    \n",
    "    y_test_pred = model.predict(X_test_preprocessed)\n",
    "    test_mae = mean_absolute_error(y_test, y_test_pred)\n",
    "    test_r2 = model.score(X_test_preprocessed, y_test)\n",
    "    \n",
    "    r2[\"train\"].append(train_r2)\n",
    "    r2[\"test\"].append(test_r2)\n",
    "    mae[\"train\"].append(train_mae)\n",
    "    mae[\"test\"].append(test_mae)\n",
    "    \n",
    "    fold_importances = pd.Series(np.abs(model.coef_), index=X.columns)\n",
    "    feature_importances = pd.concat([feature_importances, fold_importances], axis=1)\n",
    "\n",
    "feature_importances['mean_importance'] = feature_importances.mean(axis=1)\n",
    "feature_importances = feature_importances[['mean_importance']].sort_values(by='mean_importance', ascending=False)\n"
   ],
   "metadata": {
    "collapsed": false,
    "ExecuteTime": {
     "end_time": "2024-12-07T23:00:11.412906Z",
     "start_time": "2024-12-07T23:00:05.779558Z"
    }
   },
   "id": "eb40c2e79512889d"
  },
  {
   "cell_type": "code",
   "execution_count": 31,
   "outputs": [
    {
     "data": {
      "text/plain": "[100, 100, 100, 100, 1000, 100, 100, 100, 100]"
     },
     "execution_count": 31,
     "metadata": {},
     "output_type": "execute_result"
    }
   ],
   "source": [
    "best_alphas"
   ],
   "metadata": {
    "collapsed": false,
    "ExecuteTime": {
     "end_time": "2024-12-07T23:01:03.095445Z",
     "start_time": "2024-12-07T23:01:03.044395Z"
    }
   },
   "id": "17ffebcc6bb0ff81"
  },
  {
   "cell_type": "code",
   "execution_count": 38,
   "outputs": [
    {
     "data": {
      "text/plain": "train    0.899974\ntest     0.874307\ndtype: float64"
     },
     "execution_count": 38,
     "metadata": {},
     "output_type": "execute_result"
    }
   ],
   "source": [
    "pd.DataFrame(r2).mean()"
   ],
   "metadata": {
    "collapsed": false,
    "ExecuteTime": {
     "end_time": "2024-12-07T23:02:35.212529Z",
     "start_time": "2024-12-07T23:02:35.207865Z"
    }
   },
   "id": "737ba02e1f04382f"
  },
  {
   "cell_type": "code",
   "execution_count": 35,
   "outputs": [
    {
     "data": {
      "text/plain": "train    17048.802976\ntest     19522.998889\ndtype: float64"
     },
     "execution_count": 35,
     "metadata": {},
     "output_type": "execute_result"
    }
   ],
   "source": [
    "pd.DataFrame(mae).mean()"
   ],
   "metadata": {
    "collapsed": false,
    "ExecuteTime": {
     "end_time": "2024-12-07T23:02:01.078051Z",
     "start_time": "2024-12-07T23:02:01.067323Z"
    }
   },
   "id": "12b0892a02e42811"
  },
  {
   "cell_type": "code",
   "execution_count": 29,
   "outputs": [
    {
     "data": {
      "text/plain": "             mean_importance\nGrLivArea       25617.443412\nOverallQual     14329.834333\nTotalBsmtSF      9172.804663\nBsmtFinSF1       8669.111080\nMasVnrArea       7712.261305\n...                      ...\nHeating            48.671948\nGarageQual         39.777333\nMiscFeature        21.619976\nBsmtUnfSF           0.000000\nMSSubClass          0.000000\n\n[78 rows x 1 columns]",
      "text/html": "<div>\n<style scoped>\n    .dataframe tbody tr th:only-of-type {\n        vertical-align: middle;\n    }\n\n    .dataframe tbody tr th {\n        vertical-align: top;\n    }\n\n    .dataframe thead th {\n        text-align: right;\n    }\n</style>\n<table border=\"1\" class=\"dataframe\">\n  <thead>\n    <tr style=\"text-align: right;\">\n      <th></th>\n      <th>mean_importance</th>\n    </tr>\n  </thead>\n  <tbody>\n    <tr>\n      <th>GrLivArea</th>\n      <td>25617.443412</td>\n    </tr>\n    <tr>\n      <th>OverallQual</th>\n      <td>14329.834333</td>\n    </tr>\n    <tr>\n      <th>TotalBsmtSF</th>\n      <td>9172.804663</td>\n    </tr>\n    <tr>\n      <th>BsmtFinSF1</th>\n      <td>8669.111080</td>\n    </tr>\n    <tr>\n      <th>MasVnrArea</th>\n      <td>7712.261305</td>\n    </tr>\n    <tr>\n      <th>...</th>\n      <td>...</td>\n    </tr>\n    <tr>\n      <th>Heating</th>\n      <td>48.671948</td>\n    </tr>\n    <tr>\n      <th>GarageQual</th>\n      <td>39.777333</td>\n    </tr>\n    <tr>\n      <th>MiscFeature</th>\n      <td>21.619976</td>\n    </tr>\n    <tr>\n      <th>BsmtUnfSF</th>\n      <td>0.000000</td>\n    </tr>\n    <tr>\n      <th>MSSubClass</th>\n      <td>0.000000</td>\n    </tr>\n  </tbody>\n</table>\n<p>78 rows × 1 columns</p>\n</div>"
     },
     "execution_count": 29,
     "metadata": {},
     "output_type": "execute_result"
    }
   ],
   "source": [
    "feature_importances"
   ],
   "metadata": {
    "collapsed": false,
    "ExecuteTime": {
     "end_time": "2024-12-07T23:00:17.335002Z",
     "start_time": "2024-12-07T23:00:17.324154Z"
    }
   },
   "id": "824f3c20574a52b8"
  },
  {
   "cell_type": "code",
   "execution_count": null,
   "outputs": [],
   "source": [
    "# kind of works but clearly with this encoding does not capture the important categorical features such as neighborhood"
   ],
   "metadata": {
    "collapsed": false
   },
   "id": "459943f16c81ac5"
  },
  {
   "cell_type": "code",
   "execution_count": 40,
   "outputs": [],
   "source": [
    "preprocessor_lasso_ohe = DataFramePreprocessor(\n",
    "    numeric_cols=numeric_cols,\n",
    "    ordinal_cols=ordinal_encode_cols,\n",
    "    ohe_cols=label_encode_cols,\n",
    "    label_cols=[],\n",
    "    ordinal_mappings=ordinal_mappings,\n",
    "    label_mappings=label_mappings,\n",
    "    scale_features_except_ohe=True\n",
    ")"
   ],
   "metadata": {
    "collapsed": false,
    "ExecuteTime": {
     "end_time": "2024-12-07T23:04:09.470704Z",
     "start_time": "2024-12-07T23:04:09.441503Z"
    }
   },
   "id": "2d2374c1c9e16427"
  },
  {
   "cell_type": "code",
   "execution_count": 48,
   "outputs": [
    {
     "data": {
      "text/plain": "0it [00:00, ?it/s]",
      "application/vnd.jupyter.widget-view+json": {
       "version_major": 2,
       "version_minor": 0,
       "model_id": "e7d3cfb8ed9046edb530197f4eed86e5"
      }
     },
     "metadata": {},
     "output_type": "display_data"
    },
    {
     "name": "stderr",
     "output_type": "stream",
     "text": [
      "/Users/andrewbelyaev/UIUC/STAT 527/STAT527 Final Project/venv/lib/python3.9/site-packages/sklearn/linear_model/_coordinate_descent.py:697: ConvergenceWarning: Objective did not converge. You might want to increase the number of iterations, check the scale of the features or consider increasing regularisation. Duality gap: 2.084e+11, tolerance: 6.339e+08\n",
      "  model = cd_fast.enet_coordinate_descent(\n",
      "/Users/andrewbelyaev/UIUC/STAT 527/STAT527 Final Project/venv/lib/python3.9/site-packages/sklearn/linear_model/_coordinate_descent.py:697: ConvergenceWarning: Objective did not converge. You might want to increase the number of iterations, check the scale of the features or consider increasing regularisation. Duality gap: 2.016e+11, tolerance: 5.985e+08\n",
      "  model = cd_fast.enet_coordinate_descent(\n",
      "/Users/andrewbelyaev/UIUC/STAT 527/STAT527 Final Project/venv/lib/python3.9/site-packages/sklearn/linear_model/_coordinate_descent.py:697: ConvergenceWarning: Objective did not converge. You might want to increase the number of iterations, check the scale of the features or consider increasing regularisation. Duality gap: 2.018e+11, tolerance: 6.105e+08\n",
      "  model = cd_fast.enet_coordinate_descent(\n",
      "/Users/andrewbelyaev/UIUC/STAT 527/STAT527 Final Project/venv/lib/python3.9/site-packages/sklearn/linear_model/_coordinate_descent.py:697: ConvergenceWarning: Objective did not converge. You might want to increase the number of iterations, check the scale of the features or consider increasing regularisation. Duality gap: 2.039e+11, tolerance: 6.490e+08\n",
      "  model = cd_fast.enet_coordinate_descent(\n",
      "/Users/andrewbelyaev/UIUC/STAT 527/STAT527 Final Project/venv/lib/python3.9/site-packages/sklearn/linear_model/_coordinate_descent.py:697: ConvergenceWarning: Objective did not converge. You might want to increase the number of iterations, check the scale of the features or consider increasing regularisation. Duality gap: 1.998e+11, tolerance: 6.105e+08\n",
      "  model = cd_fast.enet_coordinate_descent(\n",
      "/Users/andrewbelyaev/UIUC/STAT 527/STAT527 Final Project/venv/lib/python3.9/site-packages/sklearn/linear_model/_coordinate_descent.py:697: ConvergenceWarning: Objective did not converge. You might want to increase the number of iterations, check the scale of the features or consider increasing regularisation. Duality gap: 1.861e+11, tolerance: 6.235e+08\n",
      "  model = cd_fast.enet_coordinate_descent(\n",
      "/Users/andrewbelyaev/UIUC/STAT 527/STAT527 Final Project/venv/lib/python3.9/site-packages/sklearn/linear_model/_coordinate_descent.py:697: ConvergenceWarning: Objective did not converge. You might want to increase the number of iterations, check the scale of the features or consider increasing regularisation. Duality gap: 2.064e+11, tolerance: 6.339e+08\n",
      "  model = cd_fast.enet_coordinate_descent(\n",
      "/Users/andrewbelyaev/UIUC/STAT 527/STAT527 Final Project/venv/lib/python3.9/site-packages/sklearn/linear_model/_coordinate_descent.py:697: ConvergenceWarning: Objective did not converge. You might want to increase the number of iterations, check the scale of the features or consider increasing regularisation. Duality gap: 1.998e+11, tolerance: 5.985e+08\n",
      "  model = cd_fast.enet_coordinate_descent(\n",
      "/Users/andrewbelyaev/UIUC/STAT 527/STAT527 Final Project/venv/lib/python3.9/site-packages/sklearn/linear_model/_coordinate_descent.py:697: ConvergenceWarning: Objective did not converge. You might want to increase the number of iterations, check the scale of the features or consider increasing regularisation. Duality gap: 2.010e+11, tolerance: 6.490e+08\n",
      "  model = cd_fast.enet_coordinate_descent(\n",
      "/Users/andrewbelyaev/UIUC/STAT 527/STAT527 Final Project/venv/lib/python3.9/site-packages/sklearn/linear_model/_coordinate_descent.py:697: ConvergenceWarning: Objective did not converge. You might want to increase the number of iterations, check the scale of the features or consider increasing regularisation. Duality gap: 1.830e+11, tolerance: 5.985e+08\n",
      "  model = cd_fast.enet_coordinate_descent(\n",
      "/Users/andrewbelyaev/UIUC/STAT 527/STAT527 Final Project/venv/lib/python3.9/site-packages/sklearn/linear_model/_coordinate_descent.py:697: ConvergenceWarning: Objective did not converge. You might want to increase the number of iterations, check the scale of the features or consider increasing regularisation. Duality gap: 1.830e+11, tolerance: 6.235e+08\n",
      "  model = cd_fast.enet_coordinate_descent(\n",
      "/Users/andrewbelyaev/UIUC/STAT 527/STAT527 Final Project/venv/lib/python3.9/site-packages/sklearn/linear_model/_coordinate_descent.py:697: ConvergenceWarning: Objective did not converge. You might want to increase the number of iterations, check the scale of the features or consider increasing regularisation. Duality gap: 1.879e+11, tolerance: 6.339e+08\n",
      "  model = cd_fast.enet_coordinate_descent(\n",
      "/Users/andrewbelyaev/UIUC/STAT 527/STAT527 Final Project/venv/lib/python3.9/site-packages/sklearn/linear_model/_coordinate_descent.py:697: ConvergenceWarning: Objective did not converge. You might want to increase the number of iterations, check the scale of the features or consider increasing regularisation. Duality gap: 1.554e+11, tolerance: 6.235e+08\n",
      "  model = cd_fast.enet_coordinate_descent(\n",
      "/Users/andrewbelyaev/UIUC/STAT 527/STAT527 Final Project/venv/lib/python3.9/site-packages/sklearn/linear_model/_coordinate_descent.py:697: ConvergenceWarning: Objective did not converge. You might want to increase the number of iterations, check the scale of the features or consider increasing regularisation. Duality gap: 1.751e+11, tolerance: 6.490e+08\n",
      "  model = cd_fast.enet_coordinate_descent(\n",
      "/Users/andrewbelyaev/UIUC/STAT 527/STAT527 Final Project/venv/lib/python3.9/site-packages/sklearn/linear_model/_coordinate_descent.py:697: ConvergenceWarning: Objective did not converge. You might want to increase the number of iterations, check the scale of the features or consider increasing regularisation. Duality gap: 1.815e+11, tolerance: 6.105e+08\n",
      "  model = cd_fast.enet_coordinate_descent(\n",
      "/Users/andrewbelyaev/UIUC/STAT 527/STAT527 Final Project/venv/lib/python3.9/site-packages/sklearn/linear_model/_coordinate_descent.py:697: ConvergenceWarning: Objective did not converge. You might want to increase the number of iterations, check the scale of the features or consider increasing regularisation. Duality gap: 8.524e+10, tolerance: 6.339e+08\n",
      "  model = cd_fast.enet_coordinate_descent(\n",
      "/Users/andrewbelyaev/UIUC/STAT 527/STAT527 Final Project/venv/lib/python3.9/site-packages/sklearn/linear_model/_coordinate_descent.py:697: ConvergenceWarning: Objective did not converge. You might want to increase the number of iterations, check the scale of the features or consider increasing regularisation. Duality gap: 8.602e+10, tolerance: 5.985e+08\n",
      "  model = cd_fast.enet_coordinate_descent(\n",
      "/Users/andrewbelyaev/UIUC/STAT 527/STAT527 Final Project/venv/lib/python3.9/site-packages/sklearn/linear_model/_coordinate_descent.py:697: ConvergenceWarning: Objective did not converge. You might want to increase the number of iterations, check the scale of the features or consider increasing regularisation. Duality gap: 5.824e+10, tolerance: 6.490e+08\n",
      "  model = cd_fast.enet_coordinate_descent(\n",
      "/Users/andrewbelyaev/UIUC/STAT 527/STAT527 Final Project/venv/lib/python3.9/site-packages/sklearn/linear_model/_coordinate_descent.py:697: ConvergenceWarning: Objective did not converge. You might want to increase the number of iterations, check the scale of the features or consider increasing regularisation. Duality gap: 7.839e+10, tolerance: 6.105e+08\n",
      "  model = cd_fast.enet_coordinate_descent(\n",
      "/Users/andrewbelyaev/UIUC/STAT 527/STAT527 Final Project/venv/lib/python3.9/site-packages/sklearn/linear_model/_coordinate_descent.py:697: ConvergenceWarning: Objective did not converge. You might want to increase the number of iterations, check the scale of the features or consider increasing regularisation. Duality gap: 4.309e+10, tolerance: 6.235e+08\n",
      "  model = cd_fast.enet_coordinate_descent(\n",
      "/Users/andrewbelyaev/UIUC/STAT 527/STAT527 Final Project/venv/lib/python3.9/site-packages/sklearn/linear_model/_coordinate_descent.py:697: ConvergenceWarning: Objective did not converge. You might want to increase the number of iterations, check the scale of the features or consider increasing regularisation. Duality gap: 9.706e+08, tolerance: 5.985e+08\n",
      "  model = cd_fast.enet_coordinate_descent(\n",
      "/Users/andrewbelyaev/UIUC/STAT 527/STAT527 Final Project/venv/lib/python3.9/site-packages/sklearn/linear_model/_coordinate_descent.py:697: ConvergenceWarning: Objective did not converge. You might want to increase the number of iterations, check the scale of the features or consider increasing regularisation. Duality gap: 1.247e+09, tolerance: 6.339e+08\n",
      "  model = cd_fast.enet_coordinate_descent(\n",
      "/Users/andrewbelyaev/UIUC/STAT 527/STAT527 Final Project/venv/lib/python3.9/site-packages/sklearn/linear_model/_coordinate_descent.py:697: ConvergenceWarning: Objective did not converge. You might want to increase the number of iterations, check the scale of the features or consider increasing regularisation. Duality gap: 8.499e+08, tolerance: 6.490e+08\n",
      "  model = cd_fast.enet_coordinate_descent(\n",
      "/Users/andrewbelyaev/UIUC/STAT 527/STAT527 Final Project/venv/lib/python3.9/site-packages/sklearn/linear_model/_coordinate_descent.py:697: ConvergenceWarning: Objective did not converge. You might want to increase the number of iterations, check the scale of the features or consider increasing regularisation. Duality gap: 2.098e+11, tolerance: 6.257e+08\n",
      "  model = cd_fast.enet_coordinate_descent(\n",
      "/Users/andrewbelyaev/UIUC/STAT 527/STAT527 Final Project/venv/lib/python3.9/site-packages/sklearn/linear_model/_coordinate_descent.py:697: ConvergenceWarning: Objective did not converge. You might want to increase the number of iterations, check the scale of the features or consider increasing regularisation. Duality gap: 2.080e+11, tolerance: 6.026e+08\n",
      "  model = cd_fast.enet_coordinate_descent(\n",
      "/Users/andrewbelyaev/UIUC/STAT 527/STAT527 Final Project/venv/lib/python3.9/site-packages/sklearn/linear_model/_coordinate_descent.py:697: ConvergenceWarning: Objective did not converge. You might want to increase the number of iterations, check the scale of the features or consider increasing regularisation. Duality gap: 2.073e+11, tolerance: 6.257e+08\n",
      "  model = cd_fast.enet_coordinate_descent(\n",
      "/Users/andrewbelyaev/UIUC/STAT 527/STAT527 Final Project/venv/lib/python3.9/site-packages/sklearn/linear_model/_coordinate_descent.py:697: ConvergenceWarning: Objective did not converge. You might want to increase the number of iterations, check the scale of the features or consider increasing regularisation. Duality gap: 1.936e+11, tolerance: 6.147e+08\n",
      "  model = cd_fast.enet_coordinate_descent(\n",
      "/Users/andrewbelyaev/UIUC/STAT 527/STAT527 Final Project/venv/lib/python3.9/site-packages/sklearn/linear_model/_coordinate_descent.py:697: ConvergenceWarning: Objective did not converge. You might want to increase the number of iterations, check the scale of the features or consider increasing regularisation. Duality gap: 2.002e+11, tolerance: 6.030e+08\n",
      "  model = cd_fast.enet_coordinate_descent(\n",
      "/Users/andrewbelyaev/UIUC/STAT 527/STAT527 Final Project/venv/lib/python3.9/site-packages/sklearn/linear_model/_coordinate_descent.py:697: ConvergenceWarning: Objective did not converge. You might want to increase the number of iterations, check the scale of the features or consider increasing regularisation. Duality gap: 2.007e+11, tolerance: 6.280e+08\n",
      "  model = cd_fast.enet_coordinate_descent(\n",
      "/Users/andrewbelyaev/UIUC/STAT 527/STAT527 Final Project/venv/lib/python3.9/site-packages/sklearn/linear_model/_coordinate_descent.py:697: ConvergenceWarning: Objective did not converge. You might want to increase the number of iterations, check the scale of the features or consider increasing regularisation. Duality gap: 2.059e+11, tolerance: 6.026e+08\n",
      "  model = cd_fast.enet_coordinate_descent(\n",
      "/Users/andrewbelyaev/UIUC/STAT 527/STAT527 Final Project/venv/lib/python3.9/site-packages/sklearn/linear_model/_coordinate_descent.py:697: ConvergenceWarning: Objective did not converge. You might want to increase the number of iterations, check the scale of the features or consider increasing regularisation. Duality gap: 1.975e+11, tolerance: 6.030e+08\n",
      "  model = cd_fast.enet_coordinate_descent(\n",
      "/Users/andrewbelyaev/UIUC/STAT 527/STAT527 Final Project/venv/lib/python3.9/site-packages/sklearn/linear_model/_coordinate_descent.py:697: ConvergenceWarning: Objective did not converge. You might want to increase the number of iterations, check the scale of the features or consider increasing regularisation. Duality gap: 1.972e+11, tolerance: 6.280e+08\n",
      "  model = cd_fast.enet_coordinate_descent(\n",
      "/Users/andrewbelyaev/UIUC/STAT 527/STAT527 Final Project/venv/lib/python3.9/site-packages/sklearn/linear_model/_coordinate_descent.py:697: ConvergenceWarning: Objective did not converge. You might want to increase the number of iterations, check the scale of the features or consider increasing regularisation. Duality gap: 1.897e+11, tolerance: 6.147e+08\n",
      "  model = cd_fast.enet_coordinate_descent(\n",
      "/Users/andrewbelyaev/UIUC/STAT 527/STAT527 Final Project/venv/lib/python3.9/site-packages/sklearn/linear_model/_coordinate_descent.py:697: ConvergenceWarning: Objective did not converge. You might want to increase the number of iterations, check the scale of the features or consider increasing regularisation. Duality gap: 1.657e+11, tolerance: 6.280e+08\n",
      "  model = cd_fast.enet_coordinate_descent(\n",
      "/Users/andrewbelyaev/UIUC/STAT 527/STAT527 Final Project/venv/lib/python3.9/site-packages/sklearn/linear_model/_coordinate_descent.py:697: ConvergenceWarning: Objective did not converge. You might want to increase the number of iterations, check the scale of the features or consider increasing regularisation. Duality gap: 1.871e+11, tolerance: 6.026e+08\n",
      "  model = cd_fast.enet_coordinate_descent(\n",
      "/Users/andrewbelyaev/UIUC/STAT 527/STAT527 Final Project/venv/lib/python3.9/site-packages/sklearn/linear_model/_coordinate_descent.py:697: ConvergenceWarning: Objective did not converge. You might want to increase the number of iterations, check the scale of the features or consider increasing regularisation. Duality gap: 7.142e+10, tolerance: 6.257e+08\n",
      "  model = cd_fast.enet_coordinate_descent(\n",
      "/Users/andrewbelyaev/UIUC/STAT 527/STAT527 Final Project/venv/lib/python3.9/site-packages/sklearn/linear_model/_coordinate_descent.py:697: ConvergenceWarning: Objective did not converge. You might want to increase the number of iterations, check the scale of the features or consider increasing regularisation. Duality gap: 1.734e+11, tolerance: 6.030e+08\n",
      "  model = cd_fast.enet_coordinate_descent(\n",
      "/Users/andrewbelyaev/UIUC/STAT 527/STAT527 Final Project/venv/lib/python3.9/site-packages/sklearn/linear_model/_coordinate_descent.py:697: ConvergenceWarning: Objective did not converge. You might want to increase the number of iterations, check the scale of the features or consider increasing regularisation. Duality gap: 1.848e+11, tolerance: 6.257e+08\n",
      "  model = cd_fast.enet_coordinate_descent(\n",
      "/Users/andrewbelyaev/UIUC/STAT 527/STAT527 Final Project/venv/lib/python3.9/site-packages/sklearn/linear_model/_coordinate_descent.py:697: ConvergenceWarning: Objective did not converge. You might want to increase the number of iterations, check the scale of the features or consider increasing regularisation. Duality gap: 1.558e+11, tolerance: 6.147e+08\n",
      "  model = cd_fast.enet_coordinate_descent(\n",
      "/Users/andrewbelyaev/UIUC/STAT 527/STAT527 Final Project/venv/lib/python3.9/site-packages/sklearn/linear_model/_coordinate_descent.py:697: ConvergenceWarning: Objective did not converge. You might want to increase the number of iterations, check the scale of the features or consider increasing regularisation. Duality gap: 8.094e+10, tolerance: 6.026e+08\n",
      "  model = cd_fast.enet_coordinate_descent(\n",
      "/Users/andrewbelyaev/UIUC/STAT 527/STAT527 Final Project/venv/lib/python3.9/site-packages/sklearn/linear_model/_coordinate_descent.py:697: ConvergenceWarning: Objective did not converge. You might want to increase the number of iterations, check the scale of the features or consider increasing regularisation. Duality gap: 4.543e+10, tolerance: 6.280e+08\n",
      "  model = cd_fast.enet_coordinate_descent(\n",
      "/Users/andrewbelyaev/UIUC/STAT 527/STAT527 Final Project/venv/lib/python3.9/site-packages/sklearn/linear_model/_coordinate_descent.py:697: ConvergenceWarning: Objective did not converge. You might want to increase the number of iterations, check the scale of the features or consider increasing regularisation. Duality gap: 1.206e+09, tolerance: 6.257e+08\n",
      "  model = cd_fast.enet_coordinate_descent(\n",
      "/Users/andrewbelyaev/UIUC/STAT 527/STAT527 Final Project/venv/lib/python3.9/site-packages/sklearn/linear_model/_coordinate_descent.py:697: ConvergenceWarning: Objective did not converge. You might want to increase the number of iterations, check the scale of the features or consider increasing regularisation. Duality gap: 7.943e+10, tolerance: 6.147e+08\n",
      "  model = cd_fast.enet_coordinate_descent(\n",
      "/Users/andrewbelyaev/UIUC/STAT 527/STAT527 Final Project/venv/lib/python3.9/site-packages/sklearn/linear_model/_coordinate_descent.py:697: ConvergenceWarning: Objective did not converge. You might want to increase the number of iterations, check the scale of the features or consider increasing regularisation. Duality gap: 5.802e+10, tolerance: 6.030e+08\n",
      "  model = cd_fast.enet_coordinate_descent(\n",
      "/Users/andrewbelyaev/UIUC/STAT 527/STAT527 Final Project/venv/lib/python3.9/site-packages/sklearn/linear_model/_coordinate_descent.py:697: ConvergenceWarning: Objective did not converge. You might want to increase the number of iterations, check the scale of the features or consider increasing regularisation. Duality gap: 1.008e+09, tolerance: 6.026e+08\n",
      "  model = cd_fast.enet_coordinate_descent(\n",
      "/Users/andrewbelyaev/UIUC/STAT 527/STAT527 Final Project/venv/lib/python3.9/site-packages/sklearn/linear_model/_coordinate_descent.py:697: ConvergenceWarning: Objective did not converge. You might want to increase the number of iterations, check the scale of the features or consider increasing regularisation. Duality gap: 2.061e+11, tolerance: 6.133e+08\n",
      "  model = cd_fast.enet_coordinate_descent(\n",
      "/Users/andrewbelyaev/UIUC/STAT 527/STAT527 Final Project/venv/lib/python3.9/site-packages/sklearn/linear_model/_coordinate_descent.py:697: ConvergenceWarning: Objective did not converge. You might want to increase the number of iterations, check the scale of the features or consider increasing regularisation. Duality gap: 2.080e+11, tolerance: 5.973e+08\n",
      "  model = cd_fast.enet_coordinate_descent(\n",
      "/Users/andrewbelyaev/UIUC/STAT 527/STAT527 Final Project/venv/lib/python3.9/site-packages/sklearn/linear_model/_coordinate_descent.py:697: ConvergenceWarning: Objective did not converge. You might want to increase the number of iterations, check the scale of the features or consider increasing regularisation. Duality gap: 1.931e+11, tolerance: 6.176e+08\n",
      "  model = cd_fast.enet_coordinate_descent(\n",
      "/Users/andrewbelyaev/UIUC/STAT 527/STAT527 Final Project/venv/lib/python3.9/site-packages/sklearn/linear_model/_coordinate_descent.py:697: ConvergenceWarning: Objective did not converge. You might want to increase the number of iterations, check the scale of the features or consider increasing regularisation. Duality gap: 2.007e+11, tolerance: 6.297e+08\n",
      "  model = cd_fast.enet_coordinate_descent(\n",
      "/Users/andrewbelyaev/UIUC/STAT 527/STAT527 Final Project/venv/lib/python3.9/site-packages/sklearn/linear_model/_coordinate_descent.py:697: ConvergenceWarning: Objective did not converge. You might want to increase the number of iterations, check the scale of the features or consider increasing regularisation. Duality gap: 1.937e+11, tolerance: 6.043e+08\n",
      "  model = cd_fast.enet_coordinate_descent(\n",
      "/Users/andrewbelyaev/UIUC/STAT 527/STAT527 Final Project/venv/lib/python3.9/site-packages/sklearn/linear_model/_coordinate_descent.py:697: ConvergenceWarning: Objective did not converge. You might want to increase the number of iterations, check the scale of the features or consider increasing regularisation. Duality gap: 2.044e+11, tolerance: 6.133e+08\n",
      "  model = cd_fast.enet_coordinate_descent(\n",
      "/Users/andrewbelyaev/UIUC/STAT 527/STAT527 Final Project/venv/lib/python3.9/site-packages/sklearn/linear_model/_coordinate_descent.py:697: ConvergenceWarning: Objective did not converge. You might want to increase the number of iterations, check the scale of the features or consider increasing regularisation. Duality gap: 2.064e+11, tolerance: 5.973e+08\n",
      "  model = cd_fast.enet_coordinate_descent(\n",
      "/Users/andrewbelyaev/UIUC/STAT 527/STAT527 Final Project/venv/lib/python3.9/site-packages/sklearn/linear_model/_coordinate_descent.py:697: ConvergenceWarning: Objective did not converge. You might want to increase the number of iterations, check the scale of the features or consider increasing regularisation. Duality gap: 1.917e+11, tolerance: 6.043e+08\n",
      "  model = cd_fast.enet_coordinate_descent(\n",
      "/Users/andrewbelyaev/UIUC/STAT 527/STAT527 Final Project/venv/lib/python3.9/site-packages/sklearn/linear_model/_coordinate_descent.py:697: ConvergenceWarning: Objective did not converge. You might want to increase the number of iterations, check the scale of the features or consider increasing regularisation. Duality gap: 1.899e+11, tolerance: 6.176e+08\n",
      "  model = cd_fast.enet_coordinate_descent(\n",
      "/Users/andrewbelyaev/UIUC/STAT 527/STAT527 Final Project/venv/lib/python3.9/site-packages/sklearn/linear_model/_coordinate_descent.py:697: ConvergenceWarning: Objective did not converge. You might want to increase the number of iterations, check the scale of the features or consider increasing regularisation. Duality gap: 1.880e+11, tolerance: 6.133e+08\n",
      "  model = cd_fast.enet_coordinate_descent(\n",
      "/Users/andrewbelyaev/UIUC/STAT 527/STAT527 Final Project/venv/lib/python3.9/site-packages/sklearn/linear_model/_coordinate_descent.py:697: ConvergenceWarning: Objective did not converge. You might want to increase the number of iterations, check the scale of the features or consider increasing regularisation. Duality gap: 1.909e+11, tolerance: 5.973e+08\n",
      "  model = cd_fast.enet_coordinate_descent(\n",
      "/Users/andrewbelyaev/UIUC/STAT 527/STAT527 Final Project/venv/lib/python3.9/site-packages/sklearn/linear_model/_coordinate_descent.py:697: ConvergenceWarning: Objective did not converge. You might want to increase the number of iterations, check the scale of the features or consider increasing regularisation. Duality gap: 1.978e+11, tolerance: 6.297e+08\n",
      "  model = cd_fast.enet_coordinate_descent(\n",
      "/Users/andrewbelyaev/UIUC/STAT 527/STAT527 Final Project/venv/lib/python3.9/site-packages/sklearn/linear_model/_coordinate_descent.py:697: ConvergenceWarning: Objective did not converge. You might want to increase the number of iterations, check the scale of the features or consider increasing regularisation. Duality gap: 1.621e+11, tolerance: 6.176e+08\n",
      "  model = cd_fast.enet_coordinate_descent(\n",
      "/Users/andrewbelyaev/UIUC/STAT 527/STAT527 Final Project/venv/lib/python3.9/site-packages/sklearn/linear_model/_coordinate_descent.py:697: ConvergenceWarning: Objective did not converge. You might want to increase the number of iterations, check the scale of the features or consider increasing regularisation. Duality gap: 1.731e+11, tolerance: 6.043e+08\n",
      "  model = cd_fast.enet_coordinate_descent(\n",
      "/Users/andrewbelyaev/UIUC/STAT 527/STAT527 Final Project/venv/lib/python3.9/site-packages/sklearn/linear_model/_coordinate_descent.py:697: ConvergenceWarning: Objective did not converge. You might want to increase the number of iterations, check the scale of the features or consider increasing regularisation. Duality gap: 1.719e+11, tolerance: 6.297e+08\n",
      "  model = cd_fast.enet_coordinate_descent(\n",
      "/Users/andrewbelyaev/UIUC/STAT 527/STAT527 Final Project/venv/lib/python3.9/site-packages/sklearn/linear_model/_coordinate_descent.py:697: ConvergenceWarning: Objective did not converge. You might want to increase the number of iterations, check the scale of the features or consider increasing regularisation. Duality gap: 8.961e+10, tolerance: 6.133e+08\n",
      "  model = cd_fast.enet_coordinate_descent(\n",
      "/Users/andrewbelyaev/UIUC/STAT 527/STAT527 Final Project/venv/lib/python3.9/site-packages/sklearn/linear_model/_coordinate_descent.py:697: ConvergenceWarning: Objective did not converge. You might want to increase the number of iterations, check the scale of the features or consider increasing regularisation. Duality gap: 9.462e+10, tolerance: 5.973e+08\n",
      "  model = cd_fast.enet_coordinate_descent(\n",
      "/Users/andrewbelyaev/UIUC/STAT 527/STAT527 Final Project/venv/lib/python3.9/site-packages/sklearn/linear_model/_coordinate_descent.py:697: ConvergenceWarning: Objective did not converge. You might want to increase the number of iterations, check the scale of the features or consider increasing regularisation. Duality gap: 9.049e+08, tolerance: 6.176e+08\n",
      "  model = cd_fast.enet_coordinate_descent(\n",
      "/Users/andrewbelyaev/UIUC/STAT 527/STAT527 Final Project/venv/lib/python3.9/site-packages/sklearn/linear_model/_coordinate_descent.py:697: ConvergenceWarning: Objective did not converge. You might want to increase the number of iterations, check the scale of the features or consider increasing regularisation. Duality gap: 1.605e+09, tolerance: 6.133e+08\n",
      "  model = cd_fast.enet_coordinate_descent(\n",
      "/Users/andrewbelyaev/UIUC/STAT 527/STAT527 Final Project/venv/lib/python3.9/site-packages/sklearn/linear_model/_coordinate_descent.py:697: ConvergenceWarning: Objective did not converge. You might want to increase the number of iterations, check the scale of the features or consider increasing regularisation. Duality gap: 5.450e+10, tolerance: 6.297e+08\n",
      "  model = cd_fast.enet_coordinate_descent(\n",
      "/Users/andrewbelyaev/UIUC/STAT 527/STAT527 Final Project/venv/lib/python3.9/site-packages/sklearn/linear_model/_coordinate_descent.py:697: ConvergenceWarning: Objective did not converge. You might want to increase the number of iterations, check the scale of the features or consider increasing regularisation. Duality gap: 7.238e+08, tolerance: 6.043e+08\n",
      "  model = cd_fast.enet_coordinate_descent(\n",
      "/Users/andrewbelyaev/UIUC/STAT 527/STAT527 Final Project/venv/lib/python3.9/site-packages/sklearn/linear_model/_coordinate_descent.py:697: ConvergenceWarning: Objective did not converge. You might want to increase the number of iterations, check the scale of the features or consider increasing regularisation. Duality gap: 7.336e+10, tolerance: 6.043e+08\n",
      "  model = cd_fast.enet_coordinate_descent(\n",
      "/Users/andrewbelyaev/UIUC/STAT 527/STAT527 Final Project/venv/lib/python3.9/site-packages/sklearn/linear_model/_coordinate_descent.py:697: ConvergenceWarning: Objective did not converge. You might want to increase the number of iterations, check the scale of the features or consider increasing regularisation. Duality gap: 4.650e+10, tolerance: 6.176e+08\n",
      "  model = cd_fast.enet_coordinate_descent(\n",
      "/Users/andrewbelyaev/UIUC/STAT 527/STAT527 Final Project/venv/lib/python3.9/site-packages/sklearn/linear_model/_coordinate_descent.py:697: ConvergenceWarning: Objective did not converge. You might want to increase the number of iterations, check the scale of the features or consider increasing regularisation. Duality gap: 1.828e+09, tolerance: 6.297e+08\n",
      "  model = cd_fast.enet_coordinate_descent(\n",
      "/Users/andrewbelyaev/UIUC/STAT 527/STAT527 Final Project/venv/lib/python3.9/site-packages/sklearn/linear_model/_coordinate_descent.py:697: ConvergenceWarning: Objective did not converge. You might want to increase the number of iterations, check the scale of the features or consider increasing regularisation. Duality gap: 3.162e+09, tolerance: 5.973e+08\n",
      "  model = cd_fast.enet_coordinate_descent(\n",
      "/Users/andrewbelyaev/UIUC/STAT 527/STAT527 Final Project/venv/lib/python3.9/site-packages/sklearn/linear_model/_coordinate_descent.py:697: ConvergenceWarning: Objective did not converge. You might want to increase the number of iterations, check the scale of the features or consider increasing regularisation. Duality gap: 2.013e+11, tolerance: 5.728e+08\n",
      "  model = cd_fast.enet_coordinate_descent(\n",
      "/Users/andrewbelyaev/UIUC/STAT 527/STAT527 Final Project/venv/lib/python3.9/site-packages/sklearn/linear_model/_coordinate_descent.py:697: ConvergenceWarning: Objective did not converge. You might want to increase the number of iterations, check the scale of the features or consider increasing regularisation. Duality gap: 2.073e+11, tolerance: 6.103e+08\n",
      "  model = cd_fast.enet_coordinate_descent(\n",
      "/Users/andrewbelyaev/UIUC/STAT 527/STAT527 Final Project/venv/lib/python3.9/site-packages/sklearn/linear_model/_coordinate_descent.py:697: ConvergenceWarning: Objective did not converge. You might want to increase the number of iterations, check the scale of the features or consider increasing regularisation. Duality gap: 1.967e+11, tolerance: 6.179e+08\n",
      "  model = cd_fast.enet_coordinate_descent(\n",
      "/Users/andrewbelyaev/UIUC/STAT 527/STAT527 Final Project/venv/lib/python3.9/site-packages/sklearn/linear_model/_coordinate_descent.py:697: ConvergenceWarning: Objective did not converge. You might want to increase the number of iterations, check the scale of the features or consider increasing regularisation. Duality gap: 2.006e+11, tolerance: 5.813e+08\n",
      "  model = cd_fast.enet_coordinate_descent(\n",
      "/Users/andrewbelyaev/UIUC/STAT 527/STAT527 Final Project/venv/lib/python3.9/site-packages/sklearn/linear_model/_coordinate_descent.py:697: ConvergenceWarning: Objective did not converge. You might want to increase the number of iterations, check the scale of the features or consider increasing regularisation. Duality gap: 2.055e+11, tolerance: 6.103e+08\n",
      "  model = cd_fast.enet_coordinate_descent(\n",
      "/Users/andrewbelyaev/UIUC/STAT 527/STAT527 Final Project/venv/lib/python3.9/site-packages/sklearn/linear_model/_coordinate_descent.py:697: ConvergenceWarning: Objective did not converge. You might want to increase the number of iterations, check the scale of the features or consider increasing regularisation. Duality gap: 1.927e+11, tolerance: 5.985e+08\n",
      "  model = cd_fast.enet_coordinate_descent(\n",
      "/Users/andrewbelyaev/UIUC/STAT 527/STAT527 Final Project/venv/lib/python3.9/site-packages/sklearn/linear_model/_coordinate_descent.py:697: ConvergenceWarning: Objective did not converge. You might want to increase the number of iterations, check the scale of the features or consider increasing regularisation. Duality gap: 1.999e+11, tolerance: 5.728e+08\n",
      "  model = cd_fast.enet_coordinate_descent(\n",
      "/Users/andrewbelyaev/UIUC/STAT 527/STAT527 Final Project/venv/lib/python3.9/site-packages/sklearn/linear_model/_coordinate_descent.py:697: ConvergenceWarning: Objective did not converge. You might want to increase the number of iterations, check the scale of the features or consider increasing regularisation. Duality gap: 1.984e+11, tolerance: 5.813e+08\n",
      "  model = cd_fast.enet_coordinate_descent(\n",
      "/Users/andrewbelyaev/UIUC/STAT 527/STAT527 Final Project/venv/lib/python3.9/site-packages/sklearn/linear_model/_coordinate_descent.py:697: ConvergenceWarning: Objective did not converge. You might want to increase the number of iterations, check the scale of the features or consider increasing regularisation. Duality gap: 1.943e+11, tolerance: 6.179e+08\n",
      "  model = cd_fast.enet_coordinate_descent(\n",
      "/Users/andrewbelyaev/UIUC/STAT 527/STAT527 Final Project/venv/lib/python3.9/site-packages/sklearn/linear_model/_coordinate_descent.py:697: ConvergenceWarning: Objective did not converge. You might want to increase the number of iterations, check the scale of the features or consider increasing regularisation. Duality gap: 1.900e+11, tolerance: 5.985e+08\n",
      "  model = cd_fast.enet_coordinate_descent(\n",
      "/Users/andrewbelyaev/UIUC/STAT 527/STAT527 Final Project/venv/lib/python3.9/site-packages/sklearn/linear_model/_coordinate_descent.py:697: ConvergenceWarning: Objective did not converge. You might want to increase the number of iterations, check the scale of the features or consider increasing regularisation. Duality gap: 1.885e+11, tolerance: 6.103e+08\n",
      "  model = cd_fast.enet_coordinate_descent(\n",
      "/Users/andrewbelyaev/UIUC/STAT 527/STAT527 Final Project/venv/lib/python3.9/site-packages/sklearn/linear_model/_coordinate_descent.py:697: ConvergenceWarning: Objective did not converge. You might want to increase the number of iterations, check the scale of the features or consider increasing regularisation. Duality gap: 1.862e+11, tolerance: 5.728e+08\n",
      "  model = cd_fast.enet_coordinate_descent(\n",
      "/Users/andrewbelyaev/UIUC/STAT 527/STAT527 Final Project/venv/lib/python3.9/site-packages/sklearn/linear_model/_coordinate_descent.py:697: ConvergenceWarning: Objective did not converge. You might want to increase the number of iterations, check the scale of the features or consider increasing regularisation. Duality gap: 1.774e+11, tolerance: 5.813e+08\n",
      "  model = cd_fast.enet_coordinate_descent(\n",
      "/Users/andrewbelyaev/UIUC/STAT 527/STAT527 Final Project/venv/lib/python3.9/site-packages/sklearn/linear_model/_coordinate_descent.py:697: ConvergenceWarning: Objective did not converge. You might want to increase the number of iterations, check the scale of the features or consider increasing regularisation. Duality gap: 8.830e+10, tolerance: 6.103e+08\n",
      "  model = cd_fast.enet_coordinate_descent(\n",
      "/Users/andrewbelyaev/UIUC/STAT 527/STAT527 Final Project/venv/lib/python3.9/site-packages/sklearn/linear_model/_coordinate_descent.py:697: ConvergenceWarning: Objective did not converge. You might want to increase the number of iterations, check the scale of the features or consider increasing regularisation. Duality gap: 1.723e+11, tolerance: 6.179e+08\n",
      "  model = cd_fast.enet_coordinate_descent(\n",
      "/Users/andrewbelyaev/UIUC/STAT 527/STAT527 Final Project/venv/lib/python3.9/site-packages/sklearn/linear_model/_coordinate_descent.py:697: ConvergenceWarning: Objective did not converge. You might want to increase the number of iterations, check the scale of the features or consider increasing regularisation. Duality gap: 1.651e+11, tolerance: 5.985e+08\n",
      "  model = cd_fast.enet_coordinate_descent(\n",
      "/Users/andrewbelyaev/UIUC/STAT 527/STAT527 Final Project/venv/lib/python3.9/site-packages/sklearn/linear_model/_coordinate_descent.py:697: ConvergenceWarning: Objective did not converge. You might want to increase the number of iterations, check the scale of the features or consider increasing regularisation. Duality gap: 5.994e+10, tolerance: 6.179e+08\n",
      "  model = cd_fast.enet_coordinate_descent(\n",
      "/Users/andrewbelyaev/UIUC/STAT 527/STAT527 Final Project/venv/lib/python3.9/site-packages/sklearn/linear_model/_coordinate_descent.py:697: ConvergenceWarning: Objective did not converge. You might want to increase the number of iterations, check the scale of the features or consider increasing regularisation. Duality gap: 1.244e+09, tolerance: 6.103e+08\n",
      "  model = cd_fast.enet_coordinate_descent(\n",
      "/Users/andrewbelyaev/UIUC/STAT 527/STAT527 Final Project/venv/lib/python3.9/site-packages/sklearn/linear_model/_coordinate_descent.py:697: ConvergenceWarning: Objective did not converge. You might want to increase the number of iterations, check the scale of the features or consider increasing regularisation. Duality gap: 9.739e+10, tolerance: 5.728e+08\n",
      "  model = cd_fast.enet_coordinate_descent(\n",
      "/Users/andrewbelyaev/UIUC/STAT 527/STAT527 Final Project/venv/lib/python3.9/site-packages/sklearn/linear_model/_coordinate_descent.py:697: ConvergenceWarning: Objective did not converge. You might want to increase the number of iterations, check the scale of the features or consider increasing regularisation. Duality gap: 1.020e+09, tolerance: 5.813e+08\n",
      "  model = cd_fast.enet_coordinate_descent(\n",
      "/Users/andrewbelyaev/UIUC/STAT 527/STAT527 Final Project/venv/lib/python3.9/site-packages/sklearn/linear_model/_coordinate_descent.py:697: ConvergenceWarning: Objective did not converge. You might want to increase the number of iterations, check the scale of the features or consider increasing regularisation. Duality gap: 1.488e+09, tolerance: 5.985e+08\n",
      "  model = cd_fast.enet_coordinate_descent(\n",
      "/Users/andrewbelyaev/UIUC/STAT 527/STAT527 Final Project/venv/lib/python3.9/site-packages/sklearn/linear_model/_coordinate_descent.py:697: ConvergenceWarning: Objective did not converge. You might want to increase the number of iterations, check the scale of the features or consider increasing regularisation. Duality gap: 2.495e+09, tolerance: 5.728e+08\n",
      "  model = cd_fast.enet_coordinate_descent(\n",
      "/Users/andrewbelyaev/UIUC/STAT 527/STAT527 Final Project/venv/lib/python3.9/site-packages/sklearn/linear_model/_coordinate_descent.py:697: ConvergenceWarning: Objective did not converge. You might want to increase the number of iterations, check the scale of the features or consider increasing regularisation. Duality gap: 5.305e+10, tolerance: 5.985e+08\n",
      "  model = cd_fast.enet_coordinate_descent(\n",
      "/Users/andrewbelyaev/UIUC/STAT 527/STAT527 Final Project/venv/lib/python3.9/site-packages/sklearn/linear_model/_coordinate_descent.py:697: ConvergenceWarning: Objective did not converge. You might want to increase the number of iterations, check the scale of the features or consider increasing regularisation. Duality gap: 6.890e+10, tolerance: 5.813e+08\n",
      "  model = cd_fast.enet_coordinate_descent(\n",
      "/Users/andrewbelyaev/UIUC/STAT 527/STAT527 Final Project/venv/lib/python3.9/site-packages/sklearn/linear_model/_coordinate_descent.py:697: ConvergenceWarning: Objective did not converge. You might want to increase the number of iterations, check the scale of the features or consider increasing regularisation. Duality gap: 9.988e+08, tolerance: 6.179e+08\n",
      "  model = cd_fast.enet_coordinate_descent(\n",
      "/Users/andrewbelyaev/UIUC/STAT 527/STAT527 Final Project/venv/lib/python3.9/site-packages/sklearn/linear_model/_coordinate_descent.py:697: ConvergenceWarning: Objective did not converge. You might want to increase the number of iterations, check the scale of the features or consider increasing regularisation. Duality gap: 1.891e+11, tolerance: 5.704e+08\n",
      "  model = cd_fast.enet_coordinate_descent(\n",
      "/Users/andrewbelyaev/UIUC/STAT 527/STAT527 Final Project/venv/lib/python3.9/site-packages/sklearn/linear_model/_coordinate_descent.py:697: ConvergenceWarning: Objective did not converge. You might want to increase the number of iterations, check the scale of the features or consider increasing regularisation. Duality gap: 1.962e+11, tolerance: 5.983e+08\n",
      "  model = cd_fast.enet_coordinate_descent(\n",
      "/Users/andrewbelyaev/UIUC/STAT 527/STAT527 Final Project/venv/lib/python3.9/site-packages/sklearn/linear_model/_coordinate_descent.py:697: ConvergenceWarning: Objective did not converge. You might want to increase the number of iterations, check the scale of the features or consider increasing regularisation. Duality gap: 1.886e+11, tolerance: 5.770e+08\n",
      "  model = cd_fast.enet_coordinate_descent(\n",
      "/Users/andrewbelyaev/UIUC/STAT 527/STAT527 Final Project/venv/lib/python3.9/site-packages/sklearn/linear_model/_coordinate_descent.py:697: ConvergenceWarning: Objective did not converge. You might want to increase the number of iterations, check the scale of the features or consider increasing regularisation. Duality gap: 1.877e+11, tolerance: 5.704e+08\n",
      "  model = cd_fast.enet_coordinate_descent(\n",
      "/Users/andrewbelyaev/UIUC/STAT 527/STAT527 Final Project/venv/lib/python3.9/site-packages/sklearn/linear_model/_coordinate_descent.py:697: ConvergenceWarning: Objective did not converge. You might want to increase the number of iterations, check the scale of the features or consider increasing regularisation. Duality gap: 1.901e+11, tolerance: 6.077e+08\n",
      "  model = cd_fast.enet_coordinate_descent(\n",
      "/Users/andrewbelyaev/UIUC/STAT 527/STAT527 Final Project/venv/lib/python3.9/site-packages/sklearn/linear_model/_coordinate_descent.py:697: ConvergenceWarning: Objective did not converge. You might want to increase the number of iterations, check the scale of the features or consider increasing regularisation. Duality gap: 2.064e+11, tolerance: 6.281e+08\n",
      "  model = cd_fast.enet_coordinate_descent(\n",
      "/Users/andrewbelyaev/UIUC/STAT 527/STAT527 Final Project/venv/lib/python3.9/site-packages/sklearn/linear_model/_coordinate_descent.py:697: ConvergenceWarning: Objective did not converge. You might want to increase the number of iterations, check the scale of the features or consider increasing regularisation. Duality gap: 1.945e+11, tolerance: 5.983e+08\n",
      "  model = cd_fast.enet_coordinate_descent(\n",
      "/Users/andrewbelyaev/UIUC/STAT 527/STAT527 Final Project/venv/lib/python3.9/site-packages/sklearn/linear_model/_coordinate_descent.py:697: ConvergenceWarning: Objective did not converge. You might want to increase the number of iterations, check the scale of the features or consider increasing regularisation. Duality gap: 1.869e+11, tolerance: 5.770e+08\n",
      "  model = cd_fast.enet_coordinate_descent(\n",
      "/Users/andrewbelyaev/UIUC/STAT 527/STAT527 Final Project/venv/lib/python3.9/site-packages/sklearn/linear_model/_coordinate_descent.py:697: ConvergenceWarning: Objective did not converge. You might want to increase the number of iterations, check the scale of the features or consider increasing regularisation. Duality gap: 1.865e+11, tolerance: 6.077e+08\n",
      "  model = cd_fast.enet_coordinate_descent(\n",
      "/Users/andrewbelyaev/UIUC/STAT 527/STAT527 Final Project/venv/lib/python3.9/site-packages/sklearn/linear_model/_coordinate_descent.py:697: ConvergenceWarning: Objective did not converge. You might want to increase the number of iterations, check the scale of the features or consider increasing regularisation. Duality gap: 1.791e+11, tolerance: 5.983e+08\n",
      "  model = cd_fast.enet_coordinate_descent(\n",
      "/Users/andrewbelyaev/UIUC/STAT 527/STAT527 Final Project/venv/lib/python3.9/site-packages/sklearn/linear_model/_coordinate_descent.py:697: ConvergenceWarning: Objective did not converge. You might want to increase the number of iterations, check the scale of the features or consider increasing regularisation. Duality gap: 2.034e+11, tolerance: 6.281e+08\n",
      "  model = cd_fast.enet_coordinate_descent(\n",
      "/Users/andrewbelyaev/UIUC/STAT 527/STAT527 Final Project/venv/lib/python3.9/site-packages/sklearn/linear_model/_coordinate_descent.py:697: ConvergenceWarning: Objective did not converge. You might want to increase the number of iterations, check the scale of the features or consider increasing regularisation. Duality gap: 1.766e+11, tolerance: 6.281e+08\n",
      "  model = cd_fast.enet_coordinate_descent(\n",
      "/Users/andrewbelyaev/UIUC/STAT 527/STAT527 Final Project/venv/lib/python3.9/site-packages/sklearn/linear_model/_coordinate_descent.py:697: ConvergenceWarning: Objective did not converge. You might want to increase the number of iterations, check the scale of the features or consider increasing regularisation. Duality gap: 1.747e+11, tolerance: 5.704e+08\n",
      "  model = cd_fast.enet_coordinate_descent(\n",
      "/Users/andrewbelyaev/UIUC/STAT 527/STAT527 Final Project/venv/lib/python3.9/site-packages/sklearn/linear_model/_coordinate_descent.py:697: ConvergenceWarning: Objective did not converge. You might want to increase the number of iterations, check the scale of the features or consider increasing regularisation. Duality gap: 1.709e+11, tolerance: 5.770e+08\n",
      "  model = cd_fast.enet_coordinate_descent(\n",
      "/Users/andrewbelyaev/UIUC/STAT 527/STAT527 Final Project/venv/lib/python3.9/site-packages/sklearn/linear_model/_coordinate_descent.py:697: ConvergenceWarning: Objective did not converge. You might want to increase the number of iterations, check the scale of the features or consider increasing regularisation. Duality gap: 1.553e+11, tolerance: 6.077e+08\n",
      "  model = cd_fast.enet_coordinate_descent(\n",
      "/Users/andrewbelyaev/UIUC/STAT 527/STAT527 Final Project/venv/lib/python3.9/site-packages/sklearn/linear_model/_coordinate_descent.py:697: ConvergenceWarning: Objective did not converge. You might want to increase the number of iterations, check the scale of the features or consider increasing regularisation. Duality gap: 8.582e+10, tolerance: 5.983e+08\n",
      "  model = cd_fast.enet_coordinate_descent(\n",
      "/Users/andrewbelyaev/UIUC/STAT 527/STAT527 Final Project/venv/lib/python3.9/site-packages/sklearn/linear_model/_coordinate_descent.py:697: ConvergenceWarning: Objective did not converge. You might want to increase the number of iterations, check the scale of the features or consider increasing regularisation. Duality gap: 9.004e+10, tolerance: 5.704e+08\n",
      "  model = cd_fast.enet_coordinate_descent(\n",
      "/Users/andrewbelyaev/UIUC/STAT 527/STAT527 Final Project/venv/lib/python3.9/site-packages/sklearn/linear_model/_coordinate_descent.py:697: ConvergenceWarning: Objective did not converge. You might want to increase the number of iterations, check the scale of the features or consider increasing regularisation. Duality gap: 1.739e+09, tolerance: 6.281e+08\n",
      "  model = cd_fast.enet_coordinate_descent(\n",
      "/Users/andrewbelyaev/UIUC/STAT 527/STAT527 Final Project/venv/lib/python3.9/site-packages/sklearn/linear_model/_coordinate_descent.py:697: ConvergenceWarning: Objective did not converge. You might want to increase the number of iterations, check the scale of the features or consider increasing regularisation. Duality gap: 1.231e+09, tolerance: 5.983e+08\n",
      "  model = cd_fast.enet_coordinate_descent(\n",
      "/Users/andrewbelyaev/UIUC/STAT 527/STAT527 Final Project/venv/lib/python3.9/site-packages/sklearn/linear_model/_coordinate_descent.py:697: ConvergenceWarning: Objective did not converge. You might want to increase the number of iterations, check the scale of the features or consider increasing regularisation. Duality gap: 4.254e+10, tolerance: 6.077e+08\n",
      "  model = cd_fast.enet_coordinate_descent(\n",
      "/Users/andrewbelyaev/UIUC/STAT 527/STAT527 Final Project/venv/lib/python3.9/site-packages/sklearn/linear_model/_coordinate_descent.py:697: ConvergenceWarning: Objective did not converge. You might want to increase the number of iterations, check the scale of the features or consider increasing regularisation. Duality gap: 9.282e+08, tolerance: 5.770e+08\n",
      "  model = cd_fast.enet_coordinate_descent(\n",
      "/Users/andrewbelyaev/UIUC/STAT 527/STAT527 Final Project/venv/lib/python3.9/site-packages/sklearn/linear_model/_coordinate_descent.py:697: ConvergenceWarning: Objective did not converge. You might want to increase the number of iterations, check the scale of the features or consider increasing regularisation. Duality gap: 7.805e+10, tolerance: 5.770e+08\n",
      "  model = cd_fast.enet_coordinate_descent(\n",
      "/Users/andrewbelyaev/UIUC/STAT 527/STAT527 Final Project/venv/lib/python3.9/site-packages/sklearn/linear_model/_coordinate_descent.py:697: ConvergenceWarning: Objective did not converge. You might want to increase the number of iterations, check the scale of the features or consider increasing regularisation. Duality gap: 2.080e+09, tolerance: 5.704e+08\n",
      "  model = cd_fast.enet_coordinate_descent(\n",
      "/Users/andrewbelyaev/UIUC/STAT 527/STAT527 Final Project/venv/lib/python3.9/site-packages/sklearn/linear_model/_coordinate_descent.py:697: ConvergenceWarning: Objective did not converge. You might want to increase the number of iterations, check the scale of the features or consider increasing regularisation. Duality gap: 5.559e+10, tolerance: 6.281e+08\n",
      "  model = cd_fast.enet_coordinate_descent(\n",
      "/Users/andrewbelyaev/UIUC/STAT 527/STAT527 Final Project/venv/lib/python3.9/site-packages/sklearn/linear_model/_coordinate_descent.py:697: ConvergenceWarning: Objective did not converge. You might want to increase the number of iterations, check the scale of the features or consider increasing regularisation. Duality gap: 1.438e+09, tolerance: 6.077e+08\n",
      "  model = cd_fast.enet_coordinate_descent(\n",
      "/Users/andrewbelyaev/UIUC/STAT 527/STAT527 Final Project/venv/lib/python3.9/site-packages/sklearn/linear_model/_coordinate_descent.py:697: ConvergenceWarning: Objective did not converge. You might want to increase the number of iterations, check the scale of the features or consider increasing regularisation. Duality gap: 2.108e+11, tolerance: 6.190e+08\n",
      "  model = cd_fast.enet_coordinate_descent(\n",
      "/Users/andrewbelyaev/UIUC/STAT 527/STAT527 Final Project/venv/lib/python3.9/site-packages/sklearn/linear_model/_coordinate_descent.py:697: ConvergenceWarning: Objective did not converge. You might want to increase the number of iterations, check the scale of the features or consider increasing regularisation. Duality gap: 2.053e+11, tolerance: 5.806e+08\n",
      "  model = cd_fast.enet_coordinate_descent(\n",
      "/Users/andrewbelyaev/UIUC/STAT 527/STAT527 Final Project/venv/lib/python3.9/site-packages/sklearn/linear_model/_coordinate_descent.py:697: ConvergenceWarning: Objective did not converge. You might want to increase the number of iterations, check the scale of the features or consider increasing regularisation. Duality gap: 2.087e+11, tolerance: 6.190e+08\n",
      "  model = cd_fast.enet_coordinate_descent(\n",
      "/Users/andrewbelyaev/UIUC/STAT 527/STAT527 Final Project/venv/lib/python3.9/site-packages/sklearn/linear_model/_coordinate_descent.py:697: ConvergenceWarning: Objective did not converge. You might want to increase the number of iterations, check the scale of the features or consider increasing regularisation. Duality gap: 1.957e+11, tolerance: 5.948e+08\n",
      "  model = cd_fast.enet_coordinate_descent(\n",
      "/Users/andrewbelyaev/UIUC/STAT 527/STAT527 Final Project/venv/lib/python3.9/site-packages/sklearn/linear_model/_coordinate_descent.py:697: ConvergenceWarning: Objective did not converge. You might want to increase the number of iterations, check the scale of the features or consider increasing regularisation. Duality gap: 1.883e+11, tolerance: 6.124e+08\n",
      "  model = cd_fast.enet_coordinate_descent(\n",
      "/Users/andrewbelyaev/UIUC/STAT 527/STAT527 Final Project/venv/lib/python3.9/site-packages/sklearn/linear_model/_coordinate_descent.py:697: ConvergenceWarning: Objective did not converge. You might want to increase the number of iterations, check the scale of the features or consider increasing regularisation. Duality gap: 2.054e+11, tolerance: 6.245e+08\n",
      "  model = cd_fast.enet_coordinate_descent(\n",
      "/Users/andrewbelyaev/UIUC/STAT 527/STAT527 Final Project/venv/lib/python3.9/site-packages/sklearn/linear_model/_coordinate_descent.py:697: ConvergenceWarning: Objective did not converge. You might want to increase the number of iterations, check the scale of the features or consider increasing regularisation. Duality gap: 2.026e+11, tolerance: 5.806e+08\n",
      "  model = cd_fast.enet_coordinate_descent(\n",
      "/Users/andrewbelyaev/UIUC/STAT 527/STAT527 Final Project/venv/lib/python3.9/site-packages/sklearn/linear_model/_coordinate_descent.py:697: ConvergenceWarning: Objective did not converge. You might want to increase the number of iterations, check the scale of the features or consider increasing regularisation. Duality gap: 1.920e+11, tolerance: 5.948e+08\n",
      "  model = cd_fast.enet_coordinate_descent(\n",
      "/Users/andrewbelyaev/UIUC/STAT 527/STAT527 Final Project/venv/lib/python3.9/site-packages/sklearn/linear_model/_coordinate_descent.py:697: ConvergenceWarning: Objective did not converge. You might want to increase the number of iterations, check the scale of the features or consider increasing regularisation. Duality gap: 2.002e+11, tolerance: 6.245e+08\n",
      "  model = cd_fast.enet_coordinate_descent(\n",
      "/Users/andrewbelyaev/UIUC/STAT 527/STAT527 Final Project/venv/lib/python3.9/site-packages/sklearn/linear_model/_coordinate_descent.py:697: ConvergenceWarning: Objective did not converge. You might want to increase the number of iterations, check the scale of the features or consider increasing regularisation. Duality gap: 1.885e+11, tolerance: 6.190e+08\n",
      "  model = cd_fast.enet_coordinate_descent(\n",
      "/Users/andrewbelyaev/UIUC/STAT 527/STAT527 Final Project/venv/lib/python3.9/site-packages/sklearn/linear_model/_coordinate_descent.py:697: ConvergenceWarning: Objective did not converge. You might want to increase the number of iterations, check the scale of the features or consider increasing regularisation. Duality gap: 1.788e+11, tolerance: 5.806e+08\n",
      "  model = cd_fast.enet_coordinate_descent(\n",
      "/Users/andrewbelyaev/UIUC/STAT 527/STAT527 Final Project/venv/lib/python3.9/site-packages/sklearn/linear_model/_coordinate_descent.py:697: ConvergenceWarning: Objective did not converge. You might want to increase the number of iterations, check the scale of the features or consider increasing regularisation. Duality gap: 1.838e+11, tolerance: 6.124e+08\n",
      "  model = cd_fast.enet_coordinate_descent(\n",
      "/Users/andrewbelyaev/UIUC/STAT 527/STAT527 Final Project/venv/lib/python3.9/site-packages/sklearn/linear_model/_coordinate_descent.py:697: ConvergenceWarning: Objective did not converge. You might want to increase the number of iterations, check the scale of the features or consider increasing regularisation. Duality gap: 1.569e+11, tolerance: 6.245e+08\n",
      "  model = cd_fast.enet_coordinate_descent(\n",
      "/Users/andrewbelyaev/UIUC/STAT 527/STAT527 Final Project/venv/lib/python3.9/site-packages/sklearn/linear_model/_coordinate_descent.py:697: ConvergenceWarning: Objective did not converge. You might want to increase the number of iterations, check the scale of the features or consider increasing regularisation. Duality gap: 1.592e+11, tolerance: 5.948e+08\n",
      "  model = cd_fast.enet_coordinate_descent(\n",
      "/Users/andrewbelyaev/UIUC/STAT 527/STAT527 Final Project/venv/lib/python3.9/site-packages/sklearn/linear_model/_coordinate_descent.py:697: ConvergenceWarning: Objective did not converge. You might want to increase the number of iterations, check the scale of the features or consider increasing regularisation. Duality gap: 1.461e+11, tolerance: 6.124e+08\n",
      "  model = cd_fast.enet_coordinate_descent(\n",
      "/Users/andrewbelyaev/UIUC/STAT 527/STAT527 Final Project/venv/lib/python3.9/site-packages/sklearn/linear_model/_coordinate_descent.py:697: ConvergenceWarning: Objective did not converge. You might want to increase the number of iterations, check the scale of the features or consider increasing regularisation. Duality gap: 7.951e+10, tolerance: 6.190e+08\n",
      "  model = cd_fast.enet_coordinate_descent(\n",
      "/Users/andrewbelyaev/UIUC/STAT 527/STAT527 Final Project/venv/lib/python3.9/site-packages/sklearn/linear_model/_coordinate_descent.py:697: ConvergenceWarning: Objective did not converge. You might want to increase the number of iterations, check the scale of the features or consider increasing regularisation. Duality gap: 6.242e+10, tolerance: 5.806e+08\n",
      "  model = cd_fast.enet_coordinate_descent(\n",
      "/Users/andrewbelyaev/UIUC/STAT 527/STAT527 Final Project/venv/lib/python3.9/site-packages/sklearn/linear_model/_coordinate_descent.py:697: ConvergenceWarning: Objective did not converge. You might want to increase the number of iterations, check the scale of the features or consider increasing regularisation. Duality gap: 1.436e+09, tolerance: 6.190e+08\n",
      "  model = cd_fast.enet_coordinate_descent(\n",
      "/Users/andrewbelyaev/UIUC/STAT 527/STAT527 Final Project/venv/lib/python3.9/site-packages/sklearn/linear_model/_coordinate_descent.py:697: ConvergenceWarning: Objective did not converge. You might want to increase the number of iterations, check the scale of the features or consider increasing regularisation. Duality gap: 1.655e+09, tolerance: 6.245e+08\n",
      "  model = cd_fast.enet_coordinate_descent(\n",
      "/Users/andrewbelyaev/UIUC/STAT 527/STAT527 Final Project/venv/lib/python3.9/site-packages/sklearn/linear_model/_coordinate_descent.py:697: ConvergenceWarning: Objective did not converge. You might want to increase the number of iterations, check the scale of the features or consider increasing regularisation. Duality gap: 4.401e+10, tolerance: 6.124e+08\n",
      "  model = cd_fast.enet_coordinate_descent(\n",
      "/Users/andrewbelyaev/UIUC/STAT 527/STAT527 Final Project/venv/lib/python3.9/site-packages/sklearn/linear_model/_coordinate_descent.py:697: ConvergenceWarning: Objective did not converge. You might want to increase the number of iterations, check the scale of the features or consider increasing regularisation. Duality gap: 2.095e+09, tolerance: 5.806e+08\n",
      "  model = cd_fast.enet_coordinate_descent(\n",
      "/Users/andrewbelyaev/UIUC/STAT 527/STAT527 Final Project/venv/lib/python3.9/site-packages/sklearn/linear_model/_coordinate_descent.py:697: ConvergenceWarning: Objective did not converge. You might want to increase the number of iterations, check the scale of the features or consider increasing regularisation. Duality gap: 4.443e+10, tolerance: 5.948e+08\n",
      "  model = cd_fast.enet_coordinate_descent(\n",
      "/Users/andrewbelyaev/UIUC/STAT 527/STAT527 Final Project/venv/lib/python3.9/site-packages/sklearn/linear_model/_coordinate_descent.py:697: ConvergenceWarning: Objective did not converge. You might want to increase the number of iterations, check the scale of the features or consider increasing regularisation. Duality gap: 4.817e+10, tolerance: 6.245e+08\n",
      "  model = cd_fast.enet_coordinate_descent(\n",
      "/Users/andrewbelyaev/UIUC/STAT 527/STAT527 Final Project/venv/lib/python3.9/site-packages/sklearn/linear_model/_coordinate_descent.py:697: ConvergenceWarning: Objective did not converge. You might want to increase the number of iterations, check the scale of the features or consider increasing regularisation. Duality gap: 1.873e+11, tolerance: 6.150e+08\n",
      "  model = cd_fast.enet_coordinate_descent(\n",
      "/Users/andrewbelyaev/UIUC/STAT 527/STAT527 Final Project/venv/lib/python3.9/site-packages/sklearn/linear_model/_coordinate_descent.py:697: ConvergenceWarning: Objective did not converge. You might want to increase the number of iterations, check the scale of the features or consider increasing regularisation. Duality gap: 1.858e+11, tolerance: 6.150e+08\n",
      "  model = cd_fast.enet_coordinate_descent(\n",
      "/Users/andrewbelyaev/UIUC/STAT 527/STAT527 Final Project/venv/lib/python3.9/site-packages/sklearn/linear_model/_coordinate_descent.py:697: ConvergenceWarning: Objective did not converge. You might want to increase the number of iterations, check the scale of the features or consider increasing regularisation. Duality gap: 1.917e+11, tolerance: 5.989e+08\n",
      "  model = cd_fast.enet_coordinate_descent(\n",
      "/Users/andrewbelyaev/UIUC/STAT 527/STAT527 Final Project/venv/lib/python3.9/site-packages/sklearn/linear_model/_coordinate_descent.py:697: ConvergenceWarning: Objective did not converge. You might want to increase the number of iterations, check the scale of the features or consider increasing regularisation. Duality gap: 1.717e+11, tolerance: 5.959e+08\n",
      "  model = cd_fast.enet_coordinate_descent(\n",
      "/Users/andrewbelyaev/UIUC/STAT 527/STAT527 Final Project/venv/lib/python3.9/site-packages/sklearn/linear_model/_coordinate_descent.py:697: ConvergenceWarning: Objective did not converge. You might want to increase the number of iterations, check the scale of the features or consider increasing regularisation. Duality gap: 1.970e+11, tolerance: 5.949e+08\n",
      "  model = cd_fast.enet_coordinate_descent(\n",
      "/Users/andrewbelyaev/UIUC/STAT 527/STAT527 Final Project/venv/lib/python3.9/site-packages/sklearn/linear_model/_coordinate_descent.py:697: ConvergenceWarning: Objective did not converge. You might want to increase the number of iterations, check the scale of the features or consider increasing regularisation. Duality gap: 1.951e+11, tolerance: 5.949e+08\n",
      "  model = cd_fast.enet_coordinate_descent(\n",
      "/Users/andrewbelyaev/UIUC/STAT 527/STAT527 Final Project/venv/lib/python3.9/site-packages/sklearn/linear_model/_coordinate_descent.py:697: ConvergenceWarning: Objective did not converge. You might want to increase the number of iterations, check the scale of the features or consider increasing regularisation. Duality gap: 1.894e+11, tolerance: 5.989e+08\n",
      "  model = cd_fast.enet_coordinate_descent(\n",
      "/Users/andrewbelyaev/UIUC/STAT 527/STAT527 Final Project/venv/lib/python3.9/site-packages/sklearn/linear_model/_coordinate_descent.py:697: ConvergenceWarning: Objective did not converge. You might want to increase the number of iterations, check the scale of the features or consider increasing regularisation. Duality gap: 1.866e+11, tolerance: 6.237e+08\n",
      "  model = cd_fast.enet_coordinate_descent(\n",
      "/Users/andrewbelyaev/UIUC/STAT 527/STAT527 Final Project/venv/lib/python3.9/site-packages/sklearn/linear_model/_coordinate_descent.py:697: ConvergenceWarning: Objective did not converge. You might want to increase the number of iterations, check the scale of the features or consider increasing regularisation. Duality gap: 1.695e+11, tolerance: 5.959e+08\n",
      "  model = cd_fast.enet_coordinate_descent(\n",
      "/Users/andrewbelyaev/UIUC/STAT 527/STAT527 Final Project/venv/lib/python3.9/site-packages/sklearn/linear_model/_coordinate_descent.py:697: ConvergenceWarning: Objective did not converge. You might want to increase the number of iterations, check the scale of the features or consider increasing regularisation. Duality gap: 1.712e+11, tolerance: 6.150e+08\n",
      "  model = cd_fast.enet_coordinate_descent(\n",
      "/Users/andrewbelyaev/UIUC/STAT 527/STAT527 Final Project/venv/lib/python3.9/site-packages/sklearn/linear_model/_coordinate_descent.py:697: ConvergenceWarning: Objective did not converge. You might want to increase the number of iterations, check the scale of the features or consider increasing regularisation. Duality gap: 1.774e+11, tolerance: 5.949e+08\n",
      "  model = cd_fast.enet_coordinate_descent(\n",
      "/Users/andrewbelyaev/UIUC/STAT 527/STAT527 Final Project/venv/lib/python3.9/site-packages/sklearn/linear_model/_coordinate_descent.py:697: ConvergenceWarning: Objective did not converge. You might want to increase the number of iterations, check the scale of the features or consider increasing regularisation. Duality gap: 1.493e+11, tolerance: 5.959e+08\n",
      "  model = cd_fast.enet_coordinate_descent(\n",
      "/Users/andrewbelyaev/UIUC/STAT 527/STAT527 Final Project/venv/lib/python3.9/site-packages/sklearn/linear_model/_coordinate_descent.py:697: ConvergenceWarning: Objective did not converge. You might want to increase the number of iterations, check the scale of the features or consider increasing regularisation. Duality gap: 1.843e+11, tolerance: 6.237e+08\n",
      "  model = cd_fast.enet_coordinate_descent(\n",
      "/Users/andrewbelyaev/UIUC/STAT 527/STAT527 Final Project/venv/lib/python3.9/site-packages/sklearn/linear_model/_coordinate_descent.py:697: ConvergenceWarning: Objective did not converge. You might want to increase the number of iterations, check the scale of the features or consider increasing regularisation. Duality gap: 8.407e+10, tolerance: 6.150e+08\n",
      "  model = cd_fast.enet_coordinate_descent(\n",
      "/Users/andrewbelyaev/UIUC/STAT 527/STAT527 Final Project/venv/lib/python3.9/site-packages/sklearn/linear_model/_coordinate_descent.py:697: ConvergenceWarning: Objective did not converge. You might want to increase the number of iterations, check the scale of the features or consider increasing regularisation. Duality gap: 1.631e+11, tolerance: 6.237e+08\n",
      "  model = cd_fast.enet_coordinate_descent(\n",
      "/Users/andrewbelyaev/UIUC/STAT 527/STAT527 Final Project/venv/lib/python3.9/site-packages/sklearn/linear_model/_coordinate_descent.py:697: ConvergenceWarning: Objective did not converge. You might want to increase the number of iterations, check the scale of the features or consider increasing regularisation. Duality gap: 1.686e+11, tolerance: 5.989e+08\n",
      "  model = cd_fast.enet_coordinate_descent(\n",
      "/Users/andrewbelyaev/UIUC/STAT 527/STAT527 Final Project/venv/lib/python3.9/site-packages/sklearn/linear_model/_coordinate_descent.py:697: ConvergenceWarning: Objective did not converge. You might want to increase the number of iterations, check the scale of the features or consider increasing regularisation. Duality gap: 7.837e+10, tolerance: 5.949e+08\n",
      "  model = cd_fast.enet_coordinate_descent(\n",
      "/Users/andrewbelyaev/UIUC/STAT 527/STAT527 Final Project/venv/lib/python3.9/site-packages/sklearn/linear_model/_coordinate_descent.py:697: ConvergenceWarning: Objective did not converge. You might want to increase the number of iterations, check the scale of the features or consider increasing regularisation. Duality gap: 6.346e+08, tolerance: 6.237e+08\n",
      "  model = cd_fast.enet_coordinate_descent(\n",
      "/Users/andrewbelyaev/UIUC/STAT 527/STAT527 Final Project/venv/lib/python3.9/site-packages/sklearn/linear_model/_coordinate_descent.py:697: ConvergenceWarning: Objective did not converge. You might want to increase the number of iterations, check the scale of the features or consider increasing regularisation. Duality gap: 2.121e+09, tolerance: 6.150e+08\n",
      "  model = cd_fast.enet_coordinate_descent(\n",
      "/Users/andrewbelyaev/UIUC/STAT 527/STAT527 Final Project/venv/lib/python3.9/site-packages/sklearn/linear_model/_coordinate_descent.py:697: ConvergenceWarning: Objective did not converge. You might want to increase the number of iterations, check the scale of the features or consider increasing regularisation. Duality gap: 7.001e+08, tolerance: 5.989e+08\n",
      "  model = cd_fast.enet_coordinate_descent(\n",
      "/Users/andrewbelyaev/UIUC/STAT 527/STAT527 Final Project/venv/lib/python3.9/site-packages/sklearn/linear_model/_coordinate_descent.py:697: ConvergenceWarning: Objective did not converge. You might want to increase the number of iterations, check the scale of the features or consider increasing regularisation. Duality gap: 5.477e+10, tolerance: 5.959e+08\n",
      "  model = cd_fast.enet_coordinate_descent(\n",
      "/Users/andrewbelyaev/UIUC/STAT 527/STAT527 Final Project/venv/lib/python3.9/site-packages/sklearn/linear_model/_coordinate_descent.py:697: ConvergenceWarning: Objective did not converge. You might want to increase the number of iterations, check the scale of the features or consider increasing regularisation. Duality gap: 2.204e+09, tolerance: 5.949e+08\n",
      "  model = cd_fast.enet_coordinate_descent(\n",
      "/Users/andrewbelyaev/UIUC/STAT 527/STAT527 Final Project/venv/lib/python3.9/site-packages/sklearn/linear_model/_coordinate_descent.py:697: ConvergenceWarning: Objective did not converge. You might want to increase the number of iterations, check the scale of the features or consider increasing regularisation. Duality gap: 6.411e+10, tolerance: 5.989e+08\n",
      "  model = cd_fast.enet_coordinate_descent(\n",
      "/Users/andrewbelyaev/UIUC/STAT 527/STAT527 Final Project/venv/lib/python3.9/site-packages/sklearn/linear_model/_coordinate_descent.py:697: ConvergenceWarning: Objective did not converge. You might want to increase the number of iterations, check the scale of the features or consider increasing regularisation. Duality gap: 1.605e+09, tolerance: 5.959e+08\n",
      "  model = cd_fast.enet_coordinate_descent(\n",
      "/Users/andrewbelyaev/UIUC/STAT 527/STAT527 Final Project/venv/lib/python3.9/site-packages/sklearn/linear_model/_coordinate_descent.py:697: ConvergenceWarning: Objective did not converge. You might want to increase the number of iterations, check the scale of the features or consider increasing regularisation. Duality gap: 5.875e+10, tolerance: 6.237e+08\n",
      "  model = cd_fast.enet_coordinate_descent(\n",
      "/Users/andrewbelyaev/UIUC/STAT 527/STAT527 Final Project/venv/lib/python3.9/site-packages/sklearn/linear_model/_coordinate_descent.py:697: ConvergenceWarning: Objective did not converge. You might want to increase the number of iterations, check the scale of the features or consider increasing regularisation. Duality gap: 1.989e+11, tolerance: 6.151e+08\n",
      "  model = cd_fast.enet_coordinate_descent(\n",
      "/Users/andrewbelyaev/UIUC/STAT 527/STAT527 Final Project/venv/lib/python3.9/site-packages/sklearn/linear_model/_coordinate_descent.py:697: ConvergenceWarning: Objective did not converge. You might want to increase the number of iterations, check the scale of the features or consider increasing regularisation. Duality gap: 1.894e+11, tolerance: 6.036e+08\n",
      "  model = cd_fast.enet_coordinate_descent(\n",
      "/Users/andrewbelyaev/UIUC/STAT 527/STAT527 Final Project/venv/lib/python3.9/site-packages/sklearn/linear_model/_coordinate_descent.py:697: ConvergenceWarning: Objective did not converge. You might want to increase the number of iterations, check the scale of the features or consider increasing regularisation. Duality gap: 1.968e+11, tolerance: 5.811e+08\n",
      "  model = cd_fast.enet_coordinate_descent(\n",
      "/Users/andrewbelyaev/UIUC/STAT 527/STAT527 Final Project/venv/lib/python3.9/site-packages/sklearn/linear_model/_coordinate_descent.py:697: ConvergenceWarning: Objective did not converge. You might want to increase the number of iterations, check the scale of the features or consider increasing regularisation. Duality gap: 1.972e+11, tolerance: 6.151e+08\n",
      "  model = cd_fast.enet_coordinate_descent(\n",
      "/Users/andrewbelyaev/UIUC/STAT 527/STAT527 Final Project/venv/lib/python3.9/site-packages/sklearn/linear_model/_coordinate_descent.py:697: ConvergenceWarning: Objective did not converge. You might want to increase the number of iterations, check the scale of the features or consider increasing regularisation. Duality gap: 1.890e+11, tolerance: 5.906e+08\n",
      "  model = cd_fast.enet_coordinate_descent(\n",
      "/Users/andrewbelyaev/UIUC/STAT 527/STAT527 Final Project/venv/lib/python3.9/site-packages/sklearn/linear_model/_coordinate_descent.py:697: ConvergenceWarning: Objective did not converge. You might want to increase the number of iterations, check the scale of the features or consider increasing regularisation. Duality gap: 2.015e+11, tolerance: 6.334e+08\n",
      "  model = cd_fast.enet_coordinate_descent(\n",
      "/Users/andrewbelyaev/UIUC/STAT 527/STAT527 Final Project/venv/lib/python3.9/site-packages/sklearn/linear_model/_coordinate_descent.py:697: ConvergenceWarning: Objective did not converge. You might want to increase the number of iterations, check the scale of the features or consider increasing regularisation. Duality gap: 1.949e+11, tolerance: 5.811e+08\n",
      "  model = cd_fast.enet_coordinate_descent(\n",
      "/Users/andrewbelyaev/UIUC/STAT 527/STAT527 Final Project/venv/lib/python3.9/site-packages/sklearn/linear_model/_coordinate_descent.py:697: ConvergenceWarning: Objective did not converge. You might want to increase the number of iterations, check the scale of the features or consider increasing regularisation. Duality gap: 1.867e+11, tolerance: 5.906e+08\n",
      "  model = cd_fast.enet_coordinate_descent(\n",
      "/Users/andrewbelyaev/UIUC/STAT 527/STAT527 Final Project/venv/lib/python3.9/site-packages/sklearn/linear_model/_coordinate_descent.py:697: ConvergenceWarning: Objective did not converge. You might want to increase the number of iterations, check the scale of the features or consider increasing regularisation. Duality gap: 1.981e+11, tolerance: 6.334e+08\n",
      "  model = cd_fast.enet_coordinate_descent(\n",
      "/Users/andrewbelyaev/UIUC/STAT 527/STAT527 Final Project/venv/lib/python3.9/site-packages/sklearn/linear_model/_coordinate_descent.py:697: ConvergenceWarning: Objective did not converge. You might want to increase the number of iterations, check the scale of the features or consider increasing regularisation. Duality gap: 1.660e+11, tolerance: 5.906e+08\n",
      "  model = cd_fast.enet_coordinate_descent(\n",
      "/Users/andrewbelyaev/UIUC/STAT 527/STAT527 Final Project/venv/lib/python3.9/site-packages/sklearn/linear_model/_coordinate_descent.py:697: ConvergenceWarning: Objective did not converge. You might want to increase the number of iterations, check the scale of the features or consider increasing regularisation. Duality gap: 1.807e+11, tolerance: 6.151e+08\n",
      "  model = cd_fast.enet_coordinate_descent(\n",
      "/Users/andrewbelyaev/UIUC/STAT 527/STAT527 Final Project/venv/lib/python3.9/site-packages/sklearn/linear_model/_coordinate_descent.py:697: ConvergenceWarning: Objective did not converge. You might want to increase the number of iterations, check the scale of the features or consider increasing regularisation. Duality gap: 1.862e+11, tolerance: 6.036e+08\n",
      "  model = cd_fast.enet_coordinate_descent(\n",
      "/Users/andrewbelyaev/UIUC/STAT 527/STAT527 Final Project/venv/lib/python3.9/site-packages/sklearn/linear_model/_coordinate_descent.py:697: ConvergenceWarning: Objective did not converge. You might want to increase the number of iterations, check the scale of the features or consider increasing regularisation. Duality gap: 1.769e+11, tolerance: 5.811e+08\n",
      "  model = cd_fast.enet_coordinate_descent(\n",
      "/Users/andrewbelyaev/UIUC/STAT 527/STAT527 Final Project/venv/lib/python3.9/site-packages/sklearn/linear_model/_coordinate_descent.py:697: ConvergenceWarning: Objective did not converge. You might want to increase the number of iterations, check the scale of the features or consider increasing regularisation. Duality gap: 1.580e+11, tolerance: 6.036e+08\n",
      "  model = cd_fast.enet_coordinate_descent(\n",
      "/Users/andrewbelyaev/UIUC/STAT 527/STAT527 Final Project/venv/lib/python3.9/site-packages/sklearn/linear_model/_coordinate_descent.py:697: ConvergenceWarning: Objective did not converge. You might want to increase the number of iterations, check the scale of the features or consider increasing regularisation. Duality gap: 1.683e+11, tolerance: 6.334e+08\n",
      "  model = cd_fast.enet_coordinate_descent(\n",
      "/Users/andrewbelyaev/UIUC/STAT 527/STAT527 Final Project/venv/lib/python3.9/site-packages/sklearn/linear_model/_coordinate_descent.py:697: ConvergenceWarning: Objective did not converge. You might want to increase the number of iterations, check the scale of the features or consider increasing regularisation. Duality gap: 8.446e+10, tolerance: 6.151e+08\n",
      "  model = cd_fast.enet_coordinate_descent(\n",
      "/Users/andrewbelyaev/UIUC/STAT 527/STAT527 Final Project/venv/lib/python3.9/site-packages/sklearn/linear_model/_coordinate_descent.py:697: ConvergenceWarning: Objective did not converge. You might want to increase the number of iterations, check the scale of the features or consider increasing regularisation. Duality gap: 1.786e+09, tolerance: 6.151e+08\n",
      "  model = cd_fast.enet_coordinate_descent(\n",
      "/Users/andrewbelyaev/UIUC/STAT 527/STAT527 Final Project/venv/lib/python3.9/site-packages/sklearn/linear_model/_coordinate_descent.py:697: ConvergenceWarning: Objective did not converge. You might want to increase the number of iterations, check the scale of the features or consider increasing regularisation. Duality gap: 7.877e+10, tolerance: 5.811e+08\n",
      "  model = cd_fast.enet_coordinate_descent(\n",
      "/Users/andrewbelyaev/UIUC/STAT 527/STAT527 Final Project/venv/lib/python3.9/site-packages/sklearn/linear_model/_coordinate_descent.py:697: ConvergenceWarning: Objective did not converge. You might want to increase the number of iterations, check the scale of the features or consider increasing regularisation. Duality gap: 4.738e+10, tolerance: 6.334e+08\n",
      "  model = cd_fast.enet_coordinate_descent(\n",
      "/Users/andrewbelyaev/UIUC/STAT 527/STAT527 Final Project/venv/lib/python3.9/site-packages/sklearn/linear_model/_coordinate_descent.py:697: ConvergenceWarning: Objective did not converge. You might want to increase the number of iterations, check the scale of the features or consider increasing regularisation. Duality gap: 1.136e+09, tolerance: 6.036e+08\n",
      "  model = cd_fast.enet_coordinate_descent(\n",
      "/Users/andrewbelyaev/UIUC/STAT 527/STAT527 Final Project/venv/lib/python3.9/site-packages/sklearn/linear_model/_coordinate_descent.py:697: ConvergenceWarning: Objective did not converge. You might want to increase the number of iterations, check the scale of the features or consider increasing regularisation. Duality gap: 7.814e+08, tolerance: 5.811e+08\n",
      "  model = cd_fast.enet_coordinate_descent(\n",
      "/Users/andrewbelyaev/UIUC/STAT 527/STAT527 Final Project/venv/lib/python3.9/site-packages/sklearn/linear_model/_coordinate_descent.py:697: ConvergenceWarning: Objective did not converge. You might want to increase the number of iterations, check the scale of the features or consider increasing regularisation. Duality gap: 1.084e+09, tolerance: 6.334e+08\n",
      "  model = cd_fast.enet_coordinate_descent(\n",
      "/Users/andrewbelyaev/UIUC/STAT 527/STAT527 Final Project/venv/lib/python3.9/site-packages/sklearn/linear_model/_coordinate_descent.py:697: ConvergenceWarning: Objective did not converge. You might want to increase the number of iterations, check the scale of the features or consider increasing regularisation. Duality gap: 6.375e+10, tolerance: 5.906e+08\n",
      "  model = cd_fast.enet_coordinate_descent(\n",
      "/Users/andrewbelyaev/UIUC/STAT 527/STAT527 Final Project/venv/lib/python3.9/site-packages/sklearn/linear_model/_coordinate_descent.py:697: ConvergenceWarning: Objective did not converge. You might want to increase the number of iterations, check the scale of the features or consider increasing regularisation. Duality gap: 4.518e+10, tolerance: 6.036e+08\n",
      "  model = cd_fast.enet_coordinate_descent(\n",
      "/Users/andrewbelyaev/UIUC/STAT 527/STAT527 Final Project/venv/lib/python3.9/site-packages/sklearn/linear_model/_coordinate_descent.py:697: ConvergenceWarning: Objective did not converge. You might want to increase the number of iterations, check the scale of the features or consider increasing regularisation. Duality gap: 2.101e+11, tolerance: 6.259e+08\n",
      "  model = cd_fast.enet_coordinate_descent(\n",
      "/Users/andrewbelyaev/UIUC/STAT 527/STAT527 Final Project/venv/lib/python3.9/site-packages/sklearn/linear_model/_coordinate_descent.py:697: ConvergenceWarning: Objective did not converge. You might want to increase the number of iterations, check the scale of the features or consider increasing regularisation. Duality gap: 2.092e+11, tolerance: 5.944e+08\n",
      "  model = cd_fast.enet_coordinate_descent(\n",
      "/Users/andrewbelyaev/UIUC/STAT 527/STAT527 Final Project/venv/lib/python3.9/site-packages/sklearn/linear_model/_coordinate_descent.py:697: ConvergenceWarning: Objective did not converge. You might want to increase the number of iterations, check the scale of the features or consider increasing regularisation. Duality gap: 2.016e+11, tolerance: 6.279e+08\n",
      "  model = cd_fast.enet_coordinate_descent(\n",
      "/Users/andrewbelyaev/UIUC/STAT 527/STAT527 Final Project/venv/lib/python3.9/site-packages/sklearn/linear_model/_coordinate_descent.py:697: ConvergenceWarning: Objective did not converge. You might want to increase the number of iterations, check the scale of the features or consider increasing regularisation. Duality gap: 2.075e+11, tolerance: 5.944e+08\n",
      "  model = cd_fast.enet_coordinate_descent(\n",
      "/Users/andrewbelyaev/UIUC/STAT 527/STAT527 Final Project/venv/lib/python3.9/site-packages/sklearn/linear_model/_coordinate_descent.py:697: ConvergenceWarning: Objective did not converge. You might want to increase the number of iterations, check the scale of the features or consider increasing regularisation. Duality gap: 1.928e+11, tolerance: 5.839e+08\n",
      "  model = cd_fast.enet_coordinate_descent(\n",
      "/Users/andrewbelyaev/UIUC/STAT 527/STAT527 Final Project/venv/lib/python3.9/site-packages/sklearn/linear_model/_coordinate_descent.py:697: ConvergenceWarning: Objective did not converge. You might want to increase the number of iterations, check the scale of the features or consider increasing regularisation. Duality gap: 2.103e+11, tolerance: 6.511e+08\n",
      "  model = cd_fast.enet_coordinate_descent(\n",
      "/Users/andrewbelyaev/UIUC/STAT 527/STAT527 Final Project/venv/lib/python3.9/site-packages/sklearn/linear_model/_coordinate_descent.py:697: ConvergenceWarning: Objective did not converge. You might want to increase the number of iterations, check the scale of the features or consider increasing regularisation. Duality gap: 2.084e+11, tolerance: 6.259e+08\n",
      "  model = cd_fast.enet_coordinate_descent(\n",
      "/Users/andrewbelyaev/UIUC/STAT 527/STAT527 Final Project/venv/lib/python3.9/site-packages/sklearn/linear_model/_coordinate_descent.py:697: ConvergenceWarning: Objective did not converge. You might want to increase the number of iterations, check the scale of the features or consider increasing regularisation. Duality gap: 1.902e+11, tolerance: 5.839e+08\n",
      "  model = cd_fast.enet_coordinate_descent(\n",
      "/Users/andrewbelyaev/UIUC/STAT 527/STAT527 Final Project/venv/lib/python3.9/site-packages/sklearn/linear_model/_coordinate_descent.py:697: ConvergenceWarning: Objective did not converge. You might want to increase the number of iterations, check the scale of the features or consider increasing regularisation. Duality gap: 1.987e+11, tolerance: 6.279e+08\n",
      "  model = cd_fast.enet_coordinate_descent(\n",
      "/Users/andrewbelyaev/UIUC/STAT 527/STAT527 Final Project/venv/lib/python3.9/site-packages/sklearn/linear_model/_coordinate_descent.py:697: ConvergenceWarning: Objective did not converge. You might want to increase the number of iterations, check the scale of the features or consider increasing regularisation. Duality gap: 1.927e+11, tolerance: 6.259e+08\n",
      "  model = cd_fast.enet_coordinate_descent(\n",
      "/Users/andrewbelyaev/UIUC/STAT 527/STAT527 Final Project/venv/lib/python3.9/site-packages/sklearn/linear_model/_coordinate_descent.py:697: ConvergenceWarning: Objective did not converge. You might want to increase the number of iterations, check the scale of the features or consider increasing regularisation. Duality gap: 2.069e+11, tolerance: 6.511e+08\n",
      "  model = cd_fast.enet_coordinate_descent(\n",
      "/Users/andrewbelyaev/UIUC/STAT 527/STAT527 Final Project/venv/lib/python3.9/site-packages/sklearn/linear_model/_coordinate_descent.py:697: ConvergenceWarning: Objective did not converge. You might want to increase the number of iterations, check the scale of the features or consider increasing regularisation. Duality gap: 1.908e+11, tolerance: 5.944e+08\n",
      "  model = cd_fast.enet_coordinate_descent(\n",
      "/Users/andrewbelyaev/UIUC/STAT 527/STAT527 Final Project/venv/lib/python3.9/site-packages/sklearn/linear_model/_coordinate_descent.py:697: ConvergenceWarning: Objective did not converge. You might want to increase the number of iterations, check the scale of the features or consider increasing regularisation. Duality gap: 1.664e+11, tolerance: 5.839e+08\n",
      "  model = cd_fast.enet_coordinate_descent(\n",
      "/Users/andrewbelyaev/UIUC/STAT 527/STAT527 Final Project/venv/lib/python3.9/site-packages/sklearn/linear_model/_coordinate_descent.py:697: ConvergenceWarning: Objective did not converge. You might want to increase the number of iterations, check the scale of the features or consider increasing regularisation. Duality gap: 1.722e+11, tolerance: 6.279e+08\n",
      "  model = cd_fast.enet_coordinate_descent(\n",
      "/Users/andrewbelyaev/UIUC/STAT 527/STAT527 Final Project/venv/lib/python3.9/site-packages/sklearn/linear_model/_coordinate_descent.py:697: ConvergenceWarning: Objective did not converge. You might want to increase the number of iterations, check the scale of the features or consider increasing regularisation. Duality gap: 1.769e+11, tolerance: 6.511e+08\n",
      "  model = cd_fast.enet_coordinate_descent(\n",
      "/Users/andrewbelyaev/UIUC/STAT 527/STAT527 Final Project/venv/lib/python3.9/site-packages/sklearn/linear_model/_coordinate_descent.py:697: ConvergenceWarning: Objective did not converge. You might want to increase the number of iterations, check the scale of the features or consider increasing regularisation. Duality gap: 9.481e+10, tolerance: 6.259e+08\n",
      "  model = cd_fast.enet_coordinate_descent(\n",
      "/Users/andrewbelyaev/UIUC/STAT 527/STAT527 Final Project/venv/lib/python3.9/site-packages/sklearn/linear_model/_coordinate_descent.py:697: ConvergenceWarning: Objective did not converge. You might want to increase the number of iterations, check the scale of the features or consider increasing regularisation. Duality gap: 8.750e+10, tolerance: 5.944e+08\n",
      "  model = cd_fast.enet_coordinate_descent(\n",
      "/Users/andrewbelyaev/UIUC/STAT 527/STAT527 Final Project/venv/lib/python3.9/site-packages/sklearn/linear_model/_coordinate_descent.py:697: ConvergenceWarning: Objective did not converge. You might want to increase the number of iterations, check the scale of the features or consider increasing regularisation. Duality gap: 5.264e+10, tolerance: 6.279e+08\n",
      "  model = cd_fast.enet_coordinate_descent(\n",
      "/Users/andrewbelyaev/UIUC/STAT 527/STAT527 Final Project/venv/lib/python3.9/site-packages/sklearn/linear_model/_coordinate_descent.py:697: ConvergenceWarning: Objective did not converge. You might want to increase the number of iterations, check the scale of the features or consider increasing regularisation. Duality gap: 1.290e+09, tolerance: 6.259e+08\n",
      "  model = cd_fast.enet_coordinate_descent(\n",
      "/Users/andrewbelyaev/UIUC/STAT 527/STAT527 Final Project/venv/lib/python3.9/site-packages/sklearn/linear_model/_coordinate_descent.py:697: ConvergenceWarning: Objective did not converge. You might want to increase the number of iterations, check the scale of the features or consider increasing regularisation. Duality gap: 7.320e+08, tolerance: 6.511e+08\n",
      "  model = cd_fast.enet_coordinate_descent(\n",
      "/Users/andrewbelyaev/UIUC/STAT 527/STAT527 Final Project/venv/lib/python3.9/site-packages/sklearn/linear_model/_coordinate_descent.py:697: ConvergenceWarning: Objective did not converge. You might want to increase the number of iterations, check the scale of the features or consider increasing regularisation. Duality gap: 1.011e+09, tolerance: 6.279e+08\n",
      "  model = cd_fast.enet_coordinate_descent(\n",
      "/Users/andrewbelyaev/UIUC/STAT 527/STAT527 Final Project/venv/lib/python3.9/site-packages/sklearn/linear_model/_coordinate_descent.py:697: ConvergenceWarning: Objective did not converge. You might want to increase the number of iterations, check the scale of the features or consider increasing regularisation. Duality gap: 5.596e+10, tolerance: 5.839e+08\n",
      "  model = cd_fast.enet_coordinate_descent(\n",
      "/Users/andrewbelyaev/UIUC/STAT 527/STAT527 Final Project/venv/lib/python3.9/site-packages/sklearn/linear_model/_coordinate_descent.py:697: ConvergenceWarning: Objective did not converge. You might want to increase the number of iterations, check the scale of the features or consider increasing regularisation. Duality gap: 1.944e+09, tolerance: 5.944e+08\n",
      "  model = cd_fast.enet_coordinate_descent(\n",
      "/Users/andrewbelyaev/UIUC/STAT 527/STAT527 Final Project/venv/lib/python3.9/site-packages/sklearn/linear_model/_coordinate_descent.py:697: ConvergenceWarning: Objective did not converge. You might want to increase the number of iterations, check the scale of the features or consider increasing regularisation. Duality gap: 4.944e+10, tolerance: 6.511e+08\n",
      "  model = cd_fast.enet_coordinate_descent(\n"
     ]
    }
   ],
   "source": [
    "alpha_grid = {'alpha': [0.001, 0.01, 0.1, 1, 10, 100, 1000]}\n",
    "\n",
    "kf = KFold(n_splits=9, shuffle=True, random_state=42)\n",
    "\n",
    "r2 = {\"train\": [], \"test\": []}\n",
    "mae = {\"train\": [], \"test\": []}\n",
    "best_alphas = []\n",
    "feature_importances = pd.DataFrame(index=X.columns)\n",
    "\n",
    "for fold, (train_index, test_index) in tqdm(enumerate(kf.split(X), 1)):\n",
    "    X_train, X_test = X.iloc[train_index], X.iloc[test_index]\n",
    "    y_train, y_test = y.iloc[train_index], y.iloc[test_index]\n",
    "    \n",
    "    preprocessor_lasso_ohe.fit(X_train)\n",
    "    X_train_preprocessed = preprocessor_lasso_ohe.transform(X_train)\n",
    "    X_test_preprocessed = preprocessor_lasso_ohe.transform(X_test)\n",
    "    \n",
    "    lasso = Lasso(random_state=42)\n",
    "    grid_search = GridSearchCV(estimator=lasso, param_grid=alpha_grid, cv=5, scoring='r2', n_jobs=-1)\n",
    "    grid_search.fit(X_train_preprocessed, y_train)\n",
    "    \n",
    "    best_alpha = grid_search.best_params_['alpha']\n",
    "    best_alphas.append(best_alpha)\n",
    "    \n",
    "    model = Lasso(alpha=best_alpha, random_state=42)\n",
    "    model.fit(X_train_preprocessed, y_train)\n",
    "    \n",
    "    y_train_pred = model.predict(X_train_preprocessed)\n",
    "    train_mae = mean_absolute_error(y_train, y_train_pred)\n",
    "    train_r2 = model.score(X_train_preprocessed, y_train)\n",
    "    \n",
    "    y_test_pred = model.predict(X_test_preprocessed)\n",
    "    test_mae = mean_absolute_error(y_test, y_test_pred)\n",
    "    test_r2 = model.score(X_test_preprocessed, y_test)\n",
    "    \n",
    "    r2[\"train\"].append(train_r2)\n",
    "    r2[\"test\"].append(test_r2)\n",
    "    mae[\"train\"].append(train_mae)\n",
    "    mae[\"test\"].append(test_mae)\n",
    "    \n",
    "    fold_importances = pd.Series(np.abs(model.coef_), index=X_train_preprocessed.columns)\n",
    "    feature_importances = pd.concat([feature_importances, fold_importances], axis=1)\n",
    "\n",
    "feature_importances['mean_importance'] = feature_importances.mean(axis=1)\n",
    "feature_importances = feature_importances[['mean_importance']].sort_values(by='mean_importance', ascending=False)"
   ],
   "metadata": {
    "collapsed": false,
    "ExecuteTime": {
     "end_time": "2024-12-07T23:07:07.198854Z",
     "start_time": "2024-12-07T23:06:56.625773Z"
    }
   },
   "id": "389b7df26267f1ae"
  },
  {
   "cell_type": "code",
   "execution_count": 49,
   "outputs": [
    {
     "data": {
      "text/plain": "[100, 100, 100, 100, 100, 100, 100, 100, 100]"
     },
     "execution_count": 49,
     "metadata": {},
     "output_type": "execute_result"
    }
   ],
   "source": [
    "best_alphas"
   ],
   "metadata": {
    "collapsed": false,
    "ExecuteTime": {
     "end_time": "2024-12-07T23:08:16.445617Z",
     "start_time": "2024-12-07T23:08:16.426519Z"
    }
   },
   "id": "9671b5df7501ff22"
  },
  {
   "cell_type": "code",
   "execution_count": 51,
   "outputs": [
    {
     "data": {
      "text/plain": "train    0.91981\ntest     0.89023\ndtype: float64"
     },
     "execution_count": 51,
     "metadata": {},
     "output_type": "execute_result"
    }
   ],
   "source": [
    "pd.DataFrame(r2).mean()"
   ],
   "metadata": {
    "collapsed": false,
    "ExecuteTime": {
     "end_time": "2024-12-07T23:08:35.423265Z",
     "start_time": "2024-12-07T23:08:35.368505Z"
    }
   },
   "id": "a3fd980820ee7bb9"
  },
  {
   "cell_type": "code",
   "execution_count": 50,
   "outputs": [
    {
     "name": "stdout",
     "output_type": "stream",
     "text": [
      "train    15154.029586\n",
      "test     18055.670719\n",
      "dtype: float64\n"
     ]
    }
   ],
   "source": [
    "print(pd.DataFrame(mae).mean())"
   ],
   "metadata": {
    "collapsed": false,
    "ExecuteTime": {
     "end_time": "2024-12-07T23:08:21.032164Z",
     "start_time": "2024-12-07T23:08:21.020327Z"
    }
   },
   "id": "d16dcac6c1b890da"
  },
  {
   "cell_type": "code",
   "execution_count": 52,
   "outputs": [
    {
     "data": {
      "text/plain": "                      mean_importance\nNeighborhood_StoneBr     31102.281295\nGrLivArea                24535.007980\nNeighborhood_NridgHt     24360.619929\nNeighborhood_Crawfor     16746.789738\nNeighborhood_NoRidge     16164.901021\n...                               ...\nGarageFinish                      NaN\nFence                             NaN\nMiscFeature                       NaN\nSaleType                          NaN\nSaleCondition                     NaN\n\n[303 rows x 1 columns]",
      "text/html": "<div>\n<style scoped>\n    .dataframe tbody tr th:only-of-type {\n        vertical-align: middle;\n    }\n\n    .dataframe tbody tr th {\n        vertical-align: top;\n    }\n\n    .dataframe thead th {\n        text-align: right;\n    }\n</style>\n<table border=\"1\" class=\"dataframe\">\n  <thead>\n    <tr style=\"text-align: right;\">\n      <th></th>\n      <th>mean_importance</th>\n    </tr>\n  </thead>\n  <tbody>\n    <tr>\n      <th>Neighborhood_StoneBr</th>\n      <td>31102.281295</td>\n    </tr>\n    <tr>\n      <th>GrLivArea</th>\n      <td>24535.007980</td>\n    </tr>\n    <tr>\n      <th>Neighborhood_NridgHt</th>\n      <td>24360.619929</td>\n    </tr>\n    <tr>\n      <th>Neighborhood_Crawfor</th>\n      <td>16746.789738</td>\n    </tr>\n    <tr>\n      <th>Neighborhood_NoRidge</th>\n      <td>16164.901021</td>\n    </tr>\n    <tr>\n      <th>...</th>\n      <td>...</td>\n    </tr>\n    <tr>\n      <th>GarageFinish</th>\n      <td>NaN</td>\n    </tr>\n    <tr>\n      <th>Fence</th>\n      <td>NaN</td>\n    </tr>\n    <tr>\n      <th>MiscFeature</th>\n      <td>NaN</td>\n    </tr>\n    <tr>\n      <th>SaleType</th>\n      <td>NaN</td>\n    </tr>\n    <tr>\n      <th>SaleCondition</th>\n      <td>NaN</td>\n    </tr>\n  </tbody>\n</table>\n<p>303 rows × 1 columns</p>\n</div>"
     },
     "execution_count": 52,
     "metadata": {},
     "output_type": "execute_result"
    }
   ],
   "source": [
    "feature_importances"
   ],
   "metadata": {
    "collapsed": false,
    "ExecuteTime": {
     "end_time": "2024-12-07T23:08:47.863761Z",
     "start_time": "2024-12-07T23:08:47.825213Z"
    }
   },
   "id": "3ed48958f5932e6b"
  },
  {
   "cell_type": "code",
   "execution_count": null,
   "outputs": [],
   "source": [],
   "metadata": {
    "collapsed": false
   },
   "id": "a0f727cf266da856"
  }
 ],
 "metadata": {
  "kernelspec": {
   "display_name": "Python 3",
   "language": "python",
   "name": "python3"
  },
  "language_info": {
   "codemirror_mode": {
    "name": "ipython",
    "version": 2
   },
   "file_extension": ".py",
   "mimetype": "text/x-python",
   "name": "python",
   "nbconvert_exporter": "python",
   "pygments_lexer": "ipython2",
   "version": "2.7.6"
  }
 },
 "nbformat": 4,
 "nbformat_minor": 5
}
