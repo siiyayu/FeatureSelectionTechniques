{
 "cells": [
  {
   "cell_type": "code",
   "execution_count": 149,
   "id": "initial_id",
   "metadata": {
    "collapsed": true,
    "ExecuteTime": {
     "end_time": "2024-12-07T20:51:20.089107Z",
     "start_time": "2024-12-07T20:51:20.070020Z"
    }
   },
   "outputs": [],
   "source": [
    "import numpy as np\n",
    "import pandas as pd\n",
    "from sklearn.base import BaseEstimator, TransformerMixin\n",
    "from sklearn.pipeline import Pipeline\n",
    "from sklearn.ensemble import RandomForestRegressor\n",
    "from sklearn.model_selection import GridSearchCV, KFold\n",
    "from sklearn.impute import SimpleImputer\n",
    "import json\n",
    "from sklearn.compose import ColumnTransformer\n",
    "from sklearn.preprocessing import OrdinalEncoder, OneHotEncoder\n",
    "from sklearn.preprocessing import FunctionTransformer\n",
    "import tqdm\n",
    "from sklearn.metrics import mean_absolute_error"
   ]
  },
  {
   "cell_type": "code",
   "execution_count": 150,
   "outputs": [],
   "source": [
    "with open(\"feature_dict.json\", \"r\") as json_file:\n",
    "    feature_dict = json.load(json_file)"
   ],
   "metadata": {
    "collapsed": false,
    "ExecuteTime": {
     "end_time": "2024-12-07T20:51:20.175762Z",
     "start_time": "2024-12-07T20:51:20.170148Z"
    }
   },
   "id": "913e707a972f0019"
  },
  {
   "cell_type": "code",
   "execution_count": 151,
   "outputs": [],
   "source": [
    "df = pd.read_csv('train_prepared_for_cv.csv')"
   ],
   "metadata": {
    "collapsed": false,
    "ExecuteTime": {
     "end_time": "2024-12-07T20:51:20.324320Z",
     "start_time": "2024-12-07T20:51:20.297807Z"
    }
   },
   "id": "b09e92e9ef7b2c64"
  },
  {
   "cell_type": "code",
   "execution_count": 152,
   "outputs": [
    {
     "data": {
      "text/plain": "Id                 int64\nMSSubClass         int64\nMSZoning          object\nLotFrontage      float64\nLotArea            int64\n                  ...   \nMoSold             int64\nYrSold             int64\nSaleType          object\nSaleCondition     object\nSalePrice          int64\nLength: 80, dtype: object"
     },
     "execution_count": 152,
     "metadata": {},
     "output_type": "execute_result"
    }
   ],
   "source": [
    "df.dtypes"
   ],
   "metadata": {
    "collapsed": false,
    "ExecuteTime": {
     "end_time": "2024-12-07T20:51:20.410855Z",
     "start_time": "2024-12-07T20:51:20.403457Z"
    }
   },
   "id": "1d079965cfb77b7b"
  },
  {
   "cell_type": "code",
   "execution_count": 153,
   "outputs": [],
   "source": [
    "X = df.drop(columns=['SalePrice'])\n",
    "y = df['SalePrice']"
   ],
   "metadata": {
    "collapsed": false,
    "ExecuteTime": {
     "end_time": "2024-12-07T20:51:20.645976Z",
     "start_time": "2024-12-07T20:51:20.639395Z"
    }
   },
   "id": "f138d835956db151"
  },
  {
   "cell_type": "code",
   "execution_count": 161,
   "outputs": [],
   "source": [
    "numeric_cols = [col for col in X.columns if X[col].dtype in ['int64', 'float64']]\n",
    "categorical_cols = [col for col in X.columns if col not in numeric_cols]\n",
    "ordinal_encode_cols = [\"ExterQual\", \"ExterCond\", \"BsmtQual\", \"BsmtCond\", \"BsmtExposure\", \"HeatingQC\", \"KitchenQual\", \"FireplaceQu\", \"GarageQual\", \"GarageCond\", \"PoolQC\", \"Street\", \"Alley\", \"PavedDrive\"]\n",
    "label_encode_cols = [col for col in categorical_cols if col not in ordinal_encode_cols]\n",
    "ohe_encode_cols = label_encode_cols"
   ],
   "metadata": {
    "collapsed": false,
    "ExecuteTime": {
     "end_time": "2024-12-07T20:51:27.715639Z",
     "start_time": "2024-12-07T20:51:27.710611Z"
    }
   },
   "id": "eca012eefd694f41"
  },
  {
   "cell_type": "code",
   "execution_count": 162,
   "outputs": [
    {
     "name": "stdout",
     "output_type": "stream",
     "text": [
      "['Id', 'MSSubClass', 'LotFrontage', 'LotArea', 'OverallQual', 'OverallCond', 'YearBuilt', 'YearRemodAdd', 'MasVnrArea', 'BsmtFinSF1', 'BsmtFinSF2', 'BsmtUnfSF', 'TotalBsmtSF', '1stFlrSF', '2ndFlrSF', 'LowQualFinSF', 'GrLivArea', 'BsmtFullBath', 'BsmtHalfBath', 'FullBath', 'HalfBath', 'BedroomAbvGr', 'KitchenAbvGr', 'TotRmsAbvGrd', 'Fireplaces', 'GarageYrBlt', 'GarageCars', 'GarageArea', 'WoodDeckSF', 'OpenPorchSF', 'EnclosedPorch', '3SsnPorch', 'ScreenPorch', 'PoolArea', 'MiscVal', 'MoSold', 'YrSold']\n"
     ]
    }
   ],
   "source": [
    "print(numeric_cols)"
   ],
   "metadata": {
    "collapsed": false,
    "ExecuteTime": {
     "end_time": "2024-12-07T20:51:27.847457Z",
     "start_time": "2024-12-07T20:51:27.845396Z"
    }
   },
   "id": "6b854cb8fbdefb70"
  },
  {
   "cell_type": "code",
   "execution_count": 163,
   "outputs": [
    {
     "name": "stdout",
     "output_type": "stream",
     "text": [
      "['MSZoning', 'Street', 'Alley', 'LotShape', 'LandContour', 'Utilities', 'LotConfig', 'LandSlope', 'Neighborhood', 'Condition1', 'Condition2', 'BldgType', 'HouseStyle', 'RoofStyle', 'RoofMatl', 'Exterior1st', 'Exterior2nd', 'MasVnrType', 'ExterQual', 'ExterCond', 'Foundation', 'BsmtQual', 'BsmtCond', 'BsmtExposure', 'BsmtFinType1', 'Heating', 'HeatingQC', 'CentralAir', 'Electrical', 'KitchenQual', 'Functional', 'FireplaceQu', 'GarageType', 'GarageFinish', 'GarageQual', 'GarageCond', 'PavedDrive', 'PoolQC', 'Fence', 'MiscFeature', 'SaleType', 'SaleCondition']\n"
     ]
    }
   ],
   "source": [
    "print(categorical_cols)"
   ],
   "metadata": {
    "collapsed": false,
    "ExecuteTime": {
     "end_time": "2024-12-07T20:51:27.957371Z",
     "start_time": "2024-12-07T20:51:27.954835Z"
    }
   },
   "id": "b1e73ae55ee215"
  },
  {
   "cell_type": "code",
   "execution_count": 164,
   "outputs": [
    {
     "name": "stdout",
     "output_type": "stream",
     "text": [
      "['ExterQual', 'ExterCond', 'BsmtQual', 'BsmtCond', 'BsmtExposure', 'HeatingQC', 'KitchenQual', 'FireplaceQu', 'GarageQual', 'GarageCond', 'PoolQC', 'Street', 'Alley', 'PavedDrive']\n"
     ]
    }
   ],
   "source": [
    "print(ordinal_encode_cols)"
   ],
   "metadata": {
    "collapsed": false,
    "ExecuteTime": {
     "end_time": "2024-12-07T20:51:28.120419Z",
     "start_time": "2024-12-07T20:51:28.118407Z"
    }
   },
   "id": "95b06b99e9c4c90"
  },
  {
   "cell_type": "code",
   "execution_count": 165,
   "outputs": [
    {
     "name": "stdout",
     "output_type": "stream",
     "text": [
      "['MSZoning', 'LotShape', 'LandContour', 'Utilities', 'LotConfig', 'LandSlope', 'Neighborhood', 'Condition1', 'Condition2', 'BldgType', 'HouseStyle', 'RoofStyle', 'RoofMatl', 'Exterior1st', 'Exterior2nd', 'MasVnrType', 'Foundation', 'BsmtFinType1', 'Heating', 'CentralAir', 'Electrical', 'Functional', 'GarageType', 'GarageFinish', 'Fence', 'MiscFeature', 'SaleType', 'SaleCondition']\n"
     ]
    }
   ],
   "source": [
    "print(label_encode_cols)"
   ],
   "metadata": {
    "collapsed": false,
    "ExecuteTime": {
     "end_time": "2024-12-07T20:51:28.265742Z",
     "start_time": "2024-12-07T20:51:28.263008Z"
    }
   },
   "id": "abf37e3ab031eb3"
  },
  {
   "cell_type": "code",
   "execution_count": 166,
   "outputs": [
    {
     "name": "stdout",
     "output_type": "stream",
     "text": [
      "42\n",
      "42\n"
     ]
    }
   ],
   "source": [
    "print(len(categorical_cols))\n",
    "print(len(ordinal_encode_cols) + len(label_encode_cols))"
   ],
   "metadata": {
    "collapsed": false,
    "ExecuteTime": {
     "end_time": "2024-12-07T20:51:28.618060Z",
     "start_time": "2024-12-07T20:51:28.616432Z"
    }
   },
   "id": "5cbbbdb14ae51685"
  },
  {
   "cell_type": "code",
   "execution_count": 167,
   "outputs": [
    {
     "name": "stdout",
     "output_type": "stream",
     "text": [
      "{'ExterQual': {'Po': 1, 'Fa': 2, 'TA': 3, 'Gd': 4, 'Ex': 5, 'No_item': -1}, 'ExterCond': {'Po': 1, 'Fa': 2, 'TA': 3, 'Gd': 4, 'Ex': 5, 'No_item': -1}, 'BsmtQual': {'Po': 2, 'Fa': 3, 'TA': 4, 'Gd': 5, 'Ex': 6, 'No_item': -1}, 'BsmtCond': {'Po': 2, 'Fa': 3, 'TA': 4, 'Gd': 5, 'Ex': 6, 'No_item': -1}, 'BsmtExposure': {'No': 2, 'Mn': 3, 'Av': 4, 'Gd': 5, 'No_item': -1}, 'HeatingQC': {'Po': 1, 'Fa': 2, 'TA': 3, 'Gd': 4, 'Ex': 5, 'No_item': -1}, 'KitchenQual': {'Po': 1, 'Fa': 2, 'TA': 3, 'Gd': 4, 'Ex': 5, 'No_item': -1}, 'FireplaceQu': {'Po': 2, 'Fa': 3, 'TA': 4, 'Gd': 5, 'Ex': 6, 'No_item': -1}, 'GarageQual': {'Po': 2, 'Fa': 3, 'TA': 4, 'Gd': 5, 'Ex': 6, 'No_item': -1}, 'GarageCond': {'Po': 2, 'Fa': 3, 'TA': 4, 'Gd': 5, 'Ex': 6, 'No_item': -1}, 'PoolQC': {'Fa': 2, 'TA': 3, 'Gd': 4, 'Ex': 5, 'No_item': -1}, 'Street': {'Grvl': 1, 'Pave': 2, 'No_item': -1}, 'Alley': {'Grvl': 2, 'Pave': 3, 'No_item': -1}, 'PavedDrive': {'N': 1, 'P': 2, 'Y': 3, 'No_item': -1}}\n"
     ]
    }
   ],
   "source": [
    "ordinal_mappings = {}\n",
    "\n",
    "for col in ordinal_encode_cols:\n",
    "    if col in X.columns and col in feature_dict:\n",
    "        all_values = list(feature_dict[col][\"values\"].keys())  # Extract and preserve the order of values from the dict\n",
    "        mapping = {category: rank for rank, category in enumerate(reversed(all_values), start=1)}  # Encode in the dict order\n",
    "        mapping[\"No_item\"] = -1\n",
    "        if \"NA\" in mapping.keys():\n",
    "            del mapping[\"NA\"]\n",
    "        ordinal_mappings[col] = mapping\n",
    "        \n",
    "def safe_map(value, mapping):\n",
    "    if value not in mapping:\n",
    "        raise ValueError(f\"Value '{value}' not found in the mapping!\")\n",
    "    return mapping[value]\n",
    "\n",
    "def ordinal_encode_column(X, mappings):\n",
    "    encoded = X.copy()\n",
    "    for col in X.columns:\n",
    "        if col in mappings:\n",
    "            encoded[col] = X.apply(lambda x: safe_map(x, mappings[col]))\n",
    "    return encoded\n",
    "\n",
    "print(ordinal_mappings)"
   ],
   "metadata": {
    "collapsed": false,
    "ExecuteTime": {
     "end_time": "2024-12-07T20:51:29.194647Z",
     "start_time": "2024-12-07T20:51:29.192895Z"
    }
   },
   "id": "b14a0eeac526a673"
  },
  {
   "cell_type": "code",
   "execution_count": 168,
   "outputs": [
    {
     "name": "stdout",
     "output_type": "stream",
     "text": [
      "{'MSZoning': {'RM': 1, 'RP': 2, 'RL': 3, 'RH': 4, 'I': 5, 'FV': 6, 'C': 7, 'A': 8, 'No_item': -1}, 'LotShape': {'IR3': 1, 'IR2': 2, 'IR1': 3, 'Reg': 4, 'No_item': -1}, 'LandContour': {'Low': 1, 'HLS': 2, 'Bnk': 3, 'Lvl': 4, 'No_item': -1}, 'Utilities': {'ELO': 1, 'NoSeWa': 2, 'NoSewr': 3, 'AllPub': 4, 'No_item': -1}, 'LotConfig': {'FR3': 1, 'FR2': 2, 'CulDSac': 3, 'Corner': 4, 'Inside': 5, 'No_item': -1}, 'LandSlope': {'Sev': 1, 'Mod': 2, 'Gtl': 3, 'No_item': -1}, 'Neighborhood': {'Veenker': 1, 'Timber': 2, 'StoneBr': 3, 'Somerst': 4, 'SawyerW': 5, 'Sawyer': 6, 'SWISU': 7, 'OldTown': 8, 'NWAmes': 9, 'NridgHt': 10, 'NPkVill': 11, 'NoRidge': 12, 'Names': 13, 'Mitchel': 14, 'MeadowV': 15, 'IDOTRR': 16, 'Gilbert': 17, 'Edwards': 18, 'Crawfor': 19, 'CollgCr': 20, 'ClearCr': 21, 'BrkSide': 22, 'BrDale': 23, 'Blueste': 24, 'Blmngtn': 25, 'No_item': -1}, 'Condition1': {'RRAe': 1, 'RRNe': 2, 'PosA': 3, 'PosN': 4, 'RRAn': 5, 'RRNn': 6, 'Norm': 7, 'Feedr': 8, 'Artery': 9, 'No_item': -1}, 'Condition2': {'RRAe': 1, 'RRNe': 2, 'PosA': 3, 'PosN': 4, 'RRAn': 5, 'RRNn': 6, 'Norm': 7, 'Feedr': 8, 'Artery': 9, 'No_item': -1}, 'BldgType': {'TwnhsI': 1, 'TwnhsE': 2, 'Duplx': 3, '2FmCon': 4, '1Fam': 5, 'No_item': -1}, 'HouseStyle': {'SLvl': 1, 'SFoyer': 2, '2.5Unf': 3, '2.5Fin': 4, '2Story': 5, '1.5Unf': 6, '1.5Fin': 7, '1Story': 8, 'No_item': -1}, 'RoofStyle': {'Shed': 1, 'Mansard': 2, 'Hip': 3, 'Gambrel': 4, 'Gable': 5, 'Flat': 6, 'No_item': -1}, 'RoofMatl': {'WdShngl': 1, 'WdShake': 2, 'Tar&Grv': 3, 'Roll': 4, 'Metal': 5, 'Membran': 6, 'CompShg': 7, 'ClyTile': 8, 'No_item': -1}, 'Exterior1st': {'WdShing': 1, 'Wd': 2, 'VinylSd': 3, 'Stucco': 4, 'Stone': 5, 'PreCast': 6, 'Plywood': 7, 'Other': 8, 'MetalSd': 9, 'ImStucc': 10, 'HdBoard': 11, 'CemntBd': 12, 'CBlock': 13, 'BrkFace': 14, 'BrkComm': 15, 'AsphShn': 16, 'AsbShng': 17, 'No_item': -1}, 'Exterior2nd': {'WdShing': 1, 'Wd': 2, 'VinylSd': 3, 'Stucco': 4, 'Stone': 5, 'PreCast': 6, 'Plywood': 7, 'Other': 8, 'MetalSd': 9, 'ImStucc': 10, 'HdBoard': 11, 'CemntBd': 12, 'CBlock': 13, 'BrkFace': 14, 'BrkComm': 15, 'AsphShn': 16, 'AsbShng': 17, 'No_item': -1}, 'MasVnrType': {'Stone': 1, \"df['GarageYrBlt'].fillna(-1)\": 2, 'CBlock': 3, 'BrkFace': 4, 'BrkCmn': 5, 'No_item': -1}, 'Foundation': {'Wood': 1, 'Stone': 2, 'Slab': 3, 'PConc': 4, 'CBlock': 5, 'BrkTil': 6, 'No_item': -1}, 'BsmtFinType1': {'Unf': 2, 'LwQ': 3, 'Rec': 4, 'BLQ': 5, 'ALQ': 6, 'GLQ': 7, 'No_item': -1}, 'Heating': {'Wall': 1, 'OthW': 2, 'Grav': 3, 'GasW': 4, 'GasA': 5, 'Floor': 6, 'No_item': -1}, 'CentralAir': {'Y': 1, 'N': 2, 'No_item': -1}, 'Electrical': {'Mix': 1, 'FuseP': 2, 'FuseF': 3, 'FuseA': 4, 'SBrkr': 5, 'No_item': -1}, 'Functional': {'Sal': 1, 'Sev': 2, 'Maj2': 3, 'Maj1': 4, 'Mod': 5, 'Min2': 6, 'Min1': 7, 'Typ': 8, 'No_item': -1}, 'GarageType': {'Detchd': 2, 'CarPort': 3, 'BuiltIn': 4, 'Basment': 5, 'Attchd': 6, '2Types': 7, 'No_item': -1}, 'GarageFinish': {'Unf': 2, 'RFn': 3, 'Fin': 4, 'No_item': -1}, 'Fence': {'MnWw': 2, 'GdWo': 3, 'MnPrv': 4, 'GdPrv': 5, 'No_item': -1}, 'MiscFeature': {'TenC': 2, 'Shed': 3, 'Othr': 4, 'Gar2': 5, 'Elev': 6, 'No_item': -1}, 'SaleType': {'Oth': 1, 'ConLD': 2, 'ConLI': 3, 'ConLw': 4, 'Con': 5, 'COD': 6, 'New': 7, 'VWD': 8, 'CWD': 9, 'WD': 10, 'No_item': -1}, 'SaleCondition': {'Partial': 1, 'Family': 2, 'Alloca': 3, 'AdjLand': 4, 'Abnorml': 5, 'Normal': 6, 'No_item': -1}}\n"
     ]
    }
   ],
   "source": [
    "label_mappings = {}\n",
    "\n",
    "for col in label_encode_cols:\n",
    "    if col in X.columns and col in feature_dict:\n",
    "        all_values = list(feature_dict[col][\"values\"].keys())  # Extract and preserve the order of values from the dict\n",
    "        mapping = {category: rank for rank, category in enumerate(reversed(all_values), start=1)}  # Encode in the dict order\n",
    "        mapping[\"No_item\"] = -1\n",
    "        if \"NA\" in mapping.keys():\n",
    "            del mapping[\"NA\"]\n",
    "        label_mappings[col] = mapping\n",
    "        \n",
    "def safe_map(value, mapping):\n",
    "    if value not in mapping:\n",
    "        raise ValueError(f\"Value '{value}' not found in the mapping!\")\n",
    "    return mapping[value]\n",
    "\n",
    "def label_encode_column(X, mappings):\n",
    "    encoded = X.copy()\n",
    "    for col in X.columns:\n",
    "        if col in mappings:\n",
    "            encoded[col] = df[col].apply(lambda x: safe_map(x, mappings[col]))\n",
    "    return encoded\n",
    "\n",
    "print(label_mappings)"
   ],
   "metadata": {
    "collapsed": false,
    "ExecuteTime": {
     "end_time": "2024-12-07T20:51:30.021372Z",
     "start_time": "2024-12-07T20:51:30.012777Z"
    }
   },
   "id": "e99291b63f70eaf7"
  },
  {
   "cell_type": "code",
   "execution_count": 169,
   "outputs": [],
   "source": [
    "class DataFramePreprocessor(BaseEstimator, TransformerMixin):\n",
    "    def __init__(self, numeric_cols, ordinal_cols, ohe_cols, label_cols, ordinal_mappings, label_mappings):\n",
    "        self.numeric_cols = numeric_cols\n",
    "        self.ordinal_cols = ordinal_cols\n",
    "        self.ohe_cols = ohe_cols\n",
    "        self.label_cols = label_cols\n",
    "        self.ordinal_mappings = ordinal_mappings\n",
    "        self.label_mappings = label_mappings\n",
    "        self.ohe_columns_names = None\n",
    "        self.medians = {}\n",
    "        self.modes = {}\n",
    "\n",
    "    def fit(self, X, y=None):\n",
    "        self.medians = X[self.numeric_cols].median()\n",
    "        self.modes = X[self.ordinal_cols + self.ohe_cols + self.label_cols].mode().iloc[0]\n",
    "        if self.ohe_cols:\n",
    "            ohe_encoded = pd.get_dummies(X[self.ohe_cols])\n",
    "            self.ohe_columns_names = ohe_encoded.columns  # Save the column names for consistency\n",
    "        return self\n",
    "\n",
    "    def transform(self, X):\n",
    "        X = X.copy()\n",
    "        for col in self.numeric_cols:\n",
    "            X[col] = X[col].fillna(self.medians[col])\n",
    "        for col in self.ordinal_cols + self.ohe_cols + self.label_cols:\n",
    "            X[col] = X[col].fillna(self.modes[col])\n",
    "        for col in self.ordinal_cols:\n",
    "            if col in self.ordinal_mappings:\n",
    "                X[col] = X[col].map(self.ordinal_mappings[col]).fillna(-1)\n",
    "            else:\n",
    "                raise KeyError\n",
    "        for col in self.label_cols:\n",
    "            if col in self.label_mappings:\n",
    "                X[col] = X[col].map(self.label_mappings[col]).fillna(-1)\n",
    "            else:\n",
    "                raise KeyError\n",
    "        if self.ohe_cols:\n",
    "            ohe_encoded = pd.get_dummies(X[self.ohe_cols])\n",
    "            ohe_encoded = ohe_encoded.reindex(columns=self.ohe_columns_names, fill_value=0)  # Ensure consistent columns\n",
    "            X = X.drop(columns=self.ohe_cols)\n",
    "            X = pd.concat([X, ohe_encoded], axis=1)\n",
    "        return X"
   ],
   "metadata": {
    "collapsed": false,
    "ExecuteTime": {
     "end_time": "2024-12-07T20:51:30.989256Z",
     "start_time": "2024-12-07T20:51:30.982332Z"
    }
   },
   "id": "f10d32894d09d382"
  },
  {
   "cell_type": "code",
   "execution_count": 170,
   "outputs": [],
   "source": [
    "preprocessor = DataFramePreprocessor(\n",
    "    numeric_cols=numeric_cols,\n",
    "    ordinal_cols=ordinal_encode_cols,\n",
    "    ohe_cols=ohe_encode_cols,\n",
    "    label_cols=[],\n",
    "    ordinal_mappings=ordinal_mappings,\n",
    "    label_mappings=label_mappings\n",
    ")"
   ],
   "metadata": {
    "collapsed": false,
    "ExecuteTime": {
     "end_time": "2024-12-07T20:51:32.719535Z",
     "start_time": "2024-12-07T20:51:32.709957Z"
    }
   },
   "id": "691cc6b207d17575"
  },
  {
   "cell_type": "code",
   "execution_count": 171,
   "outputs": [],
   "source": [
    "# testing preprocessing\n",
    "processed_data = preprocessor.fit_transform(df)"
   ],
   "metadata": {
    "collapsed": false,
    "ExecuteTime": {
     "end_time": "2024-12-07T20:51:33.171046Z",
     "start_time": "2024-12-07T20:51:33.120865Z"
    }
   },
   "id": "19ceabe28a664c32"
  },
  {
   "cell_type": "code",
   "execution_count": 172,
   "outputs": [
    {
     "data": {
      "text/plain": "        Id  MSSubClass  LotFrontage  LotArea  Street  Alley  OverallQual  \\\n0        1          60         65.0     8450       2     -1            7   \n1        2          20         80.0     9600       2     -1            6   \n2        3          60         68.0    11250       2     -1            7   \n3        4          70         60.0     9550       2     -1            7   \n4        5          60         84.0    14260       2     -1            8   \n...    ...         ...          ...      ...     ...    ...          ...   \n1451  1456          60         62.0     7917       2     -1            6   \n1452  1457          20         85.0    13175       2     -1            6   \n1453  1458          70         66.0     9042       2     -1            7   \n1454  1459          20         68.0     9717       2     -1            5   \n1455  1460          20         75.0     9937       2     -1            5   \n\n      OverallCond  YearBuilt  YearRemodAdd  ...  SaleType_ConLw  SaleType_New  \\\n0               5       2003          2003  ...           False         False   \n1               8       1976          1976  ...           False         False   \n2               5       2001          2002  ...           False         False   \n3               5       1915          1970  ...           False         False   \n4               5       2000          2000  ...           False         False   \n...           ...        ...           ...  ...             ...           ...   \n1451            5       1999          2000  ...           False         False   \n1452            6       1978          1988  ...           False         False   \n1453            9       1941          2006  ...           False         False   \n1454            6       1950          1996  ...           False         False   \n1455            6       1965          1965  ...           False         False   \n\n      SaleType_Oth  SaleType_WD  SaleCondition_Abnorml  SaleCondition_AdjLand  \\\n0            False         True                  False                  False   \n1            False         True                  False                  False   \n2            False         True                  False                  False   \n3            False         True                   True                  False   \n4            False         True                  False                  False   \n...            ...          ...                    ...                    ...   \n1451         False         True                  False                  False   \n1452         False         True                  False                  False   \n1453         False         True                  False                  False   \n1454         False         True                  False                  False   \n1455         False         True                  False                  False   \n\n      SaleCondition_Alloca  SaleCondition_Family  SaleCondition_Normal  \\\n0                    False                 False                  True   \n1                    False                 False                  True   \n2                    False                 False                  True   \n3                    False                 False                 False   \n4                    False                 False                  True   \n...                    ...                   ...                   ...   \n1451                 False                 False                  True   \n1452                 False                 False                  True   \n1453                 False                 False                  True   \n1454                 False                 False                  True   \n1455                 False                 False                  True   \n\n      SaleCondition_Partial  \n0                     False  \n1                     False  \n2                     False  \n3                     False  \n4                     False  \n...                     ...  \n1451                  False  \n1452                  False  \n1453                  False  \n1454                  False  \n1455                  False  \n\n[1456 rows x 247 columns]",
      "text/html": "<div>\n<style scoped>\n    .dataframe tbody tr th:only-of-type {\n        vertical-align: middle;\n    }\n\n    .dataframe tbody tr th {\n        vertical-align: top;\n    }\n\n    .dataframe thead th {\n        text-align: right;\n    }\n</style>\n<table border=\"1\" class=\"dataframe\">\n  <thead>\n    <tr style=\"text-align: right;\">\n      <th></th>\n      <th>Id</th>\n      <th>MSSubClass</th>\n      <th>LotFrontage</th>\n      <th>LotArea</th>\n      <th>Street</th>\n      <th>Alley</th>\n      <th>OverallQual</th>\n      <th>OverallCond</th>\n      <th>YearBuilt</th>\n      <th>YearRemodAdd</th>\n      <th>...</th>\n      <th>SaleType_ConLw</th>\n      <th>SaleType_New</th>\n      <th>SaleType_Oth</th>\n      <th>SaleType_WD</th>\n      <th>SaleCondition_Abnorml</th>\n      <th>SaleCondition_AdjLand</th>\n      <th>SaleCondition_Alloca</th>\n      <th>SaleCondition_Family</th>\n      <th>SaleCondition_Normal</th>\n      <th>SaleCondition_Partial</th>\n    </tr>\n  </thead>\n  <tbody>\n    <tr>\n      <th>0</th>\n      <td>1</td>\n      <td>60</td>\n      <td>65.0</td>\n      <td>8450</td>\n      <td>2</td>\n      <td>-1</td>\n      <td>7</td>\n      <td>5</td>\n      <td>2003</td>\n      <td>2003</td>\n      <td>...</td>\n      <td>False</td>\n      <td>False</td>\n      <td>False</td>\n      <td>True</td>\n      <td>False</td>\n      <td>False</td>\n      <td>False</td>\n      <td>False</td>\n      <td>True</td>\n      <td>False</td>\n    </tr>\n    <tr>\n      <th>1</th>\n      <td>2</td>\n      <td>20</td>\n      <td>80.0</td>\n      <td>9600</td>\n      <td>2</td>\n      <td>-1</td>\n      <td>6</td>\n      <td>8</td>\n      <td>1976</td>\n      <td>1976</td>\n      <td>...</td>\n      <td>False</td>\n      <td>False</td>\n      <td>False</td>\n      <td>True</td>\n      <td>False</td>\n      <td>False</td>\n      <td>False</td>\n      <td>False</td>\n      <td>True</td>\n      <td>False</td>\n    </tr>\n    <tr>\n      <th>2</th>\n      <td>3</td>\n      <td>60</td>\n      <td>68.0</td>\n      <td>11250</td>\n      <td>2</td>\n      <td>-1</td>\n      <td>7</td>\n      <td>5</td>\n      <td>2001</td>\n      <td>2002</td>\n      <td>...</td>\n      <td>False</td>\n      <td>False</td>\n      <td>False</td>\n      <td>True</td>\n      <td>False</td>\n      <td>False</td>\n      <td>False</td>\n      <td>False</td>\n      <td>True</td>\n      <td>False</td>\n    </tr>\n    <tr>\n      <th>3</th>\n      <td>4</td>\n      <td>70</td>\n      <td>60.0</td>\n      <td>9550</td>\n      <td>2</td>\n      <td>-1</td>\n      <td>7</td>\n      <td>5</td>\n      <td>1915</td>\n      <td>1970</td>\n      <td>...</td>\n      <td>False</td>\n      <td>False</td>\n      <td>False</td>\n      <td>True</td>\n      <td>True</td>\n      <td>False</td>\n      <td>False</td>\n      <td>False</td>\n      <td>False</td>\n      <td>False</td>\n    </tr>\n    <tr>\n      <th>4</th>\n      <td>5</td>\n      <td>60</td>\n      <td>84.0</td>\n      <td>14260</td>\n      <td>2</td>\n      <td>-1</td>\n      <td>8</td>\n      <td>5</td>\n      <td>2000</td>\n      <td>2000</td>\n      <td>...</td>\n      <td>False</td>\n      <td>False</td>\n      <td>False</td>\n      <td>True</td>\n      <td>False</td>\n      <td>False</td>\n      <td>False</td>\n      <td>False</td>\n      <td>True</td>\n      <td>False</td>\n    </tr>\n    <tr>\n      <th>...</th>\n      <td>...</td>\n      <td>...</td>\n      <td>...</td>\n      <td>...</td>\n      <td>...</td>\n      <td>...</td>\n      <td>...</td>\n      <td>...</td>\n      <td>...</td>\n      <td>...</td>\n      <td>...</td>\n      <td>...</td>\n      <td>...</td>\n      <td>...</td>\n      <td>...</td>\n      <td>...</td>\n      <td>...</td>\n      <td>...</td>\n      <td>...</td>\n      <td>...</td>\n      <td>...</td>\n    </tr>\n    <tr>\n      <th>1451</th>\n      <td>1456</td>\n      <td>60</td>\n      <td>62.0</td>\n      <td>7917</td>\n      <td>2</td>\n      <td>-1</td>\n      <td>6</td>\n      <td>5</td>\n      <td>1999</td>\n      <td>2000</td>\n      <td>...</td>\n      <td>False</td>\n      <td>False</td>\n      <td>False</td>\n      <td>True</td>\n      <td>False</td>\n      <td>False</td>\n      <td>False</td>\n      <td>False</td>\n      <td>True</td>\n      <td>False</td>\n    </tr>\n    <tr>\n      <th>1452</th>\n      <td>1457</td>\n      <td>20</td>\n      <td>85.0</td>\n      <td>13175</td>\n      <td>2</td>\n      <td>-1</td>\n      <td>6</td>\n      <td>6</td>\n      <td>1978</td>\n      <td>1988</td>\n      <td>...</td>\n      <td>False</td>\n      <td>False</td>\n      <td>False</td>\n      <td>True</td>\n      <td>False</td>\n      <td>False</td>\n      <td>False</td>\n      <td>False</td>\n      <td>True</td>\n      <td>False</td>\n    </tr>\n    <tr>\n      <th>1453</th>\n      <td>1458</td>\n      <td>70</td>\n      <td>66.0</td>\n      <td>9042</td>\n      <td>2</td>\n      <td>-1</td>\n      <td>7</td>\n      <td>9</td>\n      <td>1941</td>\n      <td>2006</td>\n      <td>...</td>\n      <td>False</td>\n      <td>False</td>\n      <td>False</td>\n      <td>True</td>\n      <td>False</td>\n      <td>False</td>\n      <td>False</td>\n      <td>False</td>\n      <td>True</td>\n      <td>False</td>\n    </tr>\n    <tr>\n      <th>1454</th>\n      <td>1459</td>\n      <td>20</td>\n      <td>68.0</td>\n      <td>9717</td>\n      <td>2</td>\n      <td>-1</td>\n      <td>5</td>\n      <td>6</td>\n      <td>1950</td>\n      <td>1996</td>\n      <td>...</td>\n      <td>False</td>\n      <td>False</td>\n      <td>False</td>\n      <td>True</td>\n      <td>False</td>\n      <td>False</td>\n      <td>False</td>\n      <td>False</td>\n      <td>True</td>\n      <td>False</td>\n    </tr>\n    <tr>\n      <th>1455</th>\n      <td>1460</td>\n      <td>20</td>\n      <td>75.0</td>\n      <td>9937</td>\n      <td>2</td>\n      <td>-1</td>\n      <td>5</td>\n      <td>6</td>\n      <td>1965</td>\n      <td>1965</td>\n      <td>...</td>\n      <td>False</td>\n      <td>False</td>\n      <td>False</td>\n      <td>True</td>\n      <td>False</td>\n      <td>False</td>\n      <td>False</td>\n      <td>False</td>\n      <td>True</td>\n      <td>False</td>\n    </tr>\n  </tbody>\n</table>\n<p>1456 rows × 247 columns</p>\n</div>"
     },
     "execution_count": 172,
     "metadata": {},
     "output_type": "execute_result"
    }
   ],
   "source": [
    "processed_data"
   ],
   "metadata": {
    "collapsed": false,
    "ExecuteTime": {
     "end_time": "2024-12-07T20:51:34.122146Z",
     "start_time": "2024-12-07T20:51:34.118083Z"
    }
   },
   "id": "5201b8a0ba1cf096"
  },
  {
   "cell_type": "code",
   "execution_count": 173,
   "outputs": [],
   "source": [
    "preprocessor = DataFramePreprocessor(\n",
    "    numeric_cols=numeric_cols,\n",
    "    ordinal_cols=ordinal_encode_cols,\n",
    "    ohe_cols=[],\n",
    "    label_cols=label_encode_cols,\n",
    "    ordinal_mappings=ordinal_mappings,\n",
    "    label_mappings=label_mappings\n",
    ")"
   ],
   "metadata": {
    "collapsed": false,
    "ExecuteTime": {
     "end_time": "2024-12-07T20:51:47.467941Z",
     "start_time": "2024-12-07T20:51:47.462886Z"
    }
   },
   "id": "95e0377ce2a3318"
  },
  {
   "cell_type": "code",
   "execution_count": 174,
   "outputs": [
    {
     "data": {
      "text/plain": "        Id  MSSubClass MSZoning  LotFrontage  LotArea Street    Alley  \\\n0        1          60       RL         65.0     8450   Pave  No_item   \n1        2          20       RL         80.0     9600   Pave  No_item   \n2        3          60       RL         68.0    11250   Pave  No_item   \n3        4          70       RL         60.0     9550   Pave  No_item   \n4        5          60       RL         84.0    14260   Pave  No_item   \n...    ...         ...      ...          ...      ...    ...      ...   \n1451  1456          60       RL         62.0     7917   Pave  No_item   \n1452  1457          20       RL         85.0    13175   Pave  No_item   \n1453  1458          70       RL         66.0     9042   Pave  No_item   \n1454  1459          20       RL         68.0     9717   Pave  No_item   \n1455  1460          20       RL         75.0     9937   Pave  No_item   \n\n     LotShape LandContour Utilities  ... ScreenPorch PoolArea   PoolQC  \\\n0         Reg         Lvl    AllPub  ...           0        0  No_item   \n1         Reg         Lvl    AllPub  ...           0        0  No_item   \n2         IR1         Lvl    AllPub  ...           0        0  No_item   \n3         IR1         Lvl    AllPub  ...           0        0  No_item   \n4         IR1         Lvl    AllPub  ...           0        0  No_item   \n...       ...         ...       ...  ...         ...      ...      ...   \n1451      Reg         Lvl    AllPub  ...           0        0  No_item   \n1452      Reg         Lvl    AllPub  ...           0        0  No_item   \n1453      Reg         Lvl    AllPub  ...           0        0  No_item   \n1454      Reg         Lvl    AllPub  ...           0        0  No_item   \n1455      Reg         Lvl    AllPub  ...           0        0  No_item   \n\n        Fence MiscFeature MiscVal MoSold  YrSold  SaleType  SaleCondition  \n0     No_item     No_item       0      2    2008        WD         Normal  \n1     No_item     No_item       0      5    2007        WD         Normal  \n2     No_item     No_item       0      9    2008        WD         Normal  \n3     No_item     No_item       0      2    2006        WD        Abnorml  \n4     No_item     No_item       0     12    2008        WD         Normal  \n...       ...         ...     ...    ...     ...       ...            ...  \n1451  No_item     No_item       0      8    2007        WD         Normal  \n1452    MnPrv     No_item       0      2    2010        WD         Normal  \n1453    GdPrv        Shed    2500      5    2010        WD         Normal  \n1454  No_item     No_item       0      4    2010        WD         Normal  \n1455  No_item     No_item       0      6    2008        WD         Normal  \n\n[1456 rows x 79 columns]",
      "text/html": "<div>\n<style scoped>\n    .dataframe tbody tr th:only-of-type {\n        vertical-align: middle;\n    }\n\n    .dataframe tbody tr th {\n        vertical-align: top;\n    }\n\n    .dataframe thead th {\n        text-align: right;\n    }\n</style>\n<table border=\"1\" class=\"dataframe\">\n  <thead>\n    <tr style=\"text-align: right;\">\n      <th></th>\n      <th>Id</th>\n      <th>MSSubClass</th>\n      <th>MSZoning</th>\n      <th>LotFrontage</th>\n      <th>LotArea</th>\n      <th>Street</th>\n      <th>Alley</th>\n      <th>LotShape</th>\n      <th>LandContour</th>\n      <th>Utilities</th>\n      <th>...</th>\n      <th>ScreenPorch</th>\n      <th>PoolArea</th>\n      <th>PoolQC</th>\n      <th>Fence</th>\n      <th>MiscFeature</th>\n      <th>MiscVal</th>\n      <th>MoSold</th>\n      <th>YrSold</th>\n      <th>SaleType</th>\n      <th>SaleCondition</th>\n    </tr>\n  </thead>\n  <tbody>\n    <tr>\n      <th>0</th>\n      <td>1</td>\n      <td>60</td>\n      <td>RL</td>\n      <td>65.0</td>\n      <td>8450</td>\n      <td>Pave</td>\n      <td>No_item</td>\n      <td>Reg</td>\n      <td>Lvl</td>\n      <td>AllPub</td>\n      <td>...</td>\n      <td>0</td>\n      <td>0</td>\n      <td>No_item</td>\n      <td>No_item</td>\n      <td>No_item</td>\n      <td>0</td>\n      <td>2</td>\n      <td>2008</td>\n      <td>WD</td>\n      <td>Normal</td>\n    </tr>\n    <tr>\n      <th>1</th>\n      <td>2</td>\n      <td>20</td>\n      <td>RL</td>\n      <td>80.0</td>\n      <td>9600</td>\n      <td>Pave</td>\n      <td>No_item</td>\n      <td>Reg</td>\n      <td>Lvl</td>\n      <td>AllPub</td>\n      <td>...</td>\n      <td>0</td>\n      <td>0</td>\n      <td>No_item</td>\n      <td>No_item</td>\n      <td>No_item</td>\n      <td>0</td>\n      <td>5</td>\n      <td>2007</td>\n      <td>WD</td>\n      <td>Normal</td>\n    </tr>\n    <tr>\n      <th>2</th>\n      <td>3</td>\n      <td>60</td>\n      <td>RL</td>\n      <td>68.0</td>\n      <td>11250</td>\n      <td>Pave</td>\n      <td>No_item</td>\n      <td>IR1</td>\n      <td>Lvl</td>\n      <td>AllPub</td>\n      <td>...</td>\n      <td>0</td>\n      <td>0</td>\n      <td>No_item</td>\n      <td>No_item</td>\n      <td>No_item</td>\n      <td>0</td>\n      <td>9</td>\n      <td>2008</td>\n      <td>WD</td>\n      <td>Normal</td>\n    </tr>\n    <tr>\n      <th>3</th>\n      <td>4</td>\n      <td>70</td>\n      <td>RL</td>\n      <td>60.0</td>\n      <td>9550</td>\n      <td>Pave</td>\n      <td>No_item</td>\n      <td>IR1</td>\n      <td>Lvl</td>\n      <td>AllPub</td>\n      <td>...</td>\n      <td>0</td>\n      <td>0</td>\n      <td>No_item</td>\n      <td>No_item</td>\n      <td>No_item</td>\n      <td>0</td>\n      <td>2</td>\n      <td>2006</td>\n      <td>WD</td>\n      <td>Abnorml</td>\n    </tr>\n    <tr>\n      <th>4</th>\n      <td>5</td>\n      <td>60</td>\n      <td>RL</td>\n      <td>84.0</td>\n      <td>14260</td>\n      <td>Pave</td>\n      <td>No_item</td>\n      <td>IR1</td>\n      <td>Lvl</td>\n      <td>AllPub</td>\n      <td>...</td>\n      <td>0</td>\n      <td>0</td>\n      <td>No_item</td>\n      <td>No_item</td>\n      <td>No_item</td>\n      <td>0</td>\n      <td>12</td>\n      <td>2008</td>\n      <td>WD</td>\n      <td>Normal</td>\n    </tr>\n    <tr>\n      <th>...</th>\n      <td>...</td>\n      <td>...</td>\n      <td>...</td>\n      <td>...</td>\n      <td>...</td>\n      <td>...</td>\n      <td>...</td>\n      <td>...</td>\n      <td>...</td>\n      <td>...</td>\n      <td>...</td>\n      <td>...</td>\n      <td>...</td>\n      <td>...</td>\n      <td>...</td>\n      <td>...</td>\n      <td>...</td>\n      <td>...</td>\n      <td>...</td>\n      <td>...</td>\n      <td>...</td>\n    </tr>\n    <tr>\n      <th>1451</th>\n      <td>1456</td>\n      <td>60</td>\n      <td>RL</td>\n      <td>62.0</td>\n      <td>7917</td>\n      <td>Pave</td>\n      <td>No_item</td>\n      <td>Reg</td>\n      <td>Lvl</td>\n      <td>AllPub</td>\n      <td>...</td>\n      <td>0</td>\n      <td>0</td>\n      <td>No_item</td>\n      <td>No_item</td>\n      <td>No_item</td>\n      <td>0</td>\n      <td>8</td>\n      <td>2007</td>\n      <td>WD</td>\n      <td>Normal</td>\n    </tr>\n    <tr>\n      <th>1452</th>\n      <td>1457</td>\n      <td>20</td>\n      <td>RL</td>\n      <td>85.0</td>\n      <td>13175</td>\n      <td>Pave</td>\n      <td>No_item</td>\n      <td>Reg</td>\n      <td>Lvl</td>\n      <td>AllPub</td>\n      <td>...</td>\n      <td>0</td>\n      <td>0</td>\n      <td>No_item</td>\n      <td>MnPrv</td>\n      <td>No_item</td>\n      <td>0</td>\n      <td>2</td>\n      <td>2010</td>\n      <td>WD</td>\n      <td>Normal</td>\n    </tr>\n    <tr>\n      <th>1453</th>\n      <td>1458</td>\n      <td>70</td>\n      <td>RL</td>\n      <td>66.0</td>\n      <td>9042</td>\n      <td>Pave</td>\n      <td>No_item</td>\n      <td>Reg</td>\n      <td>Lvl</td>\n      <td>AllPub</td>\n      <td>...</td>\n      <td>0</td>\n      <td>0</td>\n      <td>No_item</td>\n      <td>GdPrv</td>\n      <td>Shed</td>\n      <td>2500</td>\n      <td>5</td>\n      <td>2010</td>\n      <td>WD</td>\n      <td>Normal</td>\n    </tr>\n    <tr>\n      <th>1454</th>\n      <td>1459</td>\n      <td>20</td>\n      <td>RL</td>\n      <td>68.0</td>\n      <td>9717</td>\n      <td>Pave</td>\n      <td>No_item</td>\n      <td>Reg</td>\n      <td>Lvl</td>\n      <td>AllPub</td>\n      <td>...</td>\n      <td>0</td>\n      <td>0</td>\n      <td>No_item</td>\n      <td>No_item</td>\n      <td>No_item</td>\n      <td>0</td>\n      <td>4</td>\n      <td>2010</td>\n      <td>WD</td>\n      <td>Normal</td>\n    </tr>\n    <tr>\n      <th>1455</th>\n      <td>1460</td>\n      <td>20</td>\n      <td>RL</td>\n      <td>75.0</td>\n      <td>9937</td>\n      <td>Pave</td>\n      <td>No_item</td>\n      <td>Reg</td>\n      <td>Lvl</td>\n      <td>AllPub</td>\n      <td>...</td>\n      <td>0</td>\n      <td>0</td>\n      <td>No_item</td>\n      <td>No_item</td>\n      <td>No_item</td>\n      <td>0</td>\n      <td>6</td>\n      <td>2008</td>\n      <td>WD</td>\n      <td>Normal</td>\n    </tr>\n  </tbody>\n</table>\n<p>1456 rows × 79 columns</p>\n</div>"
     },
     "execution_count": 174,
     "metadata": {},
     "output_type": "execute_result"
    }
   ],
   "source": [
    "X"
   ],
   "metadata": {
    "collapsed": false,
    "ExecuteTime": {
     "end_time": "2024-12-07T20:51:48.951415Z",
     "start_time": "2024-12-07T20:51:48.895037Z"
    }
   },
   "id": "3056da1ba764d359"
  },
  {
   "cell_type": "code",
   "execution_count": 175,
   "outputs": [
    {
     "data": {
      "text/plain": "0"
     },
     "execution_count": 175,
     "metadata": {},
     "output_type": "execute_result"
    }
   ],
   "source": [
    "sum(y == 'RL')"
   ],
   "metadata": {
    "collapsed": false,
    "ExecuteTime": {
     "end_time": "2024-12-07T20:51:51.557458Z",
     "start_time": "2024-12-07T20:51:51.542028Z"
    }
   },
   "id": "4837dc9b4cce6cbb"
  },
  {
   "cell_type": "code",
   "execution_count": 176,
   "outputs": [
    {
     "data": {
      "text/plain": "0       208500\n1       181500\n2       223500\n3       140000\n4       250000\n         ...  \n1451    175000\n1452    210000\n1453    266500\n1454    142125\n1455    147500\nName: SalePrice, Length: 1456, dtype: int64"
     },
     "execution_count": 176,
     "metadata": {},
     "output_type": "execute_result"
    }
   ],
   "source": [
    "y"
   ],
   "metadata": {
    "collapsed": false,
    "ExecuteTime": {
     "end_time": "2024-12-07T20:51:52.190941Z",
     "start_time": "2024-12-07T20:51:52.155376Z"
    }
   },
   "id": "468d4a35f8247e94"
  },
  {
   "cell_type": "code",
   "execution_count": 186,
   "outputs": [],
   "source": [
    "model = RandomForestRegressor(random_state=42)\n",
    "kf = KFold(n_splits=5, shuffle=True, random_state=42)\n",
    "\n",
    "r2 = {\"train\": [], \"test\": []}\n",
    "mae = {\"train\": [], \"test\": []}\n",
    "feature_importances = pd.DataFrame(index=X.columns)\n",
    "\n",
    "for fold, (train_index, test_index) in enumerate(kf.split(X), 1):\n",
    "    X_train, X_test = X.iloc[train_index], X.iloc[test_index]\n",
    "    y_train, y_test = y.iloc[train_index], y.iloc[test_index]\n",
    "    \n",
    "    preprocessor.fit(X_train)\n",
    "    X_train_preprocessed = preprocessor.transform(X_train)\n",
    "    X_test_preprocessed = preprocessor.transform(X_test)\n",
    "    \n",
    "    model.fit(X_train_preprocessed, y_train)\n",
    "    \n",
    "    y_train_pred = model.predict(X_train_preprocessed)\n",
    "    train_mae = mean_absolute_error(y_train, y_train_pred)\n",
    "    train_r2 = model.score(X_train_preprocessed, y_train)\n",
    "    \n",
    "    y_test_pred = model.predict(X_test_preprocessed)\n",
    "    test_mae = mean_absolute_error(y_test, y_test_pred)\n",
    "    test_r2 = model.score(X_test_preprocessed, y_test)\n",
    "    \n",
    "    r2[\"train\"].append(train_r2)\n",
    "    r2[\"test\"].append(test_r2)\n",
    "    mae[\"train\"].append(train_mae)\n",
    "    mae[\"test\"].append(test_mae)\n",
    "\n",
    "    \n",
    "    fold_importances = pd.Series(model.feature_importances_, index=X.columns)\n",
    "    feature_importances = pd.concat([feature_importances, fold_importances], axis=1)\n",
    "\n",
    "feature_importances['mean_importance'] = feature_importances.mean(axis=1)\n",
    "feature_importances = feature_importances[['mean_importance']].sort_values(by='mean_importance', ascending=False)"
   ],
   "metadata": {
    "collapsed": false,
    "ExecuteTime": {
     "end_time": "2024-12-07T20:56:37.039666Z",
     "start_time": "2024-12-07T20:56:30.690183Z"
    }
   },
   "id": "531bd7af8ba05576"
  },
  {
   "cell_type": "code",
   "execution_count": 187,
   "outputs": [
    {
     "data": {
      "text/plain": "         train          test\n0  6244.614433  16407.441815\n1  6366.476635  16157.490412\n2  6242.790455  18994.633711\n3  6471.111511  16957.311375\n4  6363.588000  15571.492509",
      "text/html": "<div>\n<style scoped>\n    .dataframe tbody tr th:only-of-type {\n        vertical-align: middle;\n    }\n\n    .dataframe tbody tr th {\n        vertical-align: top;\n    }\n\n    .dataframe thead th {\n        text-align: right;\n    }\n</style>\n<table border=\"1\" class=\"dataframe\">\n  <thead>\n    <tr style=\"text-align: right;\">\n      <th></th>\n      <th>train</th>\n      <th>test</th>\n    </tr>\n  </thead>\n  <tbody>\n    <tr>\n      <th>0</th>\n      <td>6244.614433</td>\n      <td>16407.441815</td>\n    </tr>\n    <tr>\n      <th>1</th>\n      <td>6366.476635</td>\n      <td>16157.490412</td>\n    </tr>\n    <tr>\n      <th>2</th>\n      <td>6242.790455</td>\n      <td>18994.633711</td>\n    </tr>\n    <tr>\n      <th>3</th>\n      <td>6471.111511</td>\n      <td>16957.311375</td>\n    </tr>\n    <tr>\n      <th>4</th>\n      <td>6363.588000</td>\n      <td>15571.492509</td>\n    </tr>\n  </tbody>\n</table>\n</div>"
     },
     "execution_count": 187,
     "metadata": {},
     "output_type": "execute_result"
    }
   ],
   "source": [
    "pd.DataFrame.from_dict(mae)"
   ],
   "metadata": {
    "collapsed": false,
    "ExecuteTime": {
     "end_time": "2024-12-07T20:56:37.046836Z",
     "start_time": "2024-12-07T20:56:37.043117Z"
    }
   },
   "id": "e4afbc8f85f01f00"
  },
  {
   "cell_type": "code",
   "execution_count": 188,
   "outputs": [
    {
     "data": {
      "text/plain": "      train      test\n0  0.983463  0.895092\n1  0.981943  0.910910\n2  0.983808  0.863372\n3  0.982933  0.878497\n4  0.984175  0.880736",
      "text/html": "<div>\n<style scoped>\n    .dataframe tbody tr th:only-of-type {\n        vertical-align: middle;\n    }\n\n    .dataframe tbody tr th {\n        vertical-align: top;\n    }\n\n    .dataframe thead th {\n        text-align: right;\n    }\n</style>\n<table border=\"1\" class=\"dataframe\">\n  <thead>\n    <tr style=\"text-align: right;\">\n      <th></th>\n      <th>train</th>\n      <th>test</th>\n    </tr>\n  </thead>\n  <tbody>\n    <tr>\n      <th>0</th>\n      <td>0.983463</td>\n      <td>0.895092</td>\n    </tr>\n    <tr>\n      <th>1</th>\n      <td>0.981943</td>\n      <td>0.910910</td>\n    </tr>\n    <tr>\n      <th>2</th>\n      <td>0.983808</td>\n      <td>0.863372</td>\n    </tr>\n    <tr>\n      <th>3</th>\n      <td>0.982933</td>\n      <td>0.878497</td>\n    </tr>\n    <tr>\n      <th>4</th>\n      <td>0.984175</td>\n      <td>0.880736</td>\n    </tr>\n  </tbody>\n</table>\n</div>"
     },
     "execution_count": 188,
     "metadata": {},
     "output_type": "execute_result"
    }
   ],
   "source": [
    "pd.DataFrame.from_dict(r2)"
   ],
   "metadata": {
    "collapsed": false,
    "ExecuteTime": {
     "end_time": "2024-12-07T20:56:48.279354Z",
     "start_time": "2024-12-07T20:56:48.262802Z"
    }
   },
   "id": "2aa254f9314ea9b2"
  },
  {
   "cell_type": "code",
   "execution_count": 191,
   "outputs": [
    {
     "data": {
      "text/plain": "             mean_importance\nOverallQual     5.842843e-01\nGrLivArea       1.145185e-01\nTotalBsmtSF     4.053258e-02\nBsmtFinSF1      3.089661e-02\n1stFlrSF        2.446239e-02\n...                      ...\nCondition2      3.572230e-05\nMiscFeature     2.630802e-05\nStreet          1.662733e-05\nPoolQC          1.298109e-05\nUtilities       3.364858e-08\n\n[79 rows x 1 columns]",
      "text/html": "<div>\n<style scoped>\n    .dataframe tbody tr th:only-of-type {\n        vertical-align: middle;\n    }\n\n    .dataframe tbody tr th {\n        vertical-align: top;\n    }\n\n    .dataframe thead th {\n        text-align: right;\n    }\n</style>\n<table border=\"1\" class=\"dataframe\">\n  <thead>\n    <tr style=\"text-align: right;\">\n      <th></th>\n      <th>mean_importance</th>\n    </tr>\n  </thead>\n  <tbody>\n    <tr>\n      <th>OverallQual</th>\n      <td>5.842843e-01</td>\n    </tr>\n    <tr>\n      <th>GrLivArea</th>\n      <td>1.145185e-01</td>\n    </tr>\n    <tr>\n      <th>TotalBsmtSF</th>\n      <td>4.053258e-02</td>\n    </tr>\n    <tr>\n      <th>BsmtFinSF1</th>\n      <td>3.089661e-02</td>\n    </tr>\n    <tr>\n      <th>1stFlrSF</th>\n      <td>2.446239e-02</td>\n    </tr>\n    <tr>\n      <th>...</th>\n      <td>...</td>\n    </tr>\n    <tr>\n      <th>Condition2</th>\n      <td>3.572230e-05</td>\n    </tr>\n    <tr>\n      <th>MiscFeature</th>\n      <td>2.630802e-05</td>\n    </tr>\n    <tr>\n      <th>Street</th>\n      <td>1.662733e-05</td>\n    </tr>\n    <tr>\n      <th>PoolQC</th>\n      <td>1.298109e-05</td>\n    </tr>\n    <tr>\n      <th>Utilities</th>\n      <td>3.364858e-08</td>\n    </tr>\n  </tbody>\n</table>\n<p>79 rows × 1 columns</p>\n</div>"
     },
     "execution_count": 191,
     "metadata": {},
     "output_type": "execute_result"
    }
   ],
   "source": [
    "feature_importances.sort_values(by=\"mean_importance\", ascending=False)"
   ],
   "metadata": {
    "collapsed": false,
    "ExecuteTime": {
     "end_time": "2024-12-07T20:57:30.584933Z",
     "start_time": "2024-12-07T20:57:30.582553Z"
    }
   },
   "id": "7a36d17c1356d031"
  },
  {
   "cell_type": "code",
   "execution_count": null,
   "outputs": [],
   "source": [],
   "metadata": {
    "collapsed": false
   },
   "id": "eb40c2e79512889d"
  }
 ],
 "metadata": {
  "kernelspec": {
   "display_name": "Python 3",
   "language": "python",
   "name": "python3"
  },
  "language_info": {
   "codemirror_mode": {
    "name": "ipython",
    "version": 2
   },
   "file_extension": ".py",
   "mimetype": "text/x-python",
   "name": "python",
   "nbconvert_exporter": "python",
   "pygments_lexer": "ipython2",
   "version": "2.7.6"
  }
 },
 "nbformat": 4,
 "nbformat_minor": 5
}
